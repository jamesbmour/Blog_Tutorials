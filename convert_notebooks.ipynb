{
 "cells": [
  {
   "metadata": {},
   "cell_type": "markdown",
   "source": "# Convert notebooks to markdown\n",
   "id": "8d2ca51164c944ad"
  },
  {
   "metadata": {
    "ExecuteTime": {
     "end_time": "2024-08-21T13:18:23.690410Z",
     "start_time": "2024-08-21T13:18:23.688658Z"
    }
   },
   "cell_type": "code",
   "source": [
    "# Path: convert_notebooks.ipynb\n",
    "import os\n",
    "import nbformat\n",
    "from nbconvert import MarkdownExporter\n"
   ],
   "id": "fb325d191e8cfcbf",
   "outputs": [],
   "execution_count": 6
  },
  {
   "metadata": {
    "ExecuteTime": {
     "end_time": "2024-08-21T13:18:23.700816Z",
     "start_time": "2024-08-21T13:18:23.698141Z"
    }
   },
   "cell_type": "code",
   "source": [
    "\n",
    "# get the list of notebooks\n",
    "nb_dir = 'Langchian'\n",
    "# get file paths\n",
    "notebooks = [os.path.join(nb_dir, f) for f in os.listdir(nb_dir) if f.endswith('.ipynb')]\n",
    "notebooks\n"
   ],
   "id": "a810cc869f882707",
   "outputs": [
    {
     "data": {
      "text/plain": [
       "['Langchian/langchain_part4.ipynb']"
      ]
     },
     "execution_count": 7,
     "metadata": {},
     "output_type": "execute_result"
    }
   ],
   "execution_count": 7
  },
  {
   "metadata": {
    "ExecuteTime": {
     "end_time": "2024-08-21T13:18:23.881712Z",
     "start_time": "2024-08-21T13:18:23.767542Z"
    }
   },
   "cell_type": "code",
   "source": [
    "# convert the notebooks to markdown\n",
    "for notebook in notebooks:\n",
    "    with open(notebook) as f:\n",
    "        nb = nbformat.read(f, as_version=4)\n",
    "        md_exporter = MarkdownExporter()\n",
    "        body, resources = md_exporter.from_notebook_node(nb)\n",
    "        with open(notebook.replace('.ipynb', '.md'), 'w') as f:\n",
    "            f.write(body)\n",
    "            \n",
    "            \n",
    "            "
   ],
   "id": "a04329f7a9e828f4",
   "outputs": [],
   "execution_count": 8
  },
  {
   "metadata": {
    "ExecuteTime": {
     "end_time": "2024-08-21T13:18:23.886939Z",
     "start_time": "2024-08-21T13:18:23.885665Z"
    }
   },
   "cell_type": "code",
   "source": "",
   "id": "528333a7893f8477",
   "outputs": [],
   "execution_count": null
  }
 ],
 "metadata": {
  "kernelspec": {
   "display_name": "Python 3",
   "language": "python",
   "name": "python3"
  },
  "language_info": {
   "codemirror_mode": {
    "name": "ipython",
    "version": 2
   },
   "file_extension": ".py",
   "mimetype": "text/x-python",
   "name": "python",
   "nbconvert_exporter": "python",
   "pygments_lexer": "ipython2",
   "version": "2.7.6"
  }
 },
 "nbformat": 4,
 "nbformat_minor": 5
}
