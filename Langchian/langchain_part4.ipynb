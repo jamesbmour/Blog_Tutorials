{
 "cells": [
  {
   "metadata": {},
   "cell_type": "markdown",
   "source": [
    "# LangChain Part 4 - Leveraging Memory and Storage in LangChain: A Comprehensive Guide\n",
    "\n",
    "In the ever-evolving world of conversational AI and language models, maintaining context and efficiently managing information flow are critical components of building intelligent applications. LangChain, a powerful framework designed for working with large language models (LLMs), offers robust tools for memory management and data persistence, enabling the creation of context-aware systems.\n",
    "\n",
    "In this guide, we'll delve into the nuances of leveraging memory and storage in LangChain to build smarter, more responsive applications.\n",
    "\n",
    "## 1. Working with Memory in LangChain\n",
    "\n",
    "Memory management in LangChain allows applications to retain context, making interactions more coherent and contextually relevant. Let’s explore the different memory types and their use cases.\n",
    "\n",
    "### 1.1. Types of Memory\n",
    "\n",
    "LangChain provides various memory types to address different scenarios. Here, we’ll focus on two key types:\n",
    "\n",
    "**ConversationBufferMemory**\n",
    "\n",
    "This memory type is ideal for short-term context retention, capturing and recalling recent interactions in a conversation."
   ]
  },
  {
   "cell_type": "code",
   "metadata": {},
   "source": [
    "from abc import ABC\n",
    "\n",
    "from langchain.memory import ConversationBufferMemory\n",
    "\n",
    "memory = ConversationBufferMemory()\n",
    "memory.save_context({\"input\": \"Hi, I'm Alice\"}, {\"output\": \"Hello Alice, how can I help you today?\"})\n",
    "memory.save_context({\"input\": \"What's the weather like?\"}, {\"output\": \"I'm sorry, I don't have real-time weather information. Is there anything else I can help you with?\"})\n",
    "\n",
    "print(memory.load_memory_variables({}))\n"
   ],
   "outputs": [],
   "execution_count": null
  },
  {
   "metadata": {},
   "cell_type": "markdown",
   "source": [
    "**ConversationSummaryMemory**\n",
    "\n",
    "For longer conversations, **ConversationSummaryMemory** is a great choice. It summarizes key points, maintaining context without overwhelming detail."
   ]
  },
  {
   "metadata": {},
   "cell_type": "code",
   "source": [
    "from langchain.memory import ConversationSummaryMemory\n",
    "from langchain.llms import Ollama \n",
    "# set llm model`\n",
    "\n",
    "\n",
    "llm = Ollama(model='phi3',temperature=0)\n",
    "memory = ConversationSummaryMemory(llm=llm)\n",
    "memory.save_context({\"input\": \"Hi, I'm Alice\"}, {\"output\": \"Hello Alice, how can I help you today?\"})\n",
    "memory.save_context({\"input\": \"I'm looking for a good Italian restaurant\"}, {\"output\": \"Great! I'd be happy to help you find a good Italian restaurant. Do you have any specific preferences or requirements, such as location, price range, or specific dishes you're interested in?\"})\n",
    "\n",
    "print(memory.load_memory_variables({}))\n"
   ],
   "outputs": [],
   "execution_count": null
  },
  {
   "metadata": {},
   "cell_type": "markdown",
   "source": [
    "### 1.2. Choosing the Right Memory Type for Your Use Case\n",
    "\n",
    "Selecting the appropriate memory type depends on several factors:\n",
    "\n",
    "- **Duration and Complexity**: Short sessions benefit from detailed context retention with ConversationBufferMemory, while long-term interactions may require summarization via ConversationSummaryMemory.\n",
    "- **Detail vs. Overview**: Determine whether detailed interaction history or high-level summaries are more valuable for your application.\n",
    "- **Performance**: Consider the trade-offs between the memory size and retrieval speed.\n",
    "\n",
    "**Use Cases:**\n",
    "\n",
    "- **ConversationBufferMemory**: Ideal for quick customer support or FAQ-style interactions.\n",
    "- **ConversationSummaryMemory**: Best suited for long-term engagements like project management or ongoing customer interactions.\n",
    "\n",
    "### 1.3. Integrating Memory into Chains and Agents\n",
    "\n",
    "Memory can be seamlessly integrated into LangChain chains and agents to enhance conversational capabilities."
   ]
  },
  {
   "metadata": {},
   "cell_type": "code",
   "source": [
    "from langchain.chains import ConversationChain  \n",
    "from langchain.memory import ConversationBufferMemory\n",
    "from langchain.llms import OpenAI\n",
    "\n",
    "# llm = OpenAI(temperature=0)\n",
    "memory = ConversationBufferMemory()\n",
    "conversation = ConversationChain(\n",
    "    llm=llm,\n",
    "    memory=memory,\n",
    "    verbose=True\n",
    ")\n",
    "\n",
    "conversation.predict(input=\"Hi, I'm Alice\")\n",
    "conversation.predict(input=\"What's my name?\")\n"
   ],
   "outputs": [],
   "execution_count": null
  },
  {
   "metadata": {},
   "cell_type": "markdown",
   "source": [
    "This example illustrates how **ConversationBufferMemory** can be used to remember previous interactions, enabling more natural conversations.\n",
    "\n",
    "## 2. Persisting and Retrieving Data\n",
    "\n",
    "Persistent storage ensures that conversation history and context are maintained across sessions, enabling continuity in interactions.\n",
    "\n",
    "### 2.1. Storing Conversation History and State\n",
    "\n",
    "For basic persistence, you can use file-based storage with JSON:"
   ]
  },
  {
   "metadata": {},
   "cell_type": "code",
   "source": [
    "import json\n",
    "\n",
    "class PersistentMemory:\n",
    "    def __init__(self, file_path):\n",
    "        self.file_path = file_path\n",
    "        self.load_memory()\n",
    "\n",
    "    def load_memory(self):\n",
    "        try:\n",
    "            with open(self.file_path, 'r') as f:\n",
    "                self.chat_memory = json.load(f)\n",
    "        except FileNotFoundError:\n",
    "            self.chat_memory = {'messages': []}\n",
    "\n",
    "    def save_memory(self):\n",
    "        with open(self.file_path, 'w') as f:\n",
    "            json.dump({'messages': self.chat_memory['messages']}, f)\n",
    "\n",
    "# Usage\n",
    "memory = PersistentMemory(file_path='conversation_history.json')\n",
    "print(memory.chat_memory)"
   ],
   "outputs": [],
   "execution_count": null
  },
  {
   "metadata": {},
   "cell_type": "markdown",
   "source": [
    "This method allows you to persist conversation history in a simple, human-readable format.\n",
    "\n",
    "### 2.2. Integrating with Databases and Storage Systems\n",
    "\n",
    "For more scalable and efficient storage, integrating with databases like SQLite is recommended:"
   ]
  },
  {
   "metadata": {},
   "cell_type": "code",
   "source": [
    "# store memory in SQLite database\n",
    "import sqlite3\n",
    "\n",
    "class SQLiteMemory:\n",
    "    def __init__(self, db_path):\n",
    "        self.db_path = db_path\n",
    "        self.conn = sqlite3.connect(db_path)\n",
    "        self.create_table()\n",
    "\n",
    "    def create_table(self):\n",
    "        cursor = self.conn.cursor()\n",
    "        cursor.execute('''\n",
    "            CREATE TABLE IF NOT EXISTS conversations\n",
    "            (id INTEGER PRIMARY KEY, input TEXT, output TEXT)\n",
    "        ''')\n",
    "        self.conn.commit()\n",
    "\n",
    "    def save_context(self, inputs, outputs):\n",
    "        cursor = self.conn.cursor()\n",
    "        cursor.execute('INSERT INTO conversations (input, output) VALUES (?, ?)',\n",
    "                       (inputs['input'], outputs['output']))\n",
    "        self.conn.commit()\n",
    "\n",
    "    def load_memory_variables(self, inputs):\n",
    "        cursor = self.conn.cursor()\n",
    "        cursor.execute('SELECT input, output FROM conversations ORDER BY id DESC LIMIT 10')\n",
    "        rows = cursor.fetchall()\n",
    "        history = \"\\\\n\".join([f\"Human: {row[0]}\\\\nAI: {row[1]}\" for row in reversed(rows)])\n",
    "        return {\"history\": history }\n",
    "    \n",
    "# Usage\n",
    "memory = SQLiteMemory('conversation_history.db')\n",
    "\n",
    "print(memory.load_memory_variables({}))"
   ],
   "outputs": [],
   "execution_count": null
  },
  {
   "metadata": {},
   "cell_type": "markdown",
   "source": [
    "### 3 Optimizing Memory Usage and Performance\n",
    "\n",
    "To ensure your application remains responsive, consider these optimization strategies:\n",
    "\n",
    "- **Efficient Data Structures**: Use structures like `deque` for managing fixed-size buffers.\n",
    "- **Caching Strategies**: Reduce database queries by implementing caching for frequently accessed data.\n",
    "- **Data Pruning**: Regularly prune or summarize old data to maintain a manageable memory size.\n",
    "\n",
    "Here’s an example of a memory class with basic caching:"
   ]
  },
  {
   "metadata": {},
   "cell_type": "code",
   "source": [
    "import time\n",
    "\n",
    "class CachedSQLiteMemory(SQLiteMemory):\n",
    "    def __init__(self, db_path, cache_ttl=60):\n",
    "        super().__init__(db_path)\n",
    "        self.cache = None\n",
    "        self.cache_time = 0\n",
    "        self.cache_ttl = cache_ttl\n",
    "        \n",
    "    def load_memory_variables(self, inputs):\n",
    "        current_time = time.time()\n",
    "        if self.cache is None or (current_time - self.cache_time) > self.cache_ttl:\n",
    "            var = self.cache\n",
    "            self.cache = super().load_memory_variables(inputs)\n",
    "            self.cache_time = current_time\n",
    "            return self.cache\n",
    "\n",
    "memory = CachedSQLiteMemory('conversation_history.db', cache_ttl=30)"
   ],
   "outputs": [],
   "execution_count": null
  },
  {
   "metadata": {},
   "cell_type": "markdown",
   "source": [
    "This implementation caches the results of database queries for a specified time, reducing the load on the database and improving performance for applications that frequently access memory data.\n",
    "\n",
    "## Conclusion\n",
    "\n",
    "Effective memory management is a cornerstone of building intelligent, context-aware conversational AI applications. LangChain provides a flexible and powerful framework for managing memory, allowing developers to tailor memory types to specific use cases, implement persistent storage solutions, and optimize performance for large-scale applications.\n",
    "\n",
    "By choosing the right memory type, integrating persistent storage, and leveraging advanced techniques such as custom memory classes and caching strategies, you can build sophisticated AI systems that maintain context, improve user experience, and operate efficiently even as the scale and complexity of interactions grow.\n",
    "\n",
    "With these tools and techniques at your disposal, you are well-equipped to harness the full potential of LangChain in creating responsive, intelligent, and contextually aware AI applications. Whether you’re developing customer support bots, virtual assistants, or complex conversational systems, mastering memory and storage in LangChain will be a key factor in your success."
   ]
  }
 ],
 "metadata": {
  "kernelspec": {
   "display_name": "py311",
   "language": "python",
   "name": "python3"
  },
  "language_info": {
   "name": "python",
   "version": "3.11.9"
  }
 },
 "nbformat": 4,
 "nbformat_minor": 2
}
