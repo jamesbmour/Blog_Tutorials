{
 "cells": [
  {
   "metadata": {},
   "cell_type": "markdown",
   "source": [
    "# LangChain Part 4\n",
    "\n",
    "# **Leveraging Memory and Storage in LangChain: A Comprehensive Guide**\n",
    "\n",
    "In the ever-evolving world of conversational AI and language models, maintaining context and efficiently managing information flow are critical components of building intelligent applications. LangChain, a powerful framework designed for working with large language models (LLMs), offers robust tools for memory management and data persistence, enabling the creation of context-aware systems.\n",
    "\n",
    "In this guide, we'll delve into the nuances of leveraging memory and storage in LangChain to build smarter, more responsive applications.\n",
    "\n",
    "## 1. Working with Memory in LangChain\n",
    "\n",
    "Memory management in LangChain allows applications to retain context, making interactions more coherent and contextually relevant. Let’s explore the different memory types and their use cases.\n",
    "\n",
    "### 1.1. Types of Memory\n",
    "\n",
    "LangChain provides various memory types to address different scenarios. Here, we’ll focus on two key types:\n",
    "\n",
    "**ConversationBufferMemory**\n",
    "\n",
    "This memory type is ideal for short-term context retention, capturing and recalling recent interactions in a conversation."
   ]
  },
  {
   "cell_type": "code",
   "metadata": {
    "ExecuteTime": {
     "end_time": "2024-08-21T11:43:40.373556Z",
     "start_time": "2024-08-21T11:43:40.370356Z"
    }
   },
   "source": [
    "from langchain.memory import ConversationBufferMemory\n",
    "\n",
    "memory = ConversationBufferMemory()\n",
    "memory.save_context({\"input\": \"Hi, I'm Alice\"}, {\"output\": \"Hello Alice, how can I help you today?\"})\n",
    "memory.save_context({\"input\": \"What's the weather like?\"}, {\"output\": \"I'm sorry, I don't have real-time weather information. Is there anything else I can help you with?\"})\n",
    "\n",
    "print(memory.load_memory_variables({}))\n"
   ],
   "outputs": [
    {
     "name": "stdout",
     "output_type": "stream",
     "text": [
      "{'history': \"Human: Hi, I'm Alice\\nAI: Hello Alice, how can I help you today?\\nHuman: What's the weather like?\\nAI: I'm sorry, I don't have real-time weather information. Is there anything else I can help you with?\"}\n"
     ]
    }
   ],
   "execution_count": 6
  },
  {
   "metadata": {},
   "cell_type": "markdown",
   "source": [
    "**ConversationSummaryMemory**\n",
    "\n",
    "For longer conversations, **ConversationSummaryMemory** is a great choice. It summarizes key points, maintaining context without overwhelming detail."
   ]
  },
  {
   "metadata": {
    "ExecuteTime": {
     "end_time": "2024-08-21T11:44:41.798540Z",
     "start_time": "2024-08-21T11:44:40.177372Z"
    }
   },
   "cell_type": "code",
   "source": [
    "from langchain.memory import ConversationSummaryMemory\n",
    "from langchain.llms import Ollama \n",
    "# set llm model`\n",
    "\n",
    "\n",
    "llm = Ollama(model='phi3',temperature=0)\n",
    "memory = ConversationSummaryMemory(llm=llm)\n",
    "memory.save_context({\"input\": \"Hi, I'm Alice\"}, {\"output\": \"Hello Alice, how can I help you today?\"})\n",
    "memory.save_context({\"input\": \"I'm looking for a good Italian restaurant\"}, {\"output\": \"Great! I'd be happy to help you find a good Italian restaurant. Do you have any specific preferences or requirements, such as location, price range, or specific dishes you're interested in?\"})\n",
    "\n",
    "print(memory.load_memory_variables({}))\n"
   ],
   "outputs": [
    {
     "name": "stdout",
     "output_type": "stream",
     "text": [
      "{'history': \"The human introduces themselves as Alice and asks the AI for assistance with something they need at that moment. The next day, Alice expresses her desire to find a good Italian restaurant, prompting the AI to offer help by asking about specific preferences or requirements such as location, price range, or particular dishes she'd like to try.\"}\n"
     ]
    }
   ],
   "execution_count": 10
  },
  {
   "metadata": {},
   "cell_type": "markdown",
   "source": [
    "### 1.2. Choosing the Right Memory Type for Your Use Case\n",
    "\n",
    "Selecting the appropriate memory type depends on several factors:\n",
    "\n",
    "- **Duration and Complexity**: Short sessions benefit from detailed context retention with ConversationBufferMemory, while long-term interactions may require summarization via ConversationSummaryMemory.\n",
    "- **Detail vs. Overview**: Determine whether detailed interaction history or high-level summaries are more valuable for your application.\n",
    "- **Performance**: Consider the trade-offs between the memory size and retrieval speed.\n",
    "\n",
    "**Use Cases:**\n",
    "\n",
    "- **ConversationBufferMemory**: Ideal for quick customer support or FAQ-style interactions.\n",
    "- **ConversationSummaryMemory**: Best suited for long-term engagements like project management or ongoing customer interactions.\n",
    "\n",
    "### 1.3. Integrating Memory into Chains and Agents\n",
    "\n",
    "Memory can be seamlessly integrated into LangChain chains and agents to enhance conversational capabilities."
   ]
  },
  {
   "metadata": {
    "ExecuteTime": {
     "end_time": "2024-08-21T11:44:43.930481Z",
     "start_time": "2024-08-21T11:44:42.026014Z"
    }
   },
   "cell_type": "code",
   "source": [
    "from langchain.chains import ConversationChain\n",
    "from langchain.memory import ConversationBufferMemory\n",
    "from langchain.llms import OpenAI\n",
    "\n",
    "# llm = OpenAI(temperature=0)\n",
    "memory = ConversationBufferMemory()\n",
    "conversation = ConversationChain(\n",
    "    llm=llm,\n",
    "    memory=memory,\n",
    "    verbose=True\n",
    ")\n",
    "\n",
    "conversation.predict(input=\"Hi, I'm Alice\")\n",
    "conversation.predict(input=\"What's my name?\")\n"
   ],
   "outputs": [
    {
     "name": "stdout",
     "output_type": "stream",
     "text": [
      "\n",
      "\n",
      "\u001B[1m> Entering new ConversationChain chain...\u001B[0m\n",
      "Prompt after formatting:\n",
      "\u001B[32;1m\u001B[1;3mThe following is a friendly conversation between a human and an AI. The AI is talkative and provides lots of specific details from its context. If the AI does not know the answer to a question, it truthfully says it does not know.\n",
      "\n",
      "Current conversation:\n",
      "\n",
      "Human: Hi, I'm Alice\n",
      "AI:\u001B[0m\n"
     ]
    },
    {
     "name": "stderr",
     "output_type": "stream",
     "text": [
      "/Users/james/miniconda3/envs/py311/lib/python3.11/site-packages/langchain_core/_api/deprecation.py:141: LangChainDeprecationWarning: The class `ConversationChain` was deprecated in LangChain 0.2.7 and will be removed in 1.0. Use RunnableWithMessageHistory: https://api.python.langchain.com/en/latest/runnables/langchain_core.runnables.history.RunnableWithMessageHistory.html instead.\n",
      "  warn_deprecated(\n"
     ]
    },
    {
     "name": "stdout",
     "output_type": "stream",
     "text": [
      "\n",
      "\u001B[1m> Finished chain.\u001B[0m\n",
      "\n",
      "\n",
      "\u001B[1m> Entering new ConversationChain chain...\u001B[0m\n",
      "Prompt after formatting:\n",
      "\u001B[32;1m\u001B[1;3mThe following is a friendly conversation between a human and an AI. The AI is talkative and provides lots of specific details from its context. If the AI does not know the answer to a question, it truthfully says it does not know.\n",
      "\n",
      "Current conversation:\n",
      "Human: Hi, I'm Alice\n",
      "AI: Hello Alice! It's wonderful to meet you. How can I assist you today? Do share any specific interests or topics that pique your curiosity so we can dive into an engaging discussion together. Remember, there are no silly questions here—I'm always ready with information and insights on a wide range of subjects!\n",
      "Human: What's my name?\n",
      "AI:\u001B[0m\n",
      "\n",
      "\u001B[1m> Finished chain.\u001B[0m\n"
     ]
    },
    {
     "data": {
      "text/plain": [
       "\"Your name is Alice, as you mentioned at the beginning of our conversation. It’s lovely to have your company today, Alice. How may I help further in making this interaction even more delightful for you? Whether it's about hobbies, science facts, or just sharing a laugh over an interesting tidbit, feel free to ask away!\""
      ]
     },
     "execution_count": 11,
     "metadata": {},
     "output_type": "execute_result"
    }
   ],
   "execution_count": 11
  },
  {
   "metadata": {
    "ExecuteTime": {
     "end_time": "2024-08-21T11:45:14.405077Z",
     "start_time": "2024-08-21T11:45:12.376763Z"
    }
   },
   "cell_type": "code",
   "source": [
    "from langchain.chains import ConversationChain\n",
    "from langchain.memory import ConversationBufferMemory\n",
    "\n",
    "memory = ConversationBufferMemory()\n",
    "conversation = ConversationChain(\n",
    "    llm=llm,\n",
    "    memory=memory,\n",
    "    verbose=True\n",
    ")\n",
    "\n",
    "conversation.predict(input=\"Hi, I'm Alice\")\n",
    "conversation.predict(input=\"What's my name?\")\n"
   ],
   "outputs": [
    {
     "name": "stdout",
     "output_type": "stream",
     "text": [
      "\n",
      "\n",
      "\u001B[1m> Entering new ConversationChain chain...\u001B[0m\n",
      "Prompt after formatting:\n",
      "\u001B[32;1m\u001B[1;3mThe following is a friendly conversation between a human and an AI. The AI is talkative and provides lots of specific details from its context. If the AI does not know the answer to a question, it truthfully says it does not know.\n",
      "\n",
      "Current conversation:\n",
      "\n",
      "Human: Hi, I'm Alice\n",
      "AI:\u001B[0m\n",
      "\n",
      "\u001B[1m> Finished chain.\u001B[0m\n",
      "\n",
      "\n",
      "\u001B[1m> Entering new ConversationChain chain...\u001B[0m\n",
      "Prompt after formatting:\n",
      "\u001B[32;1m\u001B[1;3mThe following is a friendly conversation between a human and an AI. The AI is talkative and provides lots of specific details from its context. If the AI does not know the answer to a question, it truthfully says it does not know.\n",
      "\n",
      "Current conversation:\n",
      "Human: Hi, I'm Alice\n",
      "AI: Hello Alice! It's wonderful to meet you. How can I assist you today? Do share any specific interests or topics that pique your curiosity so we can dive into an engaging discussion together. Remember, there are no silly questions here—I'm always ready with information and insights on a wide range of subjects!\n",
      "Human: What's my name?\n",
      "AI:\u001B[0m\n",
      "\n",
      "\u001B[1m> Finished chain.\u001B[0m\n"
     ]
    },
    {
     "data": {
      "text/plain": [
       "\"Your name is Alice, as you mentioned at the beginning of our conversation. It’s lovely to have your company today, Alice. How may I help further in making this interaction even more delightful for you? Whether it's about hobbies, science facts, or just sharing a laugh over an interesting tidbit, feel free to ask away!\""
      ]
     },
     "execution_count": 12,
     "metadata": {},
     "output_type": "execute_result"
    }
   ],
   "execution_count": 12
  },
  {
   "metadata": {},
   "cell_type": "markdown",
   "source": [
    "This example illustrates how **ConversationBufferMemory** can be used to remember previous interactions, enabling more natural conversations.\n",
    "\n",
    "## 2. Persisting and Retrieving Data\n",
    "\n",
    "Persistent storage ensures that conversation history and context are maintained across sessions, enabling continuity in interactions.\n",
    "\n",
    "### 2.1. Storing Conversation History and State\n",
    "\n",
    "For basic persistence, you can use file-based storage with JSON:"
   ]
  },
  {
   "metadata": {
    "ExecuteTime": {
     "end_time": "2024-08-21T11:45:41.000836Z",
     "start_time": "2024-08-21T11:45:40.978389Z"
    }
   },
   "cell_type": "code",
   "source": [
    "import json\n",
    "from langchain.memory import ConversationBufferMemory\n",
    "\n",
    "class PersistentMemory(ConversationBufferMemory):\n",
    "    def __init__(self, file_path):\n",
    "        super().__init__()\n",
    "        self.file_path = file_path\n",
    "        self.load_memory()\n",
    "\n",
    "    def save_context(self, inputs, outputs):\n",
    "        super().save_context(inputs, outputs)\n",
    "        self.save_memory()\n",
    "\n",
    "    def load_memory(self):\n",
    "        try:\n",
    "            with open(self.file_path, 'r') as f:\n",
    "                data = json.load(f)\n",
    "                self.chat_memory.messages = data['messages']\n",
    "        except FileNotFoundError:\n",
    "            pass\n",
    "\n",
    "    def save_memory(self):\n",
    "        with open(self.file_path, 'w') as f:\n",
    "            json.dump({'messages': self.chat_memory.messages}, f)\n",
    "\n",
    "# Usage\n",
    "memory = PersistentMemory('conversation_history.json')\n"
   ],
   "outputs": [
    {
     "ename": "ValueError",
     "evalue": "\"PersistentMemory\" object has no field \"file_path\"",
     "output_type": "error",
     "traceback": [
      "\u001B[0;31m---------------------------------------------------------------------------\u001B[0m",
      "\u001B[0;31mValueError\u001B[0m                                Traceback (most recent call last)",
      "Cell \u001B[0;32mIn[13], line 27\u001B[0m\n\u001B[1;32m     24\u001B[0m             json\u001B[38;5;241m.\u001B[39mdump({\u001B[38;5;124m'\u001B[39m\u001B[38;5;124mmessages\u001B[39m\u001B[38;5;124m'\u001B[39m: \u001B[38;5;28mself\u001B[39m\u001B[38;5;241m.\u001B[39mchat_memory\u001B[38;5;241m.\u001B[39mmessages}, f)\n\u001B[1;32m     26\u001B[0m \u001B[38;5;66;03m# Usage\u001B[39;00m\n\u001B[0;32m---> 27\u001B[0m memory \u001B[38;5;241m=\u001B[39m PersistentMemory(\u001B[38;5;124m'\u001B[39m\u001B[38;5;124mconversation_history.json\u001B[39m\u001B[38;5;124m'\u001B[39m)\n",
      "Cell \u001B[0;32mIn[13], line 7\u001B[0m, in \u001B[0;36mPersistentMemory.__init__\u001B[0;34m(self, file_path)\u001B[0m\n\u001B[1;32m      5\u001B[0m \u001B[38;5;28;01mdef\u001B[39;00m \u001B[38;5;21m__init__\u001B[39m(\u001B[38;5;28mself\u001B[39m, file_path):\n\u001B[1;32m      6\u001B[0m     \u001B[38;5;28msuper\u001B[39m()\u001B[38;5;241m.\u001B[39m\u001B[38;5;21m__init__\u001B[39m()\n\u001B[0;32m----> 7\u001B[0m     \u001B[38;5;28mself\u001B[39m\u001B[38;5;241m.\u001B[39mfile_path \u001B[38;5;241m=\u001B[39m file_path\n\u001B[1;32m      8\u001B[0m     \u001B[38;5;28mself\u001B[39m\u001B[38;5;241m.\u001B[39mload_memory()\n",
      "File \u001B[0;32m~/miniconda3/envs/py311/lib/python3.11/site-packages/pydantic/v1/main.py:357\u001B[0m, in \u001B[0;36mBaseModel.__setattr__\u001B[0;34m(self, name, value)\u001B[0m\n\u001B[1;32m    354\u001B[0m     \u001B[38;5;28;01mreturn\u001B[39;00m object_setattr(\u001B[38;5;28mself\u001B[39m, name, value)\n\u001B[1;32m    356\u001B[0m \u001B[38;5;28;01mif\u001B[39;00m \u001B[38;5;28mself\u001B[39m\u001B[38;5;241m.\u001B[39m__config__\u001B[38;5;241m.\u001B[39mextra \u001B[38;5;129;01mis\u001B[39;00m \u001B[38;5;129;01mnot\u001B[39;00m Extra\u001B[38;5;241m.\u001B[39mallow \u001B[38;5;129;01mand\u001B[39;00m name \u001B[38;5;129;01mnot\u001B[39;00m \u001B[38;5;129;01min\u001B[39;00m \u001B[38;5;28mself\u001B[39m\u001B[38;5;241m.\u001B[39m__fields__:\n\u001B[0;32m--> 357\u001B[0m     \u001B[38;5;28;01mraise\u001B[39;00m \u001B[38;5;167;01mValueError\u001B[39;00m(\u001B[38;5;124mf\u001B[39m\u001B[38;5;124m'\u001B[39m\u001B[38;5;124m\"\u001B[39m\u001B[38;5;132;01m{\u001B[39;00m\u001B[38;5;28mself\u001B[39m\u001B[38;5;241m.\u001B[39m\u001B[38;5;18m__class__\u001B[39m\u001B[38;5;241m.\u001B[39m\u001B[38;5;18m__name__\u001B[39m\u001B[38;5;132;01m}\u001B[39;00m\u001B[38;5;124m\"\u001B[39m\u001B[38;5;124m object has no field \u001B[39m\u001B[38;5;124m\"\u001B[39m\u001B[38;5;132;01m{\u001B[39;00mname\u001B[38;5;132;01m}\u001B[39;00m\u001B[38;5;124m\"\u001B[39m\u001B[38;5;124m'\u001B[39m)\n\u001B[1;32m    358\u001B[0m \u001B[38;5;28;01melif\u001B[39;00m \u001B[38;5;129;01mnot\u001B[39;00m \u001B[38;5;28mself\u001B[39m\u001B[38;5;241m.\u001B[39m__config__\u001B[38;5;241m.\u001B[39mallow_mutation \u001B[38;5;129;01mor\u001B[39;00m \u001B[38;5;28mself\u001B[39m\u001B[38;5;241m.\u001B[39m__config__\u001B[38;5;241m.\u001B[39mfrozen:\n\u001B[1;32m    359\u001B[0m     \u001B[38;5;28;01mraise\u001B[39;00m \u001B[38;5;167;01mTypeError\u001B[39;00m(\u001B[38;5;124mf\u001B[39m\u001B[38;5;124m'\u001B[39m\u001B[38;5;124m\"\u001B[39m\u001B[38;5;132;01m{\u001B[39;00m\u001B[38;5;28mself\u001B[39m\u001B[38;5;241m.\u001B[39m\u001B[38;5;18m__class__\u001B[39m\u001B[38;5;241m.\u001B[39m\u001B[38;5;18m__name__\u001B[39m\u001B[38;5;132;01m}\u001B[39;00m\u001B[38;5;124m\"\u001B[39m\u001B[38;5;124m is immutable and does not support item assignment\u001B[39m\u001B[38;5;124m'\u001B[39m)\n",
      "\u001B[0;31mValueError\u001B[0m: \"PersistentMemory\" object has no field \"file_path\""
     ]
    }
   ],
   "execution_count": 13
  },
  {
   "metadata": {},
   "cell_type": "markdown",
   "source": [
    "This method allows you to persist conversation history in a simple, human-readable format.\n",
    "\n",
    "### 2.2. Integrating with Databases and Storage Systems\n",
    "\n",
    "For more scalable and efficient storage, integrating with databases like SQLite is recommended:"
   ]
  },
  {
   "metadata": {},
   "cell_type": "code",
   "outputs": [],
   "execution_count": null,
   "source": [
    "import sqlite3\n",
    "from langchain.memory import ConversationBufferMemory\n",
    "\n",
    "class SQLiteMemory(ConversationBufferMemory):\n",
    "    def __init__(self, db_path):\n",
    "        super().__init__()\n",
    "        self.db_path = db_path\n",
    "        self.conn = sqlite3.connect(db_path)\n",
    "        self.create_table()\n",
    "\n",
    "    def create_table(self):\n",
    "        cursor = self.conn.cursor()\n",
    "        cursor.execute('''\n",
    "            CREATE TABLE IF NOT EXISTS conversations\n",
    "            (id INTEGER PRIMARY KEY, input TEXT, output TEXT)\n",
    "        ''')\n",
    "        self.conn.commit()\n",
    "\n",
    "    def save_context(self, inputs, outputs):\n",
    "        super().save_context(inputs, outputs)\n",
    "        cursor = self.conn.cursor()\n",
    "        cursor.execute('INSERT INTO conversations (input, output) VALUES (?, ?)',\n",
    "                       (inputs['input'], outputs['output']))\n",
    "        self.conn.commit()\n",
    "\n",
    "    def load_memory_variables(self, inputs):\n",
    "        cursor = self.conn.cursor()\n",
    "        cursor.execute('SELECT input, output FROM conversations ORDER BY id DESC LIMIT 10')\n",
    "        rows = cursor.fetchall()\n",
    "        history = \"\\\\n\".join([f\"Human: {row[0]}\\\\nAI: {row[1]}\" for row in reversed(rows)])\n",
    "        return {\"history\": history}\n",
    "\n",
    "# Usage\n",
    "memory = SQLiteMemory('conversation_history.db')"
   ]
  },
  {
   "metadata": {},
   "cell_type": "markdown",
   "source": [
    "This implementation provides robust storage with the ability to handle large-scale applications and complex queries.\n",
    "\n",
    "## 3. Advanced Memory Techniques\n",
    "\n",
    "For more specialized scenarios, consider implementing custom memory classes or combining multiple memory types.\n",
    "\n",
    "### 3.1. Implementing Custom Memory Classes\n",
    "\n",
    "A custom memory class can be tailored to specific needs, such as maintaining a fixed-size buffer:"
   ]
  },
  {
   "metadata": {},
   "cell_type": "code",
   "outputs": [],
   "execution_count": null,
   "source": [
    "from langchain.memory import BaseMemory\n",
    "from collections import deque\n",
    "\n",
    "class FixedSizeMemory(BaseMemory):\n",
    "    def __init__(self, k=5):\n",
    "        self.k = k\n",
    "        self.memory = deque(maxlen=k)\n",
    "\n",
    "    def save_context(self, inputs, outputs):\n",
    "        self.memory.append((inputs['input'], outputs['output']))\n",
    "\n",
    "    def load_memory_variables(self, inputs):\n",
    "        return {\"history\": \"\\\\n\".join([f\"Human: {i}\\\\nAI: {o}\" for i, o in self.memory])}\n",
    "\n",
    "    def clear(self):\n",
    "        self.memory.clear()\n",
    "\n",
    "# Usage\n",
    "memory = FixedSizeMemory(k=3)\n"
   ]
  },
  {
   "metadata": {},
   "cell_type": "markdown",
   "source": [
    "### 3.2. Combining Multiple Memory Types\n",
    "\n",
    "For enhanced functionality, you can combine different memory types:"
   ]
  },
  {
   "metadata": {},
   "cell_type": "code",
   "outputs": [],
   "execution_count": null,
   "source": [
    "\n",
    "from langchain.memory import CombinedMemory, ConversationBufferMemory, ConversationSummaryMemory\n",
    "from langchain.llms import OpenAI\n",
    "\n",
    "llm = OpenAI(temperature=0)\n",
    "\n",
    "# Create individual memory instances\n",
    "buffer_memory = ConversationBufferMemory(memory_key=\"buffer_memory\")\n",
    "summary_memory = ConversationSummaryMemory(llm=llm, memory_key=\"summary_memory\")\n",
    "\n",
    "# Combine memories\n",
    "combined_memory = CombinedMemory(memories=[buffer_memory, summary_memory])\n",
    "\n",
    "# Use in a chain\n",
    "from langchain.chains import ConversationChain\n",
    "\n",
    "conversation = ConversationChain(\n",
    "    llm=llm,\n",
    "    memory=combined_memory,\n",
    "    verbose=True\n",
    ")\n",
    "\n",
    "# Usage\n",
    "conversation.predict(input=\"Hi, I'm Alice\")\n",
    "conversation.predict(input=\"Tell me about our conversation so far\")\n"
   ]
  },
  {
   "metadata": {},
   "cell_type": "markdown",
   "source": [
    "This approach allows your application to maintain both detailed short-term memory and summarized long-term memory, making it more adaptable to different interaction styles.\n",
    "\n",
    "### 3.3. Optimizing Memory Usage and Performance\n",
    "\n",
    "To ensure your application remains responsive, consider these optimization strategies:\n",
    "\n",
    "- **Efficient Data Structures**: Use structures like `deque` for managing fixed-size buffers.\n",
    "- **Caching Strategies**: Reduce database queries by implementing caching for frequently accessed data.\n",
    "- **Data Pruning**: Regularly prune or summarize old data to maintain a manageable memory size.\n",
    "\n",
    "Here’s an example of a memory class with basic caching:"
   ]
  },
  {
   "metadata": {},
   "cell_type": "code",
   "outputs": [],
   "execution_count": null,
   "source": [
    "import time\n",
    "\n",
    "class CachedSQLiteMemory(SQLiteMemory):\n",
    "    def __init__(self, db_path, cache_ttl=60):\n",
    "        super().__init__(db_path)\n",
    "        self.cache = None\n",
    "        self.cache_time = 0\n",
    "        self.cache_ttl = cache_ttl\n",
    "\n",
    "    def load_memory_variables(self, inputs):\n",
    "        current_time = time.time()\n",
    "        if self.cache is None or (current_time - self.cache_time) > self.cache_ttl:\n",
    "            self.cache\n",
    "\t\t\tself.cache = super().load_memory_variables(inputs)\n",
    "\t\t\tself.cache_time = current_time\n",
    "\t\t\treturn self.cache\n",
    "\n",
    "memory = CachedSQLiteMemory('conversation_history.db', cache_ttl=30)"
   ]
  },
  {
   "metadata": {},
   "cell_type": "markdown",
   "source": [
    "This implementation caches the results of database queries for a specified time, reducing the load on the database and improving performance for applications that frequently access memory data.\n",
    "\n",
    "## Conclusion\n",
    "\n",
    "Effective memory management is a cornerstone of building intelligent, context-aware conversational AI applications. LangChain provides a flexible and powerful framework for managing memory, allowing developers to tailor memory types to specific use cases, implement persistent storage solutions, and optimize performance for large-scale applications.\n",
    "\n",
    "By choosing the right memory type, integrating persistent storage, and leveraging advanced techniques such as custom memory classes and caching strategies, you can build sophisticated AI systems that maintain context, improve user experience, and operate efficiently even as the scale and complexity of interactions grow.\n",
    "\n",
    "With these tools and techniques at your disposal, you are well-equipped to harness the full potential of LangChain in creating responsive, intelligent, and contextually aware AI applications. Whether you’re developing customer support bots, virtual assistants, or complex conversational systems, mastering memory and storage in LangChain will be a key factor in your success."
   ]
  }
 ],
 "metadata": {
  "kernelspec": {
   "display_name": "py311",
   "language": "python",
   "name": "python3"
  },
  "language_info": {
   "name": "python",
   "version": "3.11.9"
  }
 },
 "nbformat": 4,
 "nbformat_minor": 2
}
