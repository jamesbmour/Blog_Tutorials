{
 "cells": [
  {
   "cell_type": "markdown",
   "id": "a22b1cc7",
   "metadata": {},
   "source": [
    "# Document Transformers"
   ]
  },
  {
   "cell_type": "code",
   "execution_count": null,
   "id": "initial_id",
   "metadata": {
    "collapsed": true
   },
   "outputs": [],
   "source": []
  },
  {
   "cell_type": "markdown",
   "id": "4c6262ff",
   "metadata": {},
   "source": [
    "## Split by Character"
   ]
  },
  {
   "cell_type": "code",
   "execution_count": null,
   "id": "987c4d29",
   "metadata": {},
   "outputs": [
    {
     "name": "stdout",
     "output_type": "stream",
     "text": [
      "926\n",
      "['Cats', 'are', 'known', 'for', 'their', 'quirky', 'personalities', 'and', 'playful', 'antics.', 'They', 'can', 'go', 'from', 'being', 'aloof', 'to', 'affectionate', 'in', 'a', 'heartbeat,', 'keeping', 'their', 'owners', 'on', 'their', 'toes.', 'Whether', 'it’s', 'chasing', 'a', 'laser', 'pointer', 'or', 'pouncing', 'on', 'a', 'stray', 'piece', 'of', 'string,', 'their', 'energy', 'is', 'contagious.', 'Grooming', 'is', 'a', 'big', 'part', 'of', 'a', 'cat’s', 'day.', 'They', 'spend', 'hours', 'licking', 'their', 'fur,', 'which', 'helps', 'keep', 'it', 'clean', 'and', 'free', 'of', 'parasites.', 'This', 'self-care', 'routine', 'also', 'helps', 'them', 'regulate', 'their', 'body', 'temperature', 'and', 'can', 'be', 'quite', 'soothing.', 'When', 'it', 'comes', 'to', 'communication,', 'cats', 'have', 'a', 'unique', 'way', 'of', 'expressing', 'themselves.', 'From', 'soft', 'purrs', 'to', 'loud', 'meows,', 'each', 'sound', 'can', 'convey', 'different', 'emotions.', 'A', 'slow', 'blink', 'from', 'a', 'cat', 'is', 'often', 'seen', 'as', 'a', 'sign', 'of', 'trust', 'and', 'affection.', 'Cats', 'are', 'also', 'known', 'for', 'their', 'love', 'of', 'napping.', 'They', 'can', 'sleep', 'anywhere', 'from', '12', 'to', '16', 'hours', 'a', 'day,', 'making', 'them', 'expert', 'loungers.', 'Finding', 'a', 'sunny', 'spot', 'or', 'a', 'cozy', 'blanket', 'is', 'usually', 'their', 'go-to', 'for', 'a', 'good', 'snooze.']\n"
     ]
    }
   ],
   "source": [
    "\n",
    "with open(\"data/sample.txt\") as f:\n",
    "    text = f.read()\n",
    "    \n",
    "print(len(text))\n",
    "\n",
    "# Words \n",
    "print(text.split())"
   ]
  },
  {
   "cell_type": "code",
   "execution_count": 4,
   "id": "56200d94",
   "metadata": {},
   "outputs": [
    {
     "name": "stdout",
     "output_type": "stream",
     "text": [
      "<class 'list'>\n",
      "1\n",
      "[Document(metadata={}, page_content='Cats are known for their quirky personalities and playful antics. They can go from being aloof to affectionate in a heartbeat, keeping their owners on their toes. Whether it’s chasing a laser pointer or pouncing on a stray piece of string, their energy is contagious.\\n\\nGrooming is a big part of a cat’s day. They spend hours licking their fur, which helps keep it clean and free of parasites. This self-care routine also helps them regulate their body temperature and can be quite soothing.\\n\\nWhen it comes to communication, cats have a unique way of expressing themselves. From soft purrs to loud meows, each sound can convey different emotions. A slow blink from a cat is often seen as a sign of trust and affection.\\n\\nCats are also known for their love of napping. They can sleep anywhere from 12 to 16 hours a day, making them expert loungers. Finding a sunny spot or a cozy blanket is usually their go-to for a good snooze.')]\n"
     ]
    }
   ],
   "source": [
    "from langchain.text_splitter import CharacterTextSplitter\n",
    "\n",
    "text_splitter = CharacterTextSplitter(separator=\"\\n\\n\",chunk_size=1000)\n",
    "\n",
    "docs = text_splitter.create_documents([text])\n",
    "\n",
    "print(type(docs))\n",
    "\n",
    "print(len(docs))\n",
    "\n",
    "print(docs) "
   ]
  },
  {
   "cell_type": "markdown",
   "id": "a061316f",
   "metadata": {},
   "source": [
    "## Split by Token"
   ]
  },
  {
   "cell_type": "code",
   "execution_count": null,
   "id": "a3ffab3d",
   "metadata": {},
   "outputs": [],
   "source": []
  }
 ],
 "metadata": {
  "kernelspec": {
   "display_name": "llm311",
   "language": "python",
   "name": "python3"
  },
  "language_info": {
   "codemirror_mode": {
    "name": "ipython",
    "version": 3
   },
   "file_extension": ".py",
   "mimetype": "text/x-python",
   "name": "python",
   "nbconvert_exporter": "python",
   "pygments_lexer": "ipython3",
   "version": "3.11.10"
  }
 },
 "nbformat": 4,
 "nbformat_minor": 5
}
