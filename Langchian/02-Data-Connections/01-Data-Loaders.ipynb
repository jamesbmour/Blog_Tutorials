{
 "cells": [
  {
   "metadata": {
    "ExecuteTime": {
     "end_time": "2024-11-09T11:43:54.904188Z",
     "start_time": "2024-11-09T11:43:53.509075Z"
    }
   },
   "cell_type": "code",
   "source": [
    "from langchain_openai import ChatOpenAI\n",
    "from langchain_ollama.chat_models import ChatOllama\n",
    "from os import getenv\n",
    "from dotenv import load_dotenv\n",
    "\n",
    "load_dotenv()\n",
    "\n",
    "llm = ChatOpenAI(\n",
    "    openai_api_key=getenv(\"OPENROUTER_API_KEY\"),\n",
    "    openai_api_base=\"https://openrouter.ai/api/v1\",\n",
    "    model=\"meta-llama/llama-3.2-3b-instruct:free\",\n",
    "    temperature=0.5,\n",
    "    # max_tokens=512,\n",
    "\n",
    ")\n",
    "# llm = ChatOllama(model='qwen2.5:0.5b', temperature=0.5, max_tokens=512)\n",
    "\n",
    "result = llm.invoke(\"Hello, how are you today?\")\n",
    "result.content"
   ],
   "id": "13a2245d1ce95019",
   "outputs": [
    {
     "data": {
      "text/plain": [
       "\"I'm just a language model, so I don't have emotions or feelings like humans do, but I'm functioning properly and ready to help you with any questions or tasks you have. How can I assist you today?\""
      ]
     },
     "execution_count": 1,
     "metadata": {},
     "output_type": "execute_result"
    }
   ],
   "execution_count": 1
  },
  {
   "metadata": {},
   "cell_type": "markdown",
   "source": [
    "# CSV Data Loader\n",
    "\n"
   ],
   "id": "2141cf60f1e1436f"
  },
  {
   "cell_type": "code",
   "id": "initial_id",
   "metadata": {
    "collapsed": true,
    "ExecuteTime": {
     "end_time": "2024-11-09T11:42:53.231471Z",
     "start_time": "2024-11-09T11:42:53.230191Z"
    }
   },
   "source": "from langchain.document_loaders import CSVLoader",
   "outputs": [],
   "execution_count": null
  },
  {
   "metadata": {},
   "cell_type": "markdown",
   "source": [
    "# HTML Data Loader\n",
    "``` shell\n",
    "pip install beautifulsoup4\n",
    "```"
   ],
   "id": "3df451f39a377b51"
  },
  {
   "metadata": {},
   "cell_type": "code",
   "outputs": [],
   "execution_count": null,
   "source": "from langchain.document_loaders import BSHTMLLoader",
   "id": "6054b71dec973228"
  },
  {
   "metadata": {},
   "cell_type": "markdown",
   "source": [
    "# PDF Data Loader\n",
    "``` shell\n",
    "pip install pypdf\n",
    "```"
   ],
   "id": "730ca4d92157738f"
  },
  {
   "metadata": {},
   "cell_type": "code",
   "outputs": [],
   "execution_count": null,
   "source": "from langchain.document_loaders import PyPDFLoader",
   "id": "d0cf6aecc01c7ca4"
  },
  {
   "metadata": {},
   "cell_type": "markdown",
   "source": "",
   "id": "fb8a4d8ab3d633b3"
  }
 ],
 "metadata": {
  "kernelspec": {
   "display_name": "Python 3",
   "language": "python",
   "name": "python3"
  },
  "language_info": {
   "codemirror_mode": {
    "name": "ipython",
    "version": 2
   },
   "file_extension": ".py",
   "mimetype": "text/x-python",
   "name": "python",
   "nbconvert_exporter": "python",
   "pygments_lexer": "ipython2",
   "version": "2.7.6"
  }
 },
 "nbformat": 4,
 "nbformat_minor": 5
}
