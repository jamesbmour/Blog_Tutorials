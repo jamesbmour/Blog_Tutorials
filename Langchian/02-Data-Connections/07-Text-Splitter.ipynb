{
 "cells": [
  {
   "cell_type": "markdown",
   "id": "a22b1cc7",
   "metadata": {},
   "source": [
    "# Document Transformers"
   ]
  },
  {
   "cell_type": "code",
   "execution_count": 34,
   "id": "initial_id",
   "metadata": {
    "ExecuteTime": {
     "end_time": "2024-11-29T19:10:34.857862Z",
     "start_time": "2024-11-29T19:10:34.534996Z"
    },
    "collapsed": true
   },
   "outputs": [],
   "source": [
    "from langchain_text_splitters import CharacterTextSplitter\n",
    "\n",
    "text = \"\"\"The world of street food is a vibrant tapestry of flavors and cultures. From sizzling skewers to spicy tacos, every corner of the globe has its own unique offerings. Vendors often  up shop in bustling markets or on busy street corners, attracting hungry passersby with mouthwatering aromas.\n",
    "\n",
    "One of the best things about street food is its accessibility. It’s quick, affordable, and often made fresh right in front of you. Whether it’s a steaming bowl of pho in Vietnam or a crispy samosa in India, there’s something for everyone to enjoy.\n",
    "\n",
    "Street food also brings people together. Friends and families gather around food stalls, sharing dishes and stories. It’s a social experience that transcends language and culture, creating connections over a shared love of good eats.\n",
    "\n",
    "Finally, street food is constantly evolving. Chefs are experimenting with traditional recipes, adding modern twists and fusion flavors. This creativity keeps the scene exciting and ensures there’s always something new to try.\"\"\"\n"
   ]
  },
  {
   "cell_type": "markdown",
   "id": "4c6262ff",
   "metadata": {},
   "source": [
    "\n",
    "## Length Based Splitter\n",
    "\n",
    "- Token-based: Splits text based on the number of tokens, which is useful when working with language models.\n",
    "- Character-based: Splits text based on the number of characters, which can be more consistent across different types of text.\n",
    "\n",
    "\n"
   ]
  },
  {
   "cell_type": "code",
   "execution_count": 35,
   "id": "987c4d29",
   "metadata": {
    "ExecuteTime": {
     "end_time": "2024-11-29T19:10:36.883551Z",
     "start_time": "2024-11-29T19:10:36.880422Z"
    }
   },
   "outputs": [
    {
     "name": "stdout",
     "output_type": "stream",
     "text": [
      "<class 'list'>\n",
      "3\n",
      "page_content='The world of street food is a vibrant tapestry of flavors and cultures. From sizzling skewers to spicy tacos, every corner of the globe has its own unique offerings. Vendors often  up shop in bustling markets or on busy street corners, attracting hungry passersby with mouthwatering aromas.'\n"
     ]
    }
   ],
   "source": [
    "\n",
    "# text_splitter = CharacterTextSplitter(separator=\"\\n\\n\", chunk_size=300, chunk_overlap=10)\n",
    "text_splitter = CharacterTextSplitter.from_tiktoken_encoder(\n",
    "    encoding_name=\"cl100k_base\", chunk_size=100, chunk_overlap=20\n",
    ")\n",
    "\n",
    "\n",
    "docs = text_splitter.create_documents([text])\n",
    "\n",
    "print(type(docs))\n",
    "\n",
    "print(len(docs))\n",
    "\n",
    "print(docs[0])\n"
   ]
  },
  {
   "cell_type": "markdown",
   "id": "8a51b117dd8269f2",
   "metadata": {},
   "source": [
    "## Text-strucutre based splitter\n",
    "\n",
    "- The RecursiveCharacterTextSplitter attempts to keep larger units (e.g., paragraphs) intact.\n",
    "- If a unit exceeds the chunk size, it moves to the next level (e.g., sentences).\n",
    "- This process continues down to the word level if necessary."
   ]
  },
  {
   "cell_type": "code",
   "execution_count": 36,
   "id": "56200d94",
   "metadata": {
    "ExecuteTime": {
     "end_time": "2024-11-29T19:10:39.281501Z",
     "start_time": "2024-11-29T19:10:39.277815Z"
    }
   },
   "outputs": [
    {
     "name": "stdout",
     "output_type": "stream",
     "text": [
      "<class 'list'>\n",
      "8\n",
      "page_content='The world of street food is a vibrant tapestry of flavors and cultures. From sizzling skewers to spicy tacos, every corner of the globe has its own unique offerings. Vendors often  up shop in bustling'\n"
     ]
    }
   ],
   "source": [
    "from langchain_text_splitters import RecursiveCharacterTextSplitter\n",
    "\n",
    "text_splitter = RecursiveCharacterTextSplitter(chunk_size=200, chunk_overlap=10)\n",
    "\n",
    "docs = text_splitter.create_documents([text])\n",
    "\n",
    "print(type(docs))\n",
    "\n",
    "print(len(docs))\n",
    "\n",
    "print(docs[0])"
   ]
  },
  {
   "cell_type": "markdown",
   "id": "a061316f",
   "metadata": {},
   "source": [
    "## Document-structured based\n",
    "- Preserves the logical organization of the document\n",
    "- Maintains context within each chunk\n",
    "- Can be more effective for downstream tasks like retrieval or summarization\n",
    "\n",
    "**Examples of structure-based splitting:**\n",
    "- Markdown: Split based on headers (e.g., #, ##, ###)\n",
    "- HTML: Split using tags\n",
    "- JSON: Split by object or array elements\n",
    "- Code: Split by functions, classes, or logical blocks\n",
    "\n",
    "### Markdown Splitter\n"
   ]
  },
  {
   "cell_type": "code",
   "execution_count": 37,
   "id": "a3ffab3d",
   "metadata": {},
   "outputs": [
    {
     "data": {
      "text/plain": [
       "'# Title of the document\\n\\nThis is a sample document. It is written in markdown format.\\n\\n## Section 1\\n\\nThis is the first section of the document.\\n\\n### Subsection 1.1\\n\\nThis is the first subsection of the document.\\n\\n### Subsection 1.2\\n\\nThis is the second subsection of the document.\\n\\n## Section 2\\n\\nThis is the second section of the document.\\n\\n\\n## Section 3\\n\\nThis is the third section of the document.\\n\\n\\n\\n'"
      ]
     },
     "execution_count": 37,
     "metadata": {},
     "output_type": "execute_result"
    }
   ],
   "source": [
    "from langchain_text_splitters import MarkdownHeaderTextSplitter\n",
    "\n",
    "# read markdown file\n",
    "with open(\"data/sample.md\", \"r\") as f:\n",
    "    md_text = f.read()\n",
    "    \n",
    "md_text"
   ]
  },
  {
   "cell_type": "code",
   "execution_count": 38,
   "metadata": {},
   "outputs": [
    {
     "name": "stdout",
     "output_type": "stream",
     "text": [
      "<class 'list'>\n",
      "6\n"
     ]
    },
    {
     "data": {
      "text/plain": [
       "[Document(metadata={'Header 1': 'Title of the document'}, page_content='# Title of the document  \\nThis is a sample document. It is written in markdown format.'),\n",
       " Document(metadata={'Header 1': 'Title of the document', 'Header 2': 'Section 1'}, page_content='## Section 1  \\nThis is the first section of the document.'),\n",
       " Document(metadata={'Header 1': 'Title of the document', 'Header 2': 'Section 1', 'Header 3': 'Subsection 1.1'}, page_content='### Subsection 1.1  \\nThis is the first subsection of the document.'),\n",
       " Document(metadata={'Header 1': 'Title of the document', 'Header 2': 'Section 1', 'Header 3': 'Subsection 1.2'}, page_content='### Subsection 1.2  \\nThis is the second subsection of the document.'),\n",
       " Document(metadata={'Header 1': 'Title of the document', 'Header 2': 'Section 2'}, page_content='## Section 2  \\nThis is the second section of the document.'),\n",
       " Document(metadata={'Header 1': 'Title of the document', 'Header 2': 'Section 3'}, page_content='## Section 3  \\nThis is the third section of the document.')]"
      ]
     },
     "execution_count": 38,
     "metadata": {},
     "output_type": "execute_result"
    }
   ],
   "source": [
    "\n",
    "headers_to_split_on = [\n",
    "    (\"#\", \"Header 1\"),\n",
    "    (\"##\", \"Header 2\"),\n",
    "    (\"###\", \"Header 3\"),\n",
    "]\n",
    "\n",
    "markdown_splitter = MarkdownHeaderTextSplitter(headers_to_split_on=headers_to_split_on, strip_headers=False)\n",
    "\n",
    "docs = markdown_splitter.split_text(md_text)\n",
    "\n",
    "print(type(docs))\n",
    "\n",
    "print(len(docs))\n",
    "\n",
    "docs\n",
    "\n"
   ]
  },
  {
   "cell_type": "code",
   "execution_count": 39,
   "id": "e53d5c12",
   "metadata": {},
   "outputs": [
    {
     "data": {
      "text/plain": [
       "[Document(metadata={'Header 1': 'Title of the document'}, page_content='# Title of'),\n",
       " Document(metadata={'Header 1': 'Title of the document'}, page_content='the'),\n",
       " Document(metadata={'Header 1': 'Title of the document'}, page_content='document'),\n",
       " Document(metadata={'Header 1': 'Title of the document'}, page_content='This is a'),\n",
       " Document(metadata={'Header 1': 'Title of the document'}, page_content='a sample'),\n",
       " Document(metadata={'Header 1': 'Title of the document'}, page_content='document.'),\n",
       " Document(metadata={'Header 1': 'Title of the document'}, page_content='It is'),\n",
       " Document(metadata={'Header 1': 'Title of the document'}, page_content='written'),\n",
       " Document(metadata={'Header 1': 'Title of the document'}, page_content='in'),\n",
       " Document(metadata={'Header 1': 'Title of the document'}, page_content='markdown'),\n",
       " Document(metadata={'Header 1': 'Title of the document'}, page_content='format.'),\n",
       " Document(metadata={'Header 1': 'Title of the document', 'Header 2': 'Section 1'}, page_content='## Section'),\n",
       " Document(metadata={'Header 1': 'Title of the document', 'Header 2': 'Section 1'}, page_content='1'),\n",
       " Document(metadata={'Header 1': 'Title of the document', 'Header 2': 'Section 1'}, page_content='This is'),\n",
       " Document(metadata={'Header 1': 'Title of the document', 'Header 2': 'Section 1'}, page_content='the first'),\n",
       " Document(metadata={'Header 1': 'Title of the document', 'Header 2': 'Section 1'}, page_content='section'),\n",
       " Document(metadata={'Header 1': 'Title of the document', 'Header 2': 'Section 1'}, page_content='of the'),\n",
       " Document(metadata={'Header 1': 'Title of the document', 'Header 2': 'Section 1'}, page_content='document.'),\n",
       " Document(metadata={'Header 1': 'Title of the document', 'Header 2': 'Section 1', 'Header 3': 'Subsection 1.1'}, page_content='###'),\n",
       " Document(metadata={'Header 1': 'Title of the document', 'Header 2': 'Section 1', 'Header 3': 'Subsection 1.1'}, page_content='Subsectio'),\n",
       " Document(metadata={'Header 1': 'Title of the document', 'Header 2': 'Section 1', 'Header 3': 'Subsection 1.1'}, page_content='ion'),\n",
       " Document(metadata={'Header 1': 'Title of the document', 'Header 2': 'Section 1', 'Header 3': 'Subsection 1.1'}, page_content='1.1'),\n",
       " Document(metadata={'Header 1': 'Title of the document', 'Header 2': 'Section 1', 'Header 3': 'Subsection 1.1'}, page_content='This is'),\n",
       " Document(metadata={'Header 1': 'Title of the document', 'Header 2': 'Section 1', 'Header 3': 'Subsection 1.1'}, page_content='the first'),\n",
       " Document(metadata={'Header 1': 'Title of the document', 'Header 2': 'Section 1', 'Header 3': 'Subsection 1.1'}, page_content='subsectio'),\n",
       " Document(metadata={'Header 1': 'Title of the document', 'Header 2': 'Section 1', 'Header 3': 'Subsection 1.1'}, page_content='ion'),\n",
       " Document(metadata={'Header 1': 'Title of the document', 'Header 2': 'Section 1', 'Header 3': 'Subsection 1.1'}, page_content='of the'),\n",
       " Document(metadata={'Header 1': 'Title of the document', 'Header 2': 'Section 1', 'Header 3': 'Subsection 1.1'}, page_content='document.'),\n",
       " Document(metadata={'Header 1': 'Title of the document', 'Header 2': 'Section 1', 'Header 3': 'Subsection 1.2'}, page_content='###'),\n",
       " Document(metadata={'Header 1': 'Title of the document', 'Header 2': 'Section 1', 'Header 3': 'Subsection 1.2'}, page_content='Subsectio'),\n",
       " Document(metadata={'Header 1': 'Title of the document', 'Header 2': 'Section 1', 'Header 3': 'Subsection 1.2'}, page_content='ion'),\n",
       " Document(metadata={'Header 1': 'Title of the document', 'Header 2': 'Section 1', 'Header 3': 'Subsection 1.2'}, page_content='1.2'),\n",
       " Document(metadata={'Header 1': 'Title of the document', 'Header 2': 'Section 1', 'Header 3': 'Subsection 1.2'}, page_content='This is'),\n",
       " Document(metadata={'Header 1': 'Title of the document', 'Header 2': 'Section 1', 'Header 3': 'Subsection 1.2'}, page_content='the'),\n",
       " Document(metadata={'Header 1': 'Title of the document', 'Header 2': 'Section 1', 'Header 3': 'Subsection 1.2'}, page_content='second'),\n",
       " Document(metadata={'Header 1': 'Title of the document', 'Header 2': 'Section 1', 'Header 3': 'Subsection 1.2'}, page_content='subsectio'),\n",
       " Document(metadata={'Header 1': 'Title of the document', 'Header 2': 'Section 1', 'Header 3': 'Subsection 1.2'}, page_content='ion'),\n",
       " Document(metadata={'Header 1': 'Title of the document', 'Header 2': 'Section 1', 'Header 3': 'Subsection 1.2'}, page_content='of the'),\n",
       " Document(metadata={'Header 1': 'Title of the document', 'Header 2': 'Section 1', 'Header 3': 'Subsection 1.2'}, page_content='document.'),\n",
       " Document(metadata={'Header 1': 'Title of the document', 'Header 2': 'Section 2'}, page_content='## Section'),\n",
       " Document(metadata={'Header 1': 'Title of the document', 'Header 2': 'Section 2'}, page_content='2'),\n",
       " Document(metadata={'Header 1': 'Title of the document', 'Header 2': 'Section 2'}, page_content='This is'),\n",
       " Document(metadata={'Header 1': 'Title of the document', 'Header 2': 'Section 2'}, page_content='the'),\n",
       " Document(metadata={'Header 1': 'Title of the document', 'Header 2': 'Section 2'}, page_content='second'),\n",
       " Document(metadata={'Header 1': 'Title of the document', 'Header 2': 'Section 2'}, page_content='section'),\n",
       " Document(metadata={'Header 1': 'Title of the document', 'Header 2': 'Section 2'}, page_content='of the'),\n",
       " Document(metadata={'Header 1': 'Title of the document', 'Header 2': 'Section 2'}, page_content='document.'),\n",
       " Document(metadata={'Header 1': 'Title of the document', 'Header 2': 'Section 3'}, page_content='## Section'),\n",
       " Document(metadata={'Header 1': 'Title of the document', 'Header 2': 'Section 3'}, page_content='3'),\n",
       " Document(metadata={'Header 1': 'Title of the document', 'Header 2': 'Section 3'}, page_content='This is'),\n",
       " Document(metadata={'Header 1': 'Title of the document', 'Header 2': 'Section 3'}, page_content='the third'),\n",
       " Document(metadata={'Header 1': 'Title of the document', 'Header 2': 'Section 3'}, page_content='section'),\n",
       " Document(metadata={'Header 1': 'Title of the document', 'Header 2': 'Section 3'}, page_content='of the'),\n",
       " Document(metadata={'Header 1': 'Title of the document', 'Header 2': 'Section 3'}, page_content='document.')]"
      ]
     },
     "execution_count": 39,
     "metadata": {},
     "output_type": "execute_result"
    }
   ],
   "source": [
    "# Char-level splits\n",
    "from attr import s\n",
    "from langchain_text_splitters import RecursiveCharacterTextSplitter\n",
    "\n",
    "chunk_size = 10\n",
    "chunk_overlap = 2\n",
    "text_splitter = RecursiveCharacterTextSplitter(\n",
    "    chunk_size=chunk_size, chunk_overlap=chunk_overlap\n",
    ")\n",
    "\n",
    "# Split\n",
    "splits = text_splitter.split_documents(docs)\n",
    "splits"
   ]
  },
  {
   "cell_type": "markdown",
   "id": "2c0eb5d9",
   "metadata": {},
   "source": [
    "### HTML Splitter\n",
    "#### Header Splitter"
   ]
  },
  {
   "cell_type": "code",
   "execution_count": 40,
   "id": "8924c0f7",
   "metadata": {},
   "outputs": [
    {
     "data": {
      "text/plain": [
       "[Document(metadata={}, page_content='Foo'),\n",
       " Document(metadata={'Header 1': 'Foo'}, page_content='Some intro text about Foo.  \\nBar main section Bar subsection 1 Bar subsection 2'),\n",
       " Document(metadata={'Header 1': 'Foo', 'Header 2': 'Bar main section'}, page_content='Some intro text about Bar.'),\n",
       " Document(metadata={'Header 1': 'Foo', 'Header 2': 'Bar main section', 'Header 3': 'Bar subsection 1'}, page_content='Some text about the first subtopic of Bar.'),\n",
       " Document(metadata={'Header 1': 'Foo', 'Header 2': 'Bar main section', 'Header 3': 'Bar subsection 2'}, page_content='Some text about the second subtopic of Bar.'),\n",
       " Document(metadata={'Header 1': 'Foo'}, page_content='Baz'),\n",
       " Document(metadata={'Header 1': 'Foo', 'Header 2': 'Baz'}, page_content='Some text about Baz'),\n",
       " Document(metadata={'Header 1': 'Foo'}, page_content='Some concluding text about Foo')]"
      ]
     },
     "execution_count": 40,
     "metadata": {},
     "output_type": "execute_result"
    }
   ],
   "source": [
    "from langchain_text_splitters import HTMLHeaderTextSplitter\n",
    "\n",
    "html_string = \"\"\"\n",
    "    <!DOCTYPE html>\n",
    "    <html>\n",
    "    <body>\n",
    "        <div>\n",
    "            <h1>Foo</h1>\n",
    "            <p>Some intro text about Foo.</p>\n",
    "            <div>\n",
    "                <h2>Bar main section</h2>\n",
    "                <p>Some intro text about Bar.</p>\n",
    "                <h3>Bar subsection 1</h3>\n",
    "                <p>Some text about the first subtopic of Bar.</p>\n",
    "                <h3>Bar subsection 2</h3>\n",
    "                <p>Some text about the second subtopic of Bar.</p>\n",
    "            </div>\n",
    "            <div>\n",
    "                <h2>Baz</h2>\n",
    "                <p>Some text about Baz</p>\n",
    "            </div>\n",
    "            <br>\n",
    "            <p>Some concluding text about Foo</p>\n",
    "        </div>\n",
    "    </body>\n",
    "    </html>\n",
    "\"\"\"\n",
    "\n",
    "\n",
    "headers_to_split_on = [\n",
    "    (\"h1\", \"Header 1\"),\n",
    "    (\"h2\", \"Header 2\"),\n",
    "    (\"h3\", \"Header 3\"),\n",
    "]\n",
    "\n",
    "html_splitter = HTMLHeaderTextSplitter(headers_to_split_on)\n",
    "html_header_splits = html_splitter.split_text(html_string)\n",
    "html_header_splits"
   ]
  },
  {
   "cell_type": "markdown",
   "id": "d8c3e1b1",
   "metadata": {},
   "source": [
    "#### Section Splitter"
   ]
  },
  {
   "cell_type": "code",
   "execution_count": 41,
   "id": "ea7c3941",
   "metadata": {},
   "outputs": [
    {
     "data": {
      "text/plain": [
       "[Document(metadata={'Header 1': 'Foo'}, page_content='Foo \\n Some intro text about Foo.'),\n",
       " Document(metadata={'Header 2': 'Bar main section'}, page_content='Bar main section \\n Some intro text about Bar. \\n Bar subsection 1 \\n Some text about the first subtopic of Bar. \\n Bar subsection 2 \\n Some text about the second subtopic of Bar.'),\n",
       " Document(metadata={'Header 2': 'Baz'}, page_content='Baz \\n Some text about Baz \\n \\n \\n Some concluding text about Foo')]"
      ]
     },
     "execution_count": 41,
     "metadata": {},
     "output_type": "execute_result"
    }
   ],
   "source": [
    "from langchain_text_splitters import HTMLSectionSplitter\n",
    "\n",
    "\n",
    "\n",
    "headers_to_split_on = [(\"h1\", \"Header 1\"), (\"h2\", \"Header 2\")]\n",
    "\n",
    "html_splitter = HTMLSectionSplitter(headers_to_split_on)\n",
    "html_header_splits = html_splitter.split_text(html_string)\n",
    "html_header_splits"
   ]
  },
  {
   "cell_type": "markdown",
   "id": "9ad26a53",
   "metadata": {},
   "source": [
    "## Semantic Meaning Based\n",
    "\n",
    "- Start with the first few sentences and generate an embedding.\n",
    "- Move to the next group of sentences and generate another embedding (e.g., using a sliding window approach).\n",
    "- Compare the embeddings to find significant differences, which indicate potential \"break points\" between semantic sections.\n"
   ]
  },
  {
   "cell_type": "code",
   "execution_count": 42,
   "id": "f70fa617",
   "metadata": {},
   "outputs": [
    {
     "name": "stdout",
     "output_type": "stream",
     "text": [
      "<class 'list'>\n",
      "3\n"
     ]
    },
    {
     "data": {
      "text/plain": [
       "[Document(metadata={}, page_content='The world of street food is a vibrant tapestry of flavors and cultures. From sizzling skewers to spicy tacos, every corner of the globe has its own unique offerings. Vendors often  up shop in bustling markets or on busy street corners, attracting hungry passersby with mouthwatering aromas. One of the best things about street food is its accessibility. It’s quick, affordable, and often made fresh right in front of you. Whether it’s a steaming bowl of pho in Vietnam or a crispy samosa in India, there’s something for everyone to enjoy. Street food also brings people together.'),\n",
       " Document(metadata={}, page_content='Friends and families gather around food stalls, sharing dishes and stories. It’s a social experience that transcends language and culture, creating connections over a shared love of good eats. Finally, street food is constantly evolving. Chefs are experimenting with traditional recipes, adding modern twists and fusion flavors.'),\n",
       " Document(metadata={}, page_content='This creativity keeps the scene exciting and ensures there’s always something new to try.')]"
      ]
     },
     "execution_count": 42,
     "metadata": {},
     "output_type": "execute_result"
    }
   ],
   "source": [
    "from langchain_experimental.text_splitter import SemanticChunker\n",
    "from langchain_ollama import OllamaEmbeddings\n",
    "\n",
    "embedding_model = OllamaEmbeddings(model=\"mxbai-embed-large\")\n",
    "# embeddings: Embeddings,\n",
    "# buffer_size: int = 1,\n",
    "# add_start_index: bool = False,\n",
    "# breakpoint_threshold_type: BreakpointThresholdType = \"percentile\",\n",
    "# breakpoint_threshold_amount: Optional[float] = None,\n",
    "# number_of_chunks: Optional[int] = None,\n",
    "# sentence_split_regex: str = r\"(?<=[.?!])\\s+\",\n",
    "# min_chunk_size: Optional[int] = None,\n",
    "text_splitter = SemanticChunker(embedding_model,number_of_chunks=3)\n",
    "\n",
    "docs = text_splitter.create_documents([text])\n",
    "\n",
    "print(type(docs))\n",
    "\n",
    "print(len(docs))\n",
    "\n",
    "\n",
    "docs\n",
    "\n"
   ]
  },
  {
   "cell_type": "markdown",
   "id": "a4611939",
   "metadata": {},
   "source": []
  }
 ],
 "metadata": {
  "kernelspec": {
   "display_name": "llm311",
   "language": "python",
   "name": "python3"
  },
  "language_info": {
   "codemirror_mode": {
    "name": "ipython",
    "version": 3
   },
   "file_extension": ".py",
   "mimetype": "text/x-python",
   "name": "python",
   "nbconvert_exporter": "python",
   "pygments_lexer": "ipython3",
   "version": "3.11.10"
  }
 },
 "nbformat": 4,
 "nbformat_minor": 5
}
