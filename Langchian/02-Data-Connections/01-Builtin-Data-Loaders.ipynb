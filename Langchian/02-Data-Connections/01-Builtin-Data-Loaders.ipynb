{
 "cells": [
  {
   "cell_type": "markdown",
   "id": "039217ed",
   "metadata": {},
   "source": [
    "# LangChain Data Loader\n",
    "\n",
    "```shell\n",
    "pip install langchain-community beautifulsoup4\n",
    "```"
   ]
  },
  {
   "cell_type": "code",
   "execution_count": 1,
   "id": "13a2245d1ce95019",
   "metadata": {
    "ExecuteTime": {
     "end_time": "2024-11-09T11:43:54.904188Z",
     "start_time": "2024-11-09T11:43:53.509075Z"
    }
   },
   "outputs": [
    {
     "name": "stdout",
     "output_type": "stream",
     "text": [
      "I'm just a language model, so I don't have emotions or feelings like humans do, but I'm functioning properly and ready to help you with any questions or tasks you have. How can I assist you today?\n"
     ]
    }
   ],
   "source": [
    "from langchain_openai import ChatOpenAI\n",
    "from langchain_ollama.chat_models import ChatOllama\n",
    "from os import getenv\n",
    "from dotenv import load_dotenv\n",
    "\n",
    "load_dotenv()\n",
    "\n",
    "llm = ChatOpenAI(\n",
    "    openai_api_key=getenv(\"OPENROUTER_API_KEY\"),\n",
    "    openai_api_base=\"https://openrouter.ai/api/v1\",\n",
    "    model=\"meta-llama/llama-3.2-3b-instruct:free\",\n",
    "    temperature=0.5,\n",
    "    # max_tokens=512,\n",
    "\n",
    ")\n",
    "# llm = ChatOllama(model='qwen2.5:0.5b', temperature=0.5, max_tokens=512)\n",
    "\n",
    "result = llm.invoke(\"Hello, how are you today?\")\n",
    "print(result.content)"
   ]
  },
  {
   "cell_type": "markdown",
   "id": "2141cf60f1e1436f",
   "metadata": {},
   "source": [
    "# CSV Data Loader\n",
    "\n"
   ]
  },
  {
   "cell_type": "code",
   "execution_count": 8,
   "id": "initial_id",
   "metadata": {
    "ExecuteTime": {
     "end_time": "2024-11-09T11:42:53.231471Z",
     "start_time": "2024-11-09T11:42:53.230191Z"
    },
    "collapsed": true
   },
   "outputs": [
    {
     "name": "stdout",
     "output_type": "stream",
     "text": [
      "<class 'list'>\n",
      "page_content='Username; Identifier;First name;Last name: booker12;9012;Rachel;Booker' metadata={'source': 'data/sample.csv', 'row': 0}\n",
      "Username; Identifier;First name;Last name: grey07;2070;Laura;Grey\n"
     ]
    }
   ],
   "source": [
    "from langchain.document_loaders import CSVLoader\n",
    "# https://support.staffbase.com/hc/en-us/article_attachments/360009197031/username.csv\n",
    "loader = CSVLoader('data/sample.csv')\n",
    "\n",
    "data = loader.load()\n",
    "\n",
    "print(type(data))\n",
    "\n",
    "print(data[0])\n",
    "\n",
    "print(data[1].page_content)"
   ]
  },
  {
   "cell_type": "markdown",
   "id": "3df451f39a377b51",
   "metadata": {},
   "source": [
    "# Web Loaders\n",
    "## HTML Data Loader\n",
    "``` shell\n",
    "pip install beautifulsoup4\n",
    "```"
   ]
  },
  {
   "cell_type": "code",
   "execution_count": 14,
   "id": "6054b71dec973228",
   "metadata": {},
   "outputs": [
    {
     "name": "stdout",
     "output_type": "stream",
     "text": [
      "<class 'list'>\n",
      "[Document(metadata={'source': 'data/sample.html', 'title': 'HTML Element Selection Example'}, page_content='\\n\\n\\n\\nHTML Element Selection Example\\n\\n\\n\\n\\nHTML Element Selection Demo\\n\\n\\nSection 1\\nSection 2\\nSection 3\\n\\n\\n\\n\\n\\nSection 1\\nThis is a highlighted paragraph.\\nClick Me\\n\\n\\nSection 2\\n\\nItem 1\\nItem 2\\nItem 3\\n\\n\\nSubmit\\n\\n\\nSection 3\\n\\nBox 1\\nBox 2\\nBox 3\\n\\n\\n\\n\\nCreated by Your Name. Follow me on Twitter.\\n\\n\\n')]\n",
      "\n",
      "\n",
      "\n",
      "\n",
      "HTML Element Selection Example\n",
      "\n",
      "\n",
      "\n",
      "\n",
      "HTML Element Selection Demo\n",
      "\n",
      "\n",
      "Section 1\n",
      "Section 2\n",
      "Section 3\n",
      "\n",
      "\n",
      "\n",
      "\n",
      "\n",
      "Section 1\n",
      "This is a highlighted paragraph.\n",
      "Click Me\n",
      "\n",
      "\n",
      "Section 2\n",
      "\n",
      "Item 1\n",
      "Item 2\n",
      "Item 3\n",
      "\n",
      "\n",
      "Submit\n",
      "\n",
      "\n",
      "Section 3\n",
      "\n",
      "Box 1\n",
      "Box 2\n",
      "Box 3\n",
      "\n",
      "\n",
      "\n",
      "\n",
      "Created by Your Name. Follow me on Twitter.\n",
      "\n",
      "\n",
      "\n"
     ]
    }
   ],
   "source": [
    "from langchain.document_loaders import BSHTMLLoader\n",
    "from pprint import pp, pprint\n",
    "# http://help.websiteos.com/websiteos/example_of_a_simple_html_page.htm\n",
    "\n",
    "loader = BSHTMLLoader('data/sample.html')\n",
    "\n",
    "data = loader.load()\n",
    "\n",
    "print(type(data))\n",
    "\n",
    "print(data)\n",
    "\n",
    "print(data[0].page_content)"
   ]
  },
  {
   "cell_type": "markdown",
   "id": "730ca4d92157738f",
   "metadata": {},
   "source": [
    "# PDF Data Loader\n",
    "## PyPDF Data Loader\n",
    "``` shell\n",
    "pip install pypdf\n",
    "```"
   ]
  },
  {
   "cell_type": "code",
   "execution_count": 21,
   "id": "d0cf6aecc01c7ca4",
   "metadata": {},
   "outputs": [
    {
     "name": "stdout",
     "output_type": "stream",
     "text": [
      "<class 'list'>\n"
     ]
    }
   ],
   "source": [
    "from langchain.document_loaders import PyPDFLoader\n",
    "\n",
    "loader = PyPDFLoader('data/constitution.pdf')\n",
    "\n",
    "data = loader.load()\n",
    "\n",
    "\n",
    "print(type(data))\n",
    "\n",
    "# print(data)\n",
    "\n",
    "\n",
    "\n",
    "\n"
   ]
  },
  {
   "cell_type": "markdown",
   "id": "1335d0f1",
   "metadata": {},
   "source": [
    "## PyPDFDirectoryLoader Data Loader\n",
    "\n"
   ]
  },
  {
   "cell_type": "code",
   "execution_count": null,
   "id": "21c05d7c",
   "metadata": {},
   "outputs": [],
   "source": [
    "from langchain_community.document_loaders import PyPDFDirectoryLoader\n"
   ]
  },
  {
   "cell_type": "markdown",
   "id": "03672f10",
   "metadata": {},
   "source": [
    "## PDFMinerLoader"
   ]
  },
  {
   "cell_type": "code",
   "execution_count": null,
   "id": "7745f81c",
   "metadata": {},
   "outputs": [],
   "source": [
    "from langchain_community.document_loaders import PDFMinerLoader\n"
   ]
  },
  {
   "cell_type": "markdown",
   "id": "9c1676f3",
   "metadata": {},
   "source": [
    "## PyMuPDFLoader"
   ]
  },
  {
   "cell_type": "code",
   "execution_count": null,
   "id": "c18dbc99",
   "metadata": {},
   "outputs": [],
   "source": [
    "from langchain_community.document_loaders import PyMuPDFLoader\n"
   ]
  },
  {
   "cell_type": "markdown",
   "id": "111b1fae",
   "metadata": {},
   "source": [
    "## PDFPlumberLoader"
   ]
  },
  {
   "cell_type": "code",
   "execution_count": null,
   "id": "49342b59",
   "metadata": {},
   "outputs": [],
   "source": [
    "from langchain_community.document_loaders import PDFPlumberLoader\n"
   ]
  },
  {
   "cell_type": "markdown",
   "id": "fb8a4d8ab3d633b3",
   "metadata": {},
   "source": []
  }
 ],
 "metadata": {
  "kernelspec": {
   "display_name": "llm311",
   "language": "python",
   "name": "python3"
  },
  "language_info": {
   "codemirror_mode": {
    "name": "ipython",
    "version": 3
   },
   "file_extension": ".py",
   "mimetype": "text/x-python",
   "name": "python",
   "nbconvert_exporter": "python",
   "pygments_lexer": "ipython3",
   "version": "3.11.10"
  }
 },
 "nbformat": 4,
 "nbformat_minor": 5
}
