{
 "cells": [
  {
   "cell_type": "markdown",
   "id": "039217ed",
   "metadata": {},
   "source": [
    "# LangChain Data Loader\n",
    "\n",
    "```shell\n",
    "pip install langchain-community beautifulsoup4\n",
    "```"
   ]
  },
  {
   "cell_type": "code",
   "execution_count": 1,
   "id": "13a2245d1ce95019",
   "metadata": {
    "ExecuteTime": {
     "end_time": "2024-11-09T11:43:54.904188Z",
     "start_time": "2024-11-09T11:43:53.509075Z"
    }
   },
   "outputs": [
    {
     "name": "stdout",
     "output_type": "stream",
     "text": [
      "I'm just a language model, so I don't have emotions or feelings like humans do, but I'm functioning properly and ready to help you with any questions or tasks you have. How can I assist you today?\n"
     ]
    }
   ],
   "source": [
    "from langchain_openai import ChatOpenAI\n",
    "from langchain_ollama.chat_models import ChatOllama\n",
    "from os import getenv\n",
    "from dotenv import load_dotenv\n",
    "\n",
    "load_dotenv()\n",
    "\n",
    "llm = ChatOpenAI(\n",
    "    openai_api_key=getenv(\"OPENROUTER_API_KEY\"),\n",
    "    openai_api_base=\"https://openrouter.ai/api/v1\",\n",
    "    model=\"meta-llama/llama-3.2-3b-instruct:free\",\n",
    "    temperature=0.5,\n",
    "    # max_tokens=512,\n",
    "\n",
    ")\n",
    "# llm = ChatOllama(model='qwen2.5:0.5b', temperature=0.5, max_tokens=512)\n",
    "\n",
    "result = llm.invoke(\"Hello, how are you today?\")\n",
    "print(result.content)"
   ]
  },
  {
   "cell_type": "markdown",
   "id": "2141cf60f1e1436f",
   "metadata": {},
   "source": [
    "# CSV Data Loader\n",
    "\n"
   ]
  },
  {
   "cell_type": "code",
   "execution_count": 8,
   "id": "initial_id",
   "metadata": {
    "ExecuteTime": {
     "end_time": "2024-11-09T11:42:53.231471Z",
     "start_time": "2024-11-09T11:42:53.230191Z"
    },
    "collapsed": true
   },
   "outputs": [
    {
     "name": "stdout",
     "output_type": "stream",
     "text": [
      "<class 'list'>\n",
      "page_content='Username; Identifier;First name;Last name: booker12;9012;Rachel;Booker' metadata={'source': 'data/sample.csv', 'row': 0}\n",
      "Username; Identifier;First name;Last name: grey07;2070;Laura;Grey\n"
     ]
    }
   ],
   "source": [
    "from langchain.document_loaders import CSVLoader\n",
    "# https://support.staffbase.com/hc/en-us/article_attachments/360009197031/username.csv\n",
    "loader = CSVLoader('data/sample.csv')\n",
    "\n",
    "data = loader.load()\n",
    "\n",
    "print(type(data))\n",
    "\n",
    "print(data[0])\n",
    "\n",
    "print(data[1].page_content)"
   ]
  },
  {
   "cell_type": "markdown",
   "id": "3df451f39a377b51",
   "metadata": {},
   "source": [
    "# Web Loaders\n",
    "## HTML Data Loader\n",
    "``` shell\n",
    "pip install beautifulsoup4\n",
    "```"
   ]
  },
  {
   "cell_type": "code",
   "execution_count": 14,
   "id": "6054b71dec973228",
   "metadata": {},
   "outputs": [
    {
     "name": "stdout",
     "output_type": "stream",
     "text": [
      "<class 'list'>\n",
      "[Document(metadata={'source': 'data/sample.html', 'title': 'HTML Element Selection Example'}, page_content='\\n\\n\\n\\nHTML Element Selection Example\\n\\n\\n\\n\\nHTML Element Selection Demo\\n\\n\\nSection 1\\nSection 2\\nSection 3\\n\\n\\n\\n\\n\\nSection 1\\nThis is a highlighted paragraph.\\nClick Me\\n\\n\\nSection 2\\n\\nItem 1\\nItem 2\\nItem 3\\n\\n\\nSubmit\\n\\n\\nSection 3\\n\\nBox 1\\nBox 2\\nBox 3\\n\\n\\n\\n\\nCreated by Your Name. Follow me on Twitter.\\n\\n\\n')]\n",
      "\n",
      "\n",
      "\n",
      "\n",
      "HTML Element Selection Example\n",
      "\n",
      "\n",
      "\n",
      "\n",
      "HTML Element Selection Demo\n",
      "\n",
      "\n",
      "Section 1\n",
      "Section 2\n",
      "Section 3\n",
      "\n",
      "\n",
      "\n",
      "\n",
      "\n",
      "Section 1\n",
      "This is a highlighted paragraph.\n",
      "Click Me\n",
      "\n",
      "\n",
      "Section 2\n",
      "\n",
      "Item 1\n",
      "Item 2\n",
      "Item 3\n",
      "\n",
      "\n",
      "Submit\n",
      "\n",
      "\n",
      "Section 3\n",
      "\n",
      "Box 1\n",
      "Box 2\n",
      "Box 3\n",
      "\n",
      "\n",
      "\n",
      "\n",
      "Created by Your Name. Follow me on Twitter.\n",
      "\n",
      "\n",
      "\n"
     ]
    }
   ],
   "source": [
    "from langchain.document_loaders import BSHTMLLoader\n",
    "from pprint import pp, pprint\n",
    "# http://help.websiteos.com/websiteos/example_of_a_simple_html_page.htm\n",
    "\n",
    "loader = BSHTMLLoader('data/sample.html')\n",
    "\n",
    "data = loader.load()\n",
    "\n",
    "print(type(data))\n",
    "\n",
    "print(data)\n",
    "\n",
    "print(data[0].page_content)"
   ]
  },
  {
   "cell_type": "code",
   "execution_count": 45,
   "id": "a880dc69",
   "metadata": {},
   "outputs": [
    {
     "name": "stdout",
     "output_type": "stream",
     "text": [
      "<class 'list'>\n",
      "{'source': 'https://python.langchain.com/docs', 'title': 'Introduction | \\uf8ffü¶úÔ∏è\\uf8ffüîó LangChain', 'description': 'LangChain is a framework for developing applications powered by large language models (LLMs).', 'language': 'en'}\n",
      "{'source': 'https://docs.python.org/3.9', 'title': '3.9.20 Documentation', 'language': 'No language found.'}\n",
      "\n",
      "\n",
      "\n",
      "\n",
      "\n",
      "Introduction | ü¶úÔ∏èüîó LangChain\n",
      "\n",
      "\n",
      "\n",
      "\n",
      "\n",
      "\n",
      "Skip to main contentIntegrationsAPI ReferenceMoreContributingPeopleError referenceLangSmithLangGraphLangChain HubLangChain JS/TSv0.3v0.3v0.2v0.1üí¨SearchIntroductionTutorialsBuild a Question Answering application over a Graph DatabaseTutorialsBuild a Simple LLM ApplicationBuild a Query Analysis SystemBuild a ChatbotConversational RAGBuild an Extraction ChainBuild an AgentTaggingdata_generationBuild a Local RAG ApplicationBuild a PDF ingestion and Question/Answering systemBuild a Retrieval Augmented Generation (RAG) AppVector stores and retrieversBuild a Question/Answering system over SQL dataSummarize TextHow-to guidesHow-to guidesHow to use tools in a chainHow to use a vectorstore as a retrieverHow to add memory to chatbotsHow to use example selectorsHow to map values to a graph databaseHow to add a semantic layer over graph databaseHow to invoke runnables in parallelHow to stream chat model responsesHow to add default invocation args to a RunnableHow to add retrieval to chatbotsHow to use few shot examples in chat modelsHow to do tool/function callingHow to best prompt for Graph-RAGHow to install LangChain packagesHow to add examples to the prompt for query analysisHow to use few shot examplesHow to run custom functionsHow to use output parsers to parse an LLM response into structured formatHow to handle cases where no queries are generatedHow to route between sub-chainsHow to return structured data from a modelHow to summarize text through parallelizationHow to summarize text through iterative refinementHow to summarize text in a single LLM callHow to use toolkitsHow to add ad-hoc tool calling capability to LLMs and Chat ModelsBuild an Agent with AgentExecutor (Legacy)How to construct knowledge graphsHow to partially format prompt templatesHow to handle multiple queries when doing query analysisHow to use built-in tools and toolkitsHow to pass through arguments from one step to the nextHow to compose prompts togetherHow to handle multiple retrievers when doing query analysisHow to add values to a chain's stateHow to construct filters for query analysisHow to configure runtime chain internalsHow deal with high cardinality categoricals when doing query analysisCustom Document LoaderHow to split by HTML headerHow to split by HTML sectionsHow to use the MultiQueryRetrieverHow to add scores to retriever resultsCachingHow to use callbacks in async environmentsHow to attach callbacks to a runnableHow to propagate callbacks  constructorHow to dispatch custom callback eventsHow to pass callbacks in at runtimeHow to split by characterHow to cache chat model responsesHow to handle rate limitsHow to init any model in one lineHow to track token usage in ChatModelsHow to add tools to chatbotsHow to split codeHow to do retrieval with contextual compressionHow to convert Runnables to ToolsHow to create custom callback handlersHow to create a custom chat model classHow to create a custom LLM classCustom RetrieverHow to create toolsHow to debug your LLM appsHow to load CSVsHow to load documents from a directoryHow to load HTMLHow to load JSONHow to load MarkdownHow to load Microsoft Office filesHow to load PDFsHow to load web pagesHow to create a dynamic (self-constructing) chainText embedding modelsHow to combine results from multiple retrieversHow to select examples from a LangSmith datasetHow to select examples by lengthHow to select examples by maximal marginal relevance (MMR)How to select examples by n-gram overlapHow to select examples by similarityHow to use reference examples when doing extractionHow to handle long text when doing extractionHow to use prompting alone (no tool calling) to do extractionHow to add fallbacks to a runnableHow to filter messagesHybrid SearchHow to use the LangChain indexing APIHow to inspect runnablesLangChain Expression Language CheatsheetHow to cache LLM responsesHow to track token usage for LLMsRun models locallyHow to get log probabilitiesHow to reorder retrieved results to mitigate the \"lost in the middle\" effectHow to split Markdown by HeadersHow to merge consecutive messages of the same typeHow to add message historyHow to migrate from legacy LangChain agents to LangGraphHow to retrieve using multiple vectors per documentHow to pass multimodal data directly to modelsHow to use multimodal promptsHow to create a custom Output ParserHow to use the output-fixing parserHow to parse JSON outputHow to retry when a parsing error occursHow to parse text from message objectsHow to parse XML outputHow to parse YAML outputHow to use the Parent Document RetrieverHow to use LangChain with different Pydantic versionsHow to add chat historyHow to get a RAG application to add citationsHow to do per-user retrievalHow to get your RAG application to return sourcesHow to stream results from your RAG applicationHow to split JSON dataHow to recursively split text by charactersResponse metadataHow to pass runtime secrets to runnablesHow to do \"self-querying\" retrievalHow to split text based on semantic similarityHow to chain runnablesHow to save and load LangChain objectsHow to split text by tokensHow to do question answering over CSVsHow to deal with large databases when doing SQL question-answeringHow to better prompt when doing SQL question-answeringHow to do query validation as part of SQL question-answeringHow to stream runnablesHow to stream responses from an LLMHow to use a time-weighted vector store retrieverHow to return artifacts from a toolHow to use chat models to call toolsHow to disable parallel tool callingHow to force models to call a toolHow to access the RunnableConfig from a toolHow to pass tool outputs to chat modelsHow to pass run time values to toolsHow to stream events from a toolHow to stream tool callsHow to convert tools to OpenAI FunctionsHow to handle tool errorsHow to use few-shot prompting with tool callingHow to add a human-in-the-loop for toolsHow to bind model-specific toolsHow to trim messagesHow to create and query vector storesConceptual guideAgentsArchitectureAsync programming with langchainCallbacksChat historyChat modelsDocument loadersEmbedding modelsEvaluationExample selectorsFew-shot promptingConceptual guideKey-value storesLangChain Expression Language (LCEL)MessagesMultimodalityOutput parsersPrompt TemplatesRetrieval augmented generation (rag)RetrievalRetrieversRunnable interfaceStreamingStructured outputsTestingString-in, string-out llmsText splittersTokensTool callingToolsTracingVector storesWhy LangChain?Ecosystemü¶úüõ†Ô∏è LangSmithü¶úüï∏Ô∏è LangGraphVersionsv0.3v0.2Pydantic compatibilityMigrating from v0.0 chainsHow to migrate from v0.0 chainsMigrating from ConstitutionalChainMigrating from ConversationalChainMigrating from ConversationalRetrievalChainMigrating from LLMChainMigrating from LLMMathChainMigrating from LLMRouterChainMigrating from MapReduceDocumentsChainMigrating from MapRerankDocumentsChainMigrating from MultiPromptChainMigrating from RefineDocumentsChainMigrating from RetrievalQAMigrating from StuffDocumentsChainUpgrading to LangGraph memoryHow to migrate to LangGraph memoryHow to use BaseChatMessageHistory with LangGraphMigrating off ConversationBufferMemory or ConversationStringBufferMemoryMigrating off ConversationBufferWindowMemory or ConversationTokenBufferMemoryMigrating off ConversationSummaryMemory or ConversationSummaryBufferMemoryA Long-Term Memory AgentRelease policySecurityIntroductionOn this pageIntroduction\n",
      "LangChain is a framework for developing applications powered by large language models (LLMs).\n",
      "LangChain simplifies every stage of the LLM application lifecycle:\n",
      "\n",
      "Development: Build your applications using LangChain's open-source building blocks, components, and third-party integrations.\n",
      "Use LangGraph to build stateful agents with first-class streaming and human-in-the-loop support.\n",
      "Productionization: Use LangSmith to inspect, monitor and evaluate your chains, so that you can continuously optimize and deploy with confidence.\n",
      "Deployment: Turn your LangGraph applications into production-ready APIs and Assistants with LangGraph Cloud.\n",
      "\n",
      "\n",
      "\n",
      "Concretely, the framework consists of the following open-source libraries:\n",
      "\n",
      "langchain-core: Base abstractions and LangChain Expression Language.\n",
      "Integration packages (e.g. langchain-openai, langchain-anthropic, etc.): Important integrations have been split into lightweight packages that are co-maintained by the LangChain team and the integration developers.\n",
      "langchain: Chains, agents, and retrieval strategies that make up an application's cognitive architecture.\n",
      "langchain-community: Third-party integrations that are community maintained.\n",
      "LangGraph: Build robust and stateful multi-actor applications with LLMs by modeling steps as edges and nodes in a graph. Integrates smoothly with LangChain, but can be used without it.\n",
      "LangGraphPlatform: Deploy LLM applications built with LangGraph to production.\n",
      "LangSmith: A developer platform that lets you debug, test, evaluate, and monitor LLM applications.\n",
      "\n",
      "noteThese docs focus on the Python LangChain library. Head here for docs on the JavaScript LangChain library.\n",
      "Tutorials‚Äã\n",
      "If you're looking to build something specific or are more of a hands-on learner, check out our tutorials section.\n",
      "This is the best place to get started.\n",
      "These are the best ones to get started with:\n",
      "\n",
      "Build a Simple LLM Application\n",
      "Build a Chatbot\n",
      "Build an Agent\n",
      "Introduction to LangGraph\n",
      "\n",
      "Explore the full list of LangChain tutorials here, and check out other LangGraph tutorials here. To learn more about LangGraph, check out our first LangChain Academy course, Introduction to LangGraph, available here.\n",
      "How-to guides‚Äã\n",
      "Here you‚Äôll find short answers to ‚ÄúHow do I‚Ä¶.?‚Äù types of questions.\n",
      "These how-to guides don‚Äôt cover topics in depth ‚Äì you‚Äôll find that material in the Tutorials and the API Reference.\n",
      "However, these guides will help you quickly accomplish common tasks using chat models,\n",
      "vector stores, and other common LangChain components.\n",
      "Check out LangGraph-specific how-tos here.\n",
      "Conceptual guide‚Äã\n",
      "Introductions to all the key parts of LangChain you‚Äôll need to know! Here you'll find high level explanations of all LangChain concepts.\n",
      "For a deeper dive into LangGraph concepts, check out this page.\n",
      "Integrations‚Äã\n",
      "LangChain is part of a rich ecosystem of tools that integrate with our framework and build on top of it.\n",
      "If you're looking to get up and running quickly with chat models, vector stores,\n",
      "or other LangChain components from a specific provider, check out our growing list of integrations.\n",
      "API reference‚Äã\n",
      "Head to the reference section for full documentation of all classes and methods in the LangChain Python packages.\n",
      "Ecosystem‚Äã\n",
      "ü¶úüõ†Ô∏è LangSmith‚Äã\n",
      "Trace and evaluate your language model applications and intelligent agents to help you move from prototype to production.\n",
      "ü¶úüï∏Ô∏è LangGraph‚Äã\n",
      "Build stateful, multi-actor applications with LLMs. Integrates smoothly with LangChain, but can be used without it.\n",
      "Additional resources‚Äã\n",
      "Versions‚Äã\n",
      "See what changed in v0.3, learn how to migrate legacy code, read up on our versioning policies, and more.\n",
      "Security‚Äã\n",
      "Read up on security best practices to make sure you're developing safely with LangChain.\n",
      "Contributing‚Äã\n",
      "Check out the developer's guide for guidelines on contributing and help getting your dev environment set up.Edit this pageWas this page helpful?NextTutorialsTutorialsHow-to guidesConceptual guideIntegrationsAPI referenceEcosystemü¶úüõ†Ô∏è LangSmithü¶úüï∏Ô∏è LangGraphAdditional resourcesVersionsSecurityContributingCommunityTwitterGitHubOrganizationPythonJS/TSMoreHomepageBlogYouTubeCopyright ¬© 2024 LangChain, Inc.\n",
      "\n",
      "\n"
     ]
    }
   ],
   "source": [
    "from langchain_community.document_loaders import WebBaseLoader\n",
    "\n",
    "loader = WebBaseLoader(['https://python.langchain.com/docs', 'https://docs.python.org/3.9'])\n",
    "\n",
    "docs = loader.load()\n",
    "\n",
    "print(type(docs))\n",
    "\n",
    "print(docs[0].metadata)\n",
    "print(docs[1].metadata)\n",
    "print(docs[0].page_content)"
   ]
  },
  {
   "cell_type": "markdown",
   "id": "8bd6a1f0",
   "metadata": {},
   "source": [
    "## RecursiveUrlLoader Data Loader\n"
   ]
  },
  {
   "cell_type": "code",
   "execution_count": 39,
   "id": "e1fd56ca",
   "metadata": {},
   "outputs": [
    {
     "name": "stderr",
     "output_type": "stream",
     "text": [
      "/Users/james/miniconda3/envs/llm311/lib/python3.11/html/parser.py:170: XMLParsedAsHTMLWarning: It looks like you're parsing an XML document using an HTML parser. If this really is an HTML document (maybe it's XHTML?), you can ignore or filter this warning. If it's XML, you should know that using an XML parser will be more reliable. To parse this document as XML, make sure you have the lxml package installed, and pass the keyword argument `features=\"xml\"` into the BeautifulSoup constructor.\n",
      "  k = self.parse_starttag(i)\n"
     ]
    },
    {
     "name": "stdout",
     "output_type": "stream",
     "text": [
      "{'source': 'https://docs.python.org/3.9/', 'content_type': 'text/html', 'title': '3.9.20 Documentation', 'language': None}\n",
      "\n",
      "<!DOCTYPE html>\n",
      "\n",
      "<html xmlns=\"http://www.w3.org/1999/xhtml\">\n",
      "  <head>\n",
      "    <meta charset=\"utf-8\" /><title>3.9.20 Documentation</title><meta name=\"viewport\" content=\"width=device-width, initial-scale=1.0\">\n",
      "    \n",
      "    <link rel=\"stylesheet\" href=\"_static/pydoctheme.css\" type=\"text/css\" />\n",
      "    <link rel=\n",
      "None\n"
     ]
    }
   ],
   "source": [
    "from langchain_community.document_loaders import RecursiveUrlLoader\n",
    "loader = RecursiveUrlLoader(\n",
    "    \"https://docs.python.org/3.9/\",\n",
    "    # max_depth=2,\n",
    "    # use_async=False,\n",
    "    # extractor=None,\n",
    "    # metadata_extractor=None,\n",
    "    # exclude_dirs=(),\n",
    "    # timeout=10,\n",
    "    # check_response_status=True,\n",
    "    # continue_on_failure=True,\n",
    "    # prevent_outside=True,\n",
    "    # base_url=None,\n",
    "    # ...\n",
    ")\n",
    "\n",
    "docs = loader.load()\n",
    "print(docs[0].metadata)\n",
    "print(print(docs[0].page_content[:300]))\n"
   ]
  },
  {
   "cell_type": "markdown",
   "id": "730ca4d92157738f",
   "metadata": {},
   "source": [
    "# PDF Data Loader\n",
    "## PyPDF Data Loader\n",
    "``` shell\n",
    "pip install pypdf\n",
    "```"
   ]
  },
  {
   "cell_type": "code",
   "execution_count": 36,
   "id": "d0cf6aecc01c7ca4",
   "metadata": {},
   "outputs": [
    {
     "name": "stdout",
     "output_type": "stream",
     "text": [
      "<class 'list'>\n",
      "{'source': 'data/constitution.pdf', 'page': 0}\n",
      "C O N S T I T U T I O N O F T H E U N I T E D S T A T E S   \n",
      " \n",
      " \n",
      " \n",
      "We the People of the United States, in Order to form a \n",
      "more perfect Union, establish Justice, insure domestic \n",
      "Tranquility, provide \n"
     ]
    }
   ],
   "source": [
    "from langchain.document_loaders import PyPDFLoader\n",
    "\n",
    "loader = PyPDFLoader('data/constitution.pdf')\n",
    "\n",
    "data = loader.load()\n",
    "\n",
    "\n",
    "print(type(data))\n",
    "\n",
    "# print(data)\n",
    "\n",
    "\n",
    "print(data[0].metadata)\n",
    "print(data[1].page_content[:200])\n",
    "\n"
   ]
  },
  {
   "cell_type": "code",
   "execution_count": null,
   "id": "16bd4d95",
   "metadata": {},
   "outputs": [
    {
     "name": "stdout",
     "output_type": "stream",
     "text": [
      "{'source': 'data/constitution.pdf', 'page': 10}\n",
      "C O\n"
     ]
    }
   ],
   "source": [
    "pages = []\n",
    "for doc in loader.lazy_load():\n",
    "    pages.append(doc)\n",
    "    if len(pages) >= 10:\n",
    "        # do some paged operation, e.g.\n",
    "        # index.upsert(page)\n",
    "\n",
    "        pages = []\n",
    "\n",
    "\n",
    "print(pages[0].metadata)\n"
   ]
  },
  {
   "cell_type": "code",
   "execution_count": null,
   "id": "64cdc944",
   "metadata": {},
   "outputs": [
    {
     "name": "stdout",
     "output_type": "stream",
     "text": [
      "C O N S T I T U T I O N O F T H E U N I T E D S T A T E S  Amendment   VI. \n",
      "In all criminal prosecutions, the accused shall enjoy the  \n",
      "right to a speedy and public  trial, by an impartial jury of \n",
      "th\n"
     ]
    }
   ],
   "source": []
  },
  {
   "cell_type": "markdown",
   "id": "1335d0f1",
   "metadata": {},
   "source": [
    "## PyPDFDirectoryLoader Data Loader\n",
    "\n"
   ]
  },
  {
   "cell_type": "code",
   "execution_count": 46,
   "id": "21c05d7c",
   "metadata": {},
   "outputs": [
    {
     "name": "stdout",
     "output_type": "stream",
     "text": [
      "<class 'list'>\n",
      "{'source': 'data/constitution.pdf', 'page': 0}\n",
      "C O N S T I T U T I O N O F T H E U N I T E D S T A T E S   \n",
      " \n",
      " \n",
      " \n",
      "We the People of the United States, in Order to form a \n",
      "more perfect Union, establish Justice, insure domestic \n",
      "Tranquility, provide \n"
     ]
    }
   ],
   "source": [
    "from langchain_community.document_loaders import PyPDFDirectoryLoader\n",
    "\n",
    "loader = PyPDFDirectoryLoader('data/')\n",
    "\n",
    "\n",
    "data = loader.load()\n",
    "\n",
    "print(type(data))\n",
    "\n",
    "\n",
    "print(data[0].metadata)\n",
    "\n",
    "\n",
    "print(data[1].page_content[:200])\n",
    "\n"
   ]
  },
  {
   "cell_type": "code",
   "execution_count": null,
   "id": "7f8ef920",
   "metadata": {},
   "outputs": [],
   "source": []
  }
 ],
 "metadata": {
  "kernelspec": {
   "display_name": "llm311",
   "language": "python",
   "name": "python3"
  },
  "language_info": {
   "codemirror_mode": {
    "name": "ipython",
    "version": 3
   },
   "file_extension": ".py",
   "mimetype": "text/x-python",
   "name": "python",
   "nbconvert_exporter": "python",
   "pygments_lexer": "ipython3",
   "version": "3.11.10"
  }
 },
 "nbformat": 4,
 "nbformat_minor": 5
}
