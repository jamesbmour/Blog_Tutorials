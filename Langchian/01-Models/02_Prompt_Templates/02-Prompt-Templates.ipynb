{
 "cells": [
  {
   "cell_type": "code",
   "execution_count": null,
   "id": "initial_id",
   "metadata": {
    "ExecuteTime": {
     "end_time": "2024-11-09T10:14:10.954362Z",
     "start_time": "2024-11-09T10:14:01.837631Z"
    },
    "collapsed": true
   },
   "outputs": [],
   "source": [
    "from langchain_openai import ChatOpenAI\n",
    "from os import getenv\n",
    "from dotenv import load_dotenv\n",
    "\n",
    "load_dotenv()\n",
    "\n",
    "llm = ChatOpenAI(\n",
    "    openai_api_key=getenv(\"OPENROUTER_API_KEY\"),\n",
    "    openai_api_base=\"https://openrouter.ai/api/v1\",\n",
    "    model=\"meta-llama/llama-3.2-3b-instruct:free\",\n",
    "    temperature=0.5,\n",
    "    max_tokens=100,\n",
    "\n",
    ")\n",
    "\n",
    "result = llm.invoke(\"Hello, how are you today?\")\n",
    "result.content"
   ]
  },
  {
   "cell_type": "markdown",
   "id": "4ad74a439fa41369",
   "metadata": {},
   "source": [
    "# String PromptTemplates"
   ]
  },
  {
   "cell_type": "code",
   "execution_count": null,
   "id": "eac07c035405c631",
   "metadata": {
    "ExecuteTime": {
     "end_time": "2024-11-09T10:20:54.477923Z",
     "start_time": "2024-11-09T10:20:54.473539Z"
    }
   },
   "outputs": [],
   "source": [
    "# Create template\n",
    "fact_template = PromptTemplate(\n",
    "    input_variables=[\"topic\"],\n",
    "    template=\"Tell me a fact about {topic}.\"\n",
    ")\n",
    "\n",
    "# Use template\n",
    "formatted_prompt = fact_template.format(topic=\"Moon\")\n",
    "print(formatted_prompt)  # Outputs: Tell me a fact about Moon."
   ]
  },
  {
   "cell_type": "code",
   "execution_count": null,
   "id": "875f848b995ffa49",
   "metadata": {
    "ExecuteTime": {
     "end_time": "2024-11-09T10:26:02.596288Z",
     "start_time": "2024-11-09T10:26:02.592927Z"
    }
   },
   "outputs": [],
   "source": [
    "# Define a template for creating prompts that require multiple input variables: 'topic' and 'level'\n",
    "multiple_input_prompt = PromptTemplate(\n",
    "    input_variables=[\"topic\", \"level\"],  # Specify the required input variables\n",
    "    template=\"Tell me a fact about {topic} for a student {level} level.\"  # Template string with placeholders for inputs\n",
    ")\n",
    "\n",
    "# Format the prompt by replacing the placeholders in the template with actual values: 'Moon' for topic and '6th Grade' for level\n",
    "multiple_input_prompt.format(topic='Moon', level='6th Grade')"
   ]
  },
  {
   "cell_type": "code",
   "execution_count": null,
   "id": "a290e4df1e0303ff",
   "metadata": {
    "ExecuteTime": {
     "end_time": "2024-11-09T10:30:13.577037Z",
     "start_time": "2024-11-09T10:30:12.181130Z"
    }
   },
   "outputs": [],
   "source": [
    "result = llm.invoke(multiple_input_prompt.format(topic='Moon', level='6th Grade'))\n",
    "print(result.content)\n"
   ]
  },
  {
   "cell_type": "markdown",
   "id": "79dc58b6709bce8c",
   "metadata": {},
   "source": [
    "# ChatPromptTemplates"
   ]
  },
  {
   "cell_type": "code",
   "execution_count": null,
   "id": "51cd112837f36773",
   "metadata": {
    "ExecuteTime": {
     "end_time": "2024-11-09T10:28:51.778895Z",
     "start_time": "2024-11-09T10:28:51.776086Z"
    }
   },
   "outputs": [],
   "source": [
    "from langchain_core.prompts import ChatPromptTemplate\n",
    "\n",
    "prompt_template = ChatPromptTemplate([\n",
    "    (\"system\", \"You are a helpful assistant\"),\n",
    "    (\"user\", \"Tell me a joke about {topic}\")\n",
    "])\n",
    "\n",
    "# prompt_template.format(topic=\"chickens\")\n",
    "p = prompt_template.invoke({\"topic\": \"cats\"}).to_messages()\n"
   ]
  },
  {
   "cell_type": "code",
   "execution_count": null,
   "id": "73a03f01d8a5e5a0",
   "metadata": {
    "ExecuteTime": {
     "end_time": "2024-11-09T10:28:56.744131Z",
     "start_time": "2024-11-09T10:28:55.237564Z"
    }
   },
   "outputs": [],
   "source": [
    "llm.invoke(p)"
   ]
  },
  {
   "cell_type": "markdown",
   "id": "5add5052d8bafd44",
   "metadata": {},
   "source": [
    "# MessagesPlaceholder"
   ]
  },
  {
   "cell_type": "code",
   "execution_count": null,
   "id": "16a5612d351d7f4b",
   "metadata": {
    "ExecuteTime": {
     "end_time": "2024-11-09T10:32:26.690831Z",
     "start_time": "2024-11-09T10:32:26.687585Z"
    }
   },
   "outputs": [],
   "source": [
    "from langchain_core.prompts import ChatPromptTemplate, MessagesPlaceholder\n",
    "from langchain_core.messages import HumanMessage\n",
    "\n",
    "# Define a chat prompt template with a system message and a placeholder for user messages\n",
    "prompt_template = ChatPromptTemplate([\n",
    "    (\"system\", \"You are a helpful assistant\"),  # System message indicating the assistant's role\n",
    "    MessagesPlaceholder(\"msgs\")  # Placeholder where user messages will be inserted\n",
    "])\n",
    "\n",
    "# Invoke the prompt template with a list containing a single human message\n",
    "p = prompt_template.invoke({\"msgs\": [HumanMessage(content=\"hi!\")]})  # User sends \"hi!\" to the assistant\n"
   ]
  },
  {
   "cell_type": "code",
   "execution_count": null,
   "id": "34df18200c4184f3",
   "metadata": {
    "ExecuteTime": {
     "end_time": "2024-11-09T10:32:43.820210Z",
     "start_time": "2024-11-09T10:32:43.291277Z"
    }
   },
   "outputs": [],
   "source": [
    "\n",
    "r = llm.invoke(p)\n",
    "\n",
    "r.content"
   ]
  },
  {
   "cell_type": "markdown",
   "id": "a3b6862831aa7299",
   "metadata": {},
   "source": [
    "# Few-Shot PromptTemplates"
   ]
  },
  {
   "cell_type": "code",
   "execution_count": null,
   "id": "84f2789169cf3c1b",
   "metadata": {
    "ExecuteTime": {
     "end_time": "2024-11-09T10:39:50.192886Z",
     "start_time": "2024-11-09T10:39:50.189254Z"
    }
   },
   "outputs": [],
   "source": [
    "from langchain_core.prompts import ChatPromptTemplate, FewShotChatMessagePromptTemplate\n",
    "\n",
    "# Define a list of examples with input and corresponding output\n",
    "examples = [\n",
    "    {\"input\": \"2 🦜 2\", \"output\": \"4\"},\n",
    "    {\"input\": \"2 🦜 3\", \"output\": \"5\"},\n",
    "]\n",
    "\n",
    "example_prompt = ChatPromptTemplate.from_messages(\n",
    "    [\n",
    "        (\"user\", \"{input}?\"),\n",
    "        (\"ai\", \"{output}.\")\n",
    "    ]\n",
    ")"
   ]
  },
  {
   "cell_type": "code",
   "execution_count": null,
   "id": "fe2340c97a5325b6",
   "metadata": {
    "ExecuteTime": {
     "end_time": "2024-11-09T10:41:15.744802Z",
     "start_time": "2024-11-09T10:41:15.742471Z"
    }
   },
   "outputs": [],
   "source": [
    "from langchain_core.prompts import FewShotChatMessagePromptTemplate\n",
    "\n",
    "few_shot_prompt = FewShotChatMessagePromptTemplate(\n",
    "    examples=examples,\n",
    "    example_prompt=example_prompt\n",
    ")"
   ]
  },
  {
   "cell_type": "code",
   "execution_count": null,
   "id": "52282cf674ba5ad5",
   "metadata": {
    "ExecuteTime": {
     "end_time": "2024-11-09T10:41:41.095172Z",
     "start_time": "2024-11-09T10:41:41.092571Z"
    }
   },
   "outputs": [],
   "source": [
    "p = few_shot_prompt.invoke({}).to_messages()\n",
    "\n",
    "p\n",
    "\n"
   ]
  },
  {
   "cell_type": "code",
   "execution_count": null,
   "id": "ae4c451315a20117",
   "metadata": {
    "ExecuteTime": {
     "end_time": "2024-11-09T10:41:58.325770Z",
     "start_time": "2024-11-09T10:41:54.098113Z"
    }
   },
   "outputs": [],
   "source": [
    "\n",
    "r = llm.invoke(p)\n",
    "r.content\n"
   ]
  }
 ],
 "metadata": {
  "kernelspec": {
   "display_name": "blog-tutorials-M8bgSKgB-py3.12",
   "language": "python",
   "name": "python3"
  },
  "language_info": {
   "codemirror_mode": {
    "name": "ipython",
    "version": 3
   },
   "file_extension": ".py",
   "mimetype": "text/x-python",
   "name": "python",
   "nbconvert_exporter": "python",
   "pygments_lexer": "ipython3",
   "version": "3.12.4"
  }
 },
 "nbformat": 4,
 "nbformat_minor": 5
}
