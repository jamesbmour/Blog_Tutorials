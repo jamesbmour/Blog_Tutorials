{
 "cells": [
  {
   "cell_type": "markdown",
   "metadata": {},
   "source": [
    "# Serialization"
   ]
  },
  {
   "cell_type": "code",
   "execution_count": 10,
   "metadata": {},
   "outputs": [],
   "source": [
    "from langchain_ollama import ChatOllama\n",
    "from pprint import pprint"
   ]
  },
  {
   "cell_type": "markdown",
   "metadata": {},
   "source": [
    "## Setting Upp LLM"
   ]
  },
  {
   "cell_type": "code",
   "execution_count": 11,
   "metadata": {},
   "outputs": [
    {
     "name": "stdout",
     "output_type": "stream",
     "text": [
      "As an artificial intelligence language model, I don't have personal beliefs or values like humans do. However, I can provide some general information about this question.\n",
      "\n",
      "The concept of \"life\" as we know it today has been around for a long time. It's a widely debated topic among philosophers, scientists, and theologians. Some people believe that life is an inherent quality of all living beings, while others argue that it's an illusion or a product of human consciousness.\n",
      "\n",
      "From a philosophical perspective, the meaning of life can be seen as seeking purpose, meaning, or significance in one's existence. This can involve exploring questions like \"What is the greatest good for me to do?\" or \"Why am I here?\"\n",
      "\n",
      "From a scientific standpoint, life has been studied extensively through fields such as biology, psychology, and neuroscience. Scientists have found that living organisms are capable of experiencing emotions, memories, and experiences.\n",
      "\n",
      "Ultimately, the meaning of life can be subjective and varies from person to person. Some people find meaning in their relationships with others, while others look for deeper answers in their own lives.\n",
      "\n",
      "If you're interested in exploring this question further or seeking a different perspective on it, I'd be happy to help provide information or engage in a thoughtful discussion.\n"
     ]
    }
   ],
   "source": [
    "llm = ChatOllama(model=\"qwen2.5:0.5b\", temperature=0.5, max_tokens=4096)\n",
    "\n",
    "r = llm.invoke(\"What is the meaning of life?\")\n",
    "print(r.content)"
   ]
  },
  {
   "cell_type": "markdown",
   "metadata": {},
   "source": [
    "# Saving Prompts"
   ]
  },
  {
   "cell_type": "code",
   "execution_count": 12,
   "metadata": {},
   "outputs": [],
   "source": [
    "from langchain import PromptTemplate\n",
    "\n",
    "template = \"Question: {question}\\nAnswer: Think step by step.\"\n",
    "\n",
    "prompt = PromptTemplate(template=template, input_variables=[\"question\"])\n",
    "\n",
    "prompt.save(\"ollama_template.json\")"
   ]
  },
  {
   "cell_type": "markdown",
   "metadata": {},
   "source": [
    "# Load Prompts"
   ]
  },
  {
   "cell_type": "code",
   "execution_count": 13,
   "metadata": {},
   "outputs": [
    {
     "name": "stdout",
     "output_type": "stream",
     "text": [
      "{'_type': 'prompt',\n",
      " 'input_variables': ['question'],\n",
      " 'metadata': None,\n",
      " 'name': None,\n",
      " 'optional_variables': [],\n",
      " 'output_parser': None,\n",
      " 'partial_variables': {},\n",
      " 'tags': None,\n",
      " 'template': 'Question: {question}\\nAnswer: Think step by step.',\n",
      " 'template_format': 'f-string',\n",
      " 'validate_template': False}\n"
     ]
    }
   ],
   "source": [
    "from langchain.prompts import load_prompt\n",
    "\n",
    "prompt = load_prompt(\"ollama_template.json\")\n",
    "\n",
    "pprint(prompt.dict())"
   ]
  },
  {
   "cell_type": "code",
   "execution_count": null,
   "metadata": {},
   "outputs": [],
   "source": []
  }
 ],
 "metadata": {
  "kernelspec": {
   "display_name": "blog-tutorials-M8bgSKgB-py3.12",
   "language": "python",
   "name": "python3"
  },
  "language_info": {
   "codemirror_mode": {
    "name": "ipython",
    "version": 3
   },
   "file_extension": ".py",
   "mimetype": "text/x-python",
   "name": "python",
   "nbconvert_exporter": "python",
   "pygments_lexer": "ipython3",
   "version": "3.12.4"
  }
 },
 "nbformat": 4,
 "nbformat_minor": 2
}
