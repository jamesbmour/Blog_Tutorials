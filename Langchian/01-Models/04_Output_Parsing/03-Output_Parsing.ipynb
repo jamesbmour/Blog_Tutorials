{
 "cells": [
  {
   "cell_type": "code",
   "id": "initial_id",
   "metadata": {
    "collapsed": true,
    "ExecuteTime": {
     "end_time": "2024-11-09T11:03:20.397655Z",
     "start_time": "2024-11-09T11:03:19.602792Z"
    }
   },
   "source": [
    "from langchain_openai import ChatOpenAI\n",
    "from langchain_ollama.chat_models import ChatOllama\n",
    "from os import getenv\n",
    "from dotenv import load_dotenv\n",
    "\n",
    "load_dotenv()\n",
    "\n",
    "llm = ChatOpenAI(\n",
    "    openai_api_key=getenv(\"OPENROUTER_API_KEY\"),\n",
    "    openai_api_base=\"https://openrouter.ai/api/v1\",\n",
    "    model=\"meta-llama/llama-3.2-3b-instruct:free\",\n",
    "    temperature=0.5,\n",
    "    # max_tokens=512,\n",
    "\n",
    ")\n",
    "# llm = ChatOllama(model='qwen2.5:0.5b', temperature=0.5, max_tokens=512)\n",
    "\n",
    "result = llm.invoke(\"Hello, how are you today?\")\n",
    "result.content"
   ],
   "outputs": [
    {
     "data": {
      "text/plain": [
       "\"I'm just a language model, so I don't have emotions or feelings like humans do, but I'm functioning properly and ready to help you with any questions or tasks you have. How can I assist you today?\""
      ]
     },
     "execution_count": 30,
     "metadata": {},
     "output_type": "execute_result"
    }
   ],
   "execution_count": 30
  },
  {
   "metadata": {},
   "cell_type": "markdown",
   "source": "# JSON Output Parsing",
   "id": "d667bf019fb932fc"
  },
  {
   "metadata": {
    "ExecuteTime": {
     "end_time": "2024-11-09T11:03:31.437580Z",
     "start_time": "2024-11-09T11:03:20.472316Z"
    }
   },
   "cell_type": "code",
   "source": [
    "from langchain_core.output_parsers import JsonOutputParser\n",
    "from langchain_core.prompts import PromptTemplate\n",
    "from pydantic import BaseModel, Field\n",
    "\n",
    "\n",
    "# Define your desired data structure.\n",
    "class Joke(BaseModel):\n",
    "    setup: str = Field(description=\"question to set up a joke\")\n",
    "    punchline: str = Field(description=\"answer to resolve the joke\")\n",
    "\n",
    "\n",
    "# And a query intented to prompt a language model to populate the data structure.\n",
    "joke_query = \"Tell me a joke.\"\n",
    "\n",
    "# Set up a parser + inject instructions into the prompt template.\n",
    "parser = JsonOutputParser(pydantic_object=Joke)\n",
    "\n",
    "prompt = PromptTemplate(\n",
    "    template=\"Answer the user query.\\n{format_instructions}\\n{query}\\n\",\n",
    "    input_variables=[\"query\"],\n",
    "    partial_variables={\"format_instructions\": parser.get_format_instructions()},\n",
    ")\n",
    "\n",
    "chain = prompt | llm | parser\n",
    "\n",
    "chain.invoke({\"query\": joke_query})"
   ],
   "id": "79b09939c4b5a91b",
   "outputs": [
    {
     "data": {
      "text/plain": [
       "{'setup': 'Why did the scarecrow win an award?',\n",
       " 'punchline': 'Because he was outstanding in his field!'}"
      ]
     },
     "execution_count": 31,
     "metadata": {},
     "output_type": "execute_result"
    }
   ],
   "execution_count": 31
  },
  {
   "metadata": {
    "ExecuteTime": {
     "end_time": "2024-11-09T11:03:31.518753Z",
     "start_time": "2024-11-09T11:03:31.516063Z"
    }
   },
   "cell_type": "code",
   "source": "parser.get_format_instructions()\n",
   "id": "ebebde923ef851f4",
   "outputs": [
    {
     "data": {
      "text/plain": [
       "'The output should be formatted as a JSON instance that conforms to the JSON schema below.\\n\\nAs an example, for the schema {\"properties\": {\"foo\": {\"title\": \"Foo\", \"description\": \"a list of strings\", \"type\": \"array\", \"items\": {\"type\": \"string\"}}}, \"required\": [\"foo\"]}\\nthe object {\"foo\": [\"bar\", \"baz\"]} is a well-formatted instance of the schema. The object {\"properties\": {\"foo\": [\"bar\", \"baz\"]}} is not well-formatted.\\n\\nHere is the output schema:\\n```\\n{\"properties\": {\"setup\": {\"description\": \"question to set up a joke\", \"title\": \"Setup\", \"type\": \"string\"}, \"punchline\": {\"description\": \"answer to resolve the joke\", \"title\": \"Punchline\", \"type\": \"string\"}}, \"required\": [\"setup\", \"punchline\"]}\\n```'"
      ]
     },
     "execution_count": 32,
     "metadata": {},
     "output_type": "execute_result"
    }
   ],
   "execution_count": 32
  },
  {
   "metadata": {},
   "cell_type": "markdown",
   "source": "## Streaming Output",
   "id": "791776485df71aec"
  },
  {
   "metadata": {
    "ExecuteTime": {
     "end_time": "2024-11-09T11:03:32.665873Z",
     "start_time": "2024-11-09T11:03:31.603626Z"
    }
   },
   "cell_type": "code",
   "source": [
    "for s in chain.stream({\"query\": joke_query}):\n",
    "    print(s)"
   ],
   "id": "f4989bfbee42cba",
   "outputs": [
    {
     "name": "stdout",
     "output_type": "stream",
     "text": [
      "{}\n",
      "{'setup': \"Why don't skeletons fight each other?\"}\n",
      "{'setup': \"Why don't skeletons fight each other?\", 'punchline': \"They don't have\"}\n",
      "{'setup': \"Why don't skeletons fight each other?\", 'punchline': \"They don't have the guts.\"}\n"
     ]
    }
   ],
   "execution_count": 33
  },
  {
   "metadata": {
    "ExecuteTime": {
     "end_time": "2024-11-09T11:03:33.333111Z",
     "start_time": "2024-11-09T11:03:32.735835Z"
    }
   },
   "cell_type": "code",
   "source": [
    "joke_query = \"Tell me a joke.\"\n",
    "\n",
    "parser = JsonOutputParser()\n",
    "\n",
    "prompt = PromptTemplate(\n",
    "    template=\"Answer the user query.\\n{format_instructions}\\n{query}\\n\",\n",
    "    input_variables=[\"query\"],\n",
    "    partial_variables={\"format_instructions\": parser.get_format_instructions()},\n",
    ")\n",
    "\n",
    "chain = prompt | llm | parser\n",
    "\n",
    "chain.invoke({\"query\": joke_query})"
   ],
   "id": "14cd6b203402f4c",
   "outputs": [
    {
     "data": {
      "text/plain": [
       "{'joke': \"Why couldn't the bicycle stand up by itself? Because it was two-tired!\"}"
      ]
     },
     "execution_count": 34,
     "metadata": {},
     "output_type": "execute_result"
    }
   ],
   "execution_count": 34
  },
  {
   "metadata": {},
   "cell_type": "markdown",
   "source": "# XML",
   "id": "a5ae773042e15190"
  },
  {
   "metadata": {
    "ExecuteTime": {
     "end_time": "2024-11-09T11:03:38.225068Z",
     "start_time": "2024-11-09T11:03:33.406124Z"
    }
   },
   "cell_type": "code",
   "source": [
    "from langchain_core.output_parsers import XMLOutputParser\n",
    "from langchain_core.prompts import PromptTemplate\n",
    "\n",
    "actor_query = \"Generate the shortened filmography for Tom Hanks.\"\n",
    "\n",
    "output = llm.invoke(\n",
    "    f\"\"\"{actor_query}\n",
    "Please enclose the movies in <movie></movie> tags\"\"\"\n",
    ")\n",
    "\n",
    "print(output.content)"
   ],
   "id": "7ea10048c577671b",
   "outputs": [
    {
     "name": "stdout",
     "output_type": "stream",
     "text": [
      "Here's a shortened filmography for Tom Hanks:\n",
      "\n",
      "- <movie>He Knows You're Alone</movie> (1980)\n",
      "- <movie>Splash</movie> (1984)\n",
      "- <movie>Big</movie> (1988)\n",
      "- <movie>Turner & Hooch</movie> (1989)\n",
      "- <movie>The Bonfire of the Vanities</movie> (1990)\n",
      "- <movie>A League of Their Own</movie> (1992)\n",
      "- <movie>Sleepless in Seattle</movie> (1993)\n",
      "- <movie>Philadelphia</movie> (1993)\n",
      "- <movie>Forrest Gump</movie> (1994)\n",
      "- <movie>Apollo 13</movie> (1995)\n",
      "- <movie>Toy Story</movie> (1995)\n",
      "- <movie>That Thing You Do!</movie> (1996)\n",
      "- <movie>Saving Private Ryan</movie> (1998)\n",
      "- <movie>You've Got Mail</movie> (1998)\n",
      "- <movie>The Green Mile</movie> (1999)\n",
      "- <movie>Cast Away</movie> (2000)\n",
      "- <movie>Road to Perdition</movie> (2002)\n",
      "- <movie>The Terminal</movie> (2004)\n",
      "- <movie>The Polar Express</movie> (2004)\n",
      "- <movie>Charlie Wilson's War</movie> (2007)\n",
      "- <movie>Angels & Demons</movie> (2009)\n",
      "- <movie>Toy Story 3</movie> (2010)\n",
      "- <movie>Larry Crowne</movie> (2011)\n",
      "- <movie>Extremely Loud & Incredibly Close</movie> (2011)\n",
      "- <movie>Cloud Atlas</movie> (2012)\n",
      "- <movie>Captain Phillips</movie> (2013)\n",
      "- <movie>Saving Mr. Banks</movie> (2013)\n",
      "- <movie>The Monuments Men</movie> (2014)\n",
      "- <movie>Bridge of Spies</movie> (2015)\n",
      "- <movie>Sully</movie> (2016)\n",
      "- <movie>Inferno</movie> (2016)\n",
      "- <movie>The Circle</movie> (2017)\n",
      "- <movie>The Post</movie> (2017)\n",
      "- <movie>Toy Story 4</movie> (2019)\n",
      "- <movie>A Beautiful Day in the Neighborhood</movie> (2019)\n",
      "- <movie>Greyhound</movie> (2020)\n",
      "- <movie>News of the World</movie> (2020)\n"
     ]
    }
   ],
   "execution_count": 35
  },
  {
   "metadata": {
    "ExecuteTime": {
     "end_time": "2024-11-09T11:07:00.621467Z",
     "start_time": "2024-11-09T11:07:00.619364Z"
    }
   },
   "cell_type": "code",
   "source": [
    "parser = XMLOutputParser()\n",
    "\n",
    "# We will add these instructions to the prompt below\n",
    "print(parser.get_format_instructions())"
   ],
   "id": "4d7d0de59e174a8",
   "outputs": [
    {
     "name": "stdout",
     "output_type": "stream",
     "text": [
      "The output should be formatted as a XML file.\n",
      "1. Output should conform to the tags below.\n",
      "2. If tags are not given, make them on your own.\n",
      "3. Remember to always open and close all the tags.\n",
      "\n",
      "As an example, for the tags [\"foo\", \"bar\", \"baz\"]:\n",
      "1. String \"<foo>\n",
      "   <bar>\n",
      "      <baz></baz>\n",
      "   </bar>\n",
      "</foo>\" is a well-formatted instance of the schema.\n",
      "2. String \"<foo>\n",
      "   <bar>\n",
      "   </foo>\" is a badly-formatted instance.\n",
      "3. String \"<foo>\n",
      "   <tag>\n",
      "   </tag>\n",
      "</foo>\" is a badly-formatted instance.\n",
      "\n",
      "Here are the output tags:\n",
      "```\n",
      "None\n",
      "```\n"
     ]
    }
   ],
   "execution_count": 46
  },
  {
   "metadata": {
    "ExecuteTime": {
     "end_time": "2024-11-09T11:06:37.226400Z",
     "start_time": "2024-11-09T11:06:35.254226Z"
    }
   },
   "cell_type": "code",
   "source": [
    "prompt = PromptTemplate(\n",
    "    template=\"Answer the user query.\\n{format_instructions}\\n{query}\\n\",\n",
    "    input_variables=[\"query\"],\n",
    "    partial_variables={\"format_instructions\": parser.get_format_instructions()},\n",
    ")\n",
    "\n",
    "chain = prompt | llm | parser\n",
    "\n",
    "chain.invoke({\"query\": actor_query})"
   ],
   "id": "3a63a0b3af0753c",
   "outputs": [
    {
     "ename": "OutputParserException",
     "evalue": "Failed to parse XML format from completion <movies>\n    <movie>\n        <film>\n            <name>Forrest Gump</name>\n            <genre>Comedy, Drama</genre>\n        </film>\n    </movie>\n    <movie>\n        <film>\n            <name>The Da Vinci Code</name>\n            <genre>Adventure, Mystery, Thriller</genre>\n        </film>\n    </movie>\n    <movie>\n        <film>\n            <name>Captain Phillips</name>\n            <genre>Biography, Drama, Thriller</genre>\n        </film>\n    </movie>\n    <movie>\n        <film>\n            <name>Sully</name>\n            <genre>Biography, Drama, Thriller</genre>\n        </film>\n    </movie>\n    <movie>\n        <film>\n            <name>Cast Away</name>\n            <genre>Adventure, Drama, Thriller</genre>\n        </film>\n    </movie>\n    <movie>\n        <film>\n            <name>The Polar Express</name>\n            <genre>Adventure, Family, Fantasy</genre>\n        </film>\n    </movie>\n    <movie>\n        <film>\n            <name>Apollo 13</name>\n            <genre>Biography, Drama, Thriller</genre>\n        </film>\n    </movie>\n    <movie>\n        <film>\n            <name>Saving Private Ryan</name>\n            <genre>War</genre>\n        </film>\n    </movie>\n    <movie>\n        <film>\n            <name>Big</name>\n            <genre>Comedy, Drama</genre>\n        </film>\n    </movie>\n    <movie>\n        <film>\n            <name>Philadelphia</name>\n            <genre>Comedy, Drama</genre>\n        </film>\n    </movie>\n    <movie>\n        <film>\n            <name>Toy Story</name>\n            <genre>Animation, Adventure, Comedy</genre>\n        </film>\n    </movie>\n    <movie>\n        <film>\n            <name>Turner & Hooch</name>\n            <genre>Comedy, Crime, Mystery</genre>\n        </film>\n    </movie>\n    <movie>\n        <film>\n            <name>Nothing in Common</name>\n            <genre>Comedy, Drama</genre>\n        </film>\n    </movie>\n    <movie>\n        <film>\n            <name>He Knows You're Alone</name>\n            <genre>Horror, Thriller</genre>\n        </film>\n    </movie>\n    <movie>\n        <film>\n            <name>Nothing in Common</name>\n            <genre>Comedy, Drama</genre>\n        </film>\n    </movie>\n    <movie>\n        <film>\n            <name>Big</name>\n            <genre>Comedy, Drama</genre>\n        </film>\n    </movie>\n    <movie>\n        <film>\n            <name>Turner & Hooch</name>\n            <genre>Comedy, Crime, Mystery</genre>\n        </film>\n    </movie>\n    <movie>\n        <film>\n            <name>Toy Story</name>\n            <genre>Animation, Adventure, Comedy</genre>\n        </film>\n    </movie>\n    <movie>\n        <film>\n            <name>Philadelphia</name>\n            <genre>Comedy, Drama</genre>\n        </film>\n    </movie>\n    <movie>\n        <film>\n            <name>Big</name>\n            <genre>Comedy, Drama</genre>\n        </film>\n    </movie>\n    <movie>\n        <film>\n            <name>Nothing in Common</name>\n            <genre>Comedy, Drama</genre>\n        </film>\n    </movie>\n    <movie>\n        <film>\n            <name>Turner & Hooch</name>\n            <genre>Comedy, Crime, Mystery</genre>\n        </film>\n    </movie>\n    <movie>\n        <film>\n            <name>Toy Story</name>\n            <genre>Animation, Adventure, Comedy</genre>\n        </film>\n    </movie>\n    <movie>\n        <film>\n            <name>Philadelphia</name>\n            <genre>Comedy, Drama</genre>\n        </film>\n    </movie>\n    <movie>\n        <film>\n            <name>Big</name>\n            <genre>Comedy, Drama</genre>\n        </film>\n    </movie>\n    <movie>\n        <film>\n            <name>Nothing in Common</name>\n            <genre>Comedy, Drama</genre>\n        </film>\n    </movie>\n    <movie>\n        <film>\n            <name>Turner & Hooch</name>\n            <genre>Comedy, Crime, Mystery</genre>\n        </film>\n    </movie>\n    <movie>\n        <film>\n            <name>Toy Story</name>\n            <genre>Animation, Adventure, Comedy</genre>\n        </film>\n    </movie>\n    <movie>\n        <film>\n            <name>Philadelphia</name>\n            <genre>Comedy, Drama</genre>\n        </film>\n    </movie>\n    <movie>\n        <film>\n            <name>Big</name>\n            <genre>Comedy, Drama</genre>\n        </film>\n    </movie>\n    <movie>\n        <film>\n            <name>Nothing in Common</name>\n            <genre>Comedy, Drama</genre>\n        </film>\n    </movie>\n    <movie>\n        <film>\n            <name>Turner & Hooch</name>\n            <genre>Comedy, Crime, Mystery</genre>\n        </film>\n    </movie>\n    <movie>\n        <film>\n            <name>Toy Story</name>\n            <genre>Animation, Adventure, Comedy</genre>\n        </film>\n    </movie>\n    <movie>\n        <film>\n            <name>Philadelphia</name>\n            <genre>Comedy, Drama</genre>\n        </film>\n    </movie>\n    <movie>\n        <film>\n            <name>Big</name>\n            <genre>Comedy, Drama</genre>\n        </film>\n    </movie>\n    <movie>\n        <film>\n            <name>Nothing in Common</name>\n            <genre>Comedy, Drama</genre>\n        </film>\n    </movie>\n    <movie>\n        <film>\n            <name>Turner & Hooch</name>\n            <genre>Comedy, Crime, Mystery</genre>\n        </film>\n    </movie>\n    <movie>\n        <film>\n            <name>Toy Story</name>\n            <genre>Animation, Adventure, Comedy</genre>\n        </film>\n    </movie>\n    <movie>\n        <film>\n            <name>Philadelphia</name>\n            <genre>Comedy, Drama</genre>\n        </film>\n    </movie>\n    <movie>\n        <film>\n            <name>Big</name>\n            <genre>Comedy, Drama</genre>\n        </film>\n    </movie>\n    <movie>\n        <film>\n            <name>Nothing in Common</name>\n            <genre>Comedy, Drama</genre>\n        </film>\n    </movie>\n    <movie>\n        <film>\n            <name>Turner & Hooch</name>\n            <genre>Comedy, Crime, Mystery</genre>\n        </film>\n    </movie>\n    <movie>\n        <film>\n            <name>Toy Story</name>\n            <genre>Animation, Adventure, Comedy</genre>\n        </film>\n    </movie>\n    <movie>\n        <film>\n            <name>Philadelphia</name>\n            <genre>Comedy, Drama</genre>\n        </film>\n    </movie>\n    <movie>\n        <film>\n            <name>Big</name>\n            <genre>Comedy, Drama</genre>\n        </film>\n    </movie>\n    <movie>\n        <film>\n            <name>Nothing in Common</name>\n            <genre>Comedy, Drama</genre>\n        </film>\n    </movie>\n    <movie>\n        <film>\n            <name>Turner & Hooch</name>\n            <genre>Comedy, Crime, Mystery</genre>\n        </film>\n    </movie>\n    <movie>\n        <film>\n            <name>Toy Story</name>\n            <genre>Animation, Adventure, Comedy</genre>\n        </film>\n    </movie>\n    <movie>\n        <film>\n            <name>Philadelphia</name>\n            <genre>Comedy, Drama</genre>\n        </film>\n    </movie>\n    <movie>\n        <film>\n            <name>Big</name>\n            <genre>Comedy, Drama</genre>\n        </film>\n    </movie>\n    <movie>\n        <film>\n            <name>Nothing in Common</name>\n            <genre>Comedy, Drama</genre>\n        </film>\n    </movie>\n    <movie>\n        <film>\n            <name>Turner & Hooch</name>\n            <genre>Comedy, Crime, Mystery</genre>\n        </film>\n    </movie>\n    <movie>\n        <film>\n            <name>Toy Story</name>\n            <genre>Animation, Adventure, Comedy</genre>\n        </film>\n    </movie>\n    <movie>\n        <film>\n            <name>Philadelphia</name>\n            <genre>Comedy, Drama</genre>\n        </film>\n    </movie>\n    <movie>\n        <film>\n            <name>. Got: not well-formed (invalid token): line 70, column 26\nFor troubleshooting, visit: https://python.langchain.com/docs/troubleshooting/errors/OUTPUT_PARSING_FAILURE",
     "output_type": "error",
     "traceback": [
      "\u001B[0;31m---------------------------------------------------------------------------\u001B[0m",
      "\u001B[0;31mExpatError\u001B[0m                                Traceback (most recent call last)",
      "File \u001B[0;32m~/miniconda3/lib/python3.12/xml/etree/ElementTree.py:1706\u001B[0m, in \u001B[0;36mXMLParser.feed\u001B[0;34m(self, data)\u001B[0m\n\u001B[1;32m   1705\u001B[0m \u001B[38;5;28;01mtry\u001B[39;00m:\n\u001B[0;32m-> 1706\u001B[0m     \u001B[38;5;28;43mself\u001B[39;49m\u001B[38;5;241;43m.\u001B[39;49m\u001B[43mparser\u001B[49m\u001B[38;5;241;43m.\u001B[39;49m\u001B[43mParse\u001B[49m\u001B[43m(\u001B[49m\u001B[43mdata\u001B[49m\u001B[43m,\u001B[49m\u001B[43m \u001B[49m\u001B[38;5;28;43;01mFalse\u001B[39;49;00m\u001B[43m)\u001B[49m\n\u001B[1;32m   1707\u001B[0m \u001B[38;5;28;01mexcept\u001B[39;00m \u001B[38;5;28mself\u001B[39m\u001B[38;5;241m.\u001B[39m_error \u001B[38;5;28;01mas\u001B[39;00m v:\n",
      "\u001B[0;31mExpatError\u001B[0m: not well-formed (invalid token): line 70, column 26",
      "\nDuring handling of the above exception, another exception occurred:\n",
      "\u001B[0;31mParseError\u001B[0m                                Traceback (most recent call last)",
      "File \u001B[0;32m~/Library/Caches/pypoetry/virtualenvs/blog-tutorials-M8bgSKgB-py3.12/lib/python3.12/site-packages/langchain_core/output_parsers/xml.py:215\u001B[0m, in \u001B[0;36mXMLOutputParser.parse\u001B[0;34m(self, text)\u001B[0m\n\u001B[1;32m    214\u001B[0m \u001B[38;5;28;01mtry\u001B[39;00m:\n\u001B[0;32m--> 215\u001B[0m     root \u001B[38;5;241m=\u001B[39m \u001B[43m_et\u001B[49m\u001B[38;5;241;43m.\u001B[39;49m\u001B[43mfromstring\u001B[49m\u001B[43m(\u001B[49m\u001B[43mtext\u001B[49m\u001B[43m)\u001B[49m\n\u001B[1;32m    216\u001B[0m     \u001B[38;5;28;01mreturn\u001B[39;00m \u001B[38;5;28mself\u001B[39m\u001B[38;5;241m.\u001B[39m_root_to_dict(root)\n",
      "File \u001B[0;32m~/Library/Caches/pypoetry/virtualenvs/blog-tutorials-M8bgSKgB-py3.12/lib/python3.12/site-packages/defusedxml/common.py:126\u001B[0m, in \u001B[0;36m_generate_etree_functions.<locals>.fromstring\u001B[0;34m(text, forbid_dtd, forbid_entities, forbid_external)\u001B[0m\n\u001B[1;32m    120\u001B[0m parser \u001B[38;5;241m=\u001B[39m DefusedXMLParser(\n\u001B[1;32m    121\u001B[0m     target\u001B[38;5;241m=\u001B[39m_TreeBuilder(),\n\u001B[1;32m    122\u001B[0m     forbid_dtd\u001B[38;5;241m=\u001B[39mforbid_dtd,\n\u001B[1;32m    123\u001B[0m     forbid_entities\u001B[38;5;241m=\u001B[39mforbid_entities,\n\u001B[1;32m    124\u001B[0m     forbid_external\u001B[38;5;241m=\u001B[39mforbid_external,\n\u001B[1;32m    125\u001B[0m )\n\u001B[0;32m--> 126\u001B[0m \u001B[43mparser\u001B[49m\u001B[38;5;241;43m.\u001B[39;49m\u001B[43mfeed\u001B[49m\u001B[43m(\u001B[49m\u001B[43mtext\u001B[49m\u001B[43m)\u001B[49m\n\u001B[1;32m    127\u001B[0m \u001B[38;5;28;01mreturn\u001B[39;00m parser\u001B[38;5;241m.\u001B[39mclose()\n",
      "File \u001B[0;32m~/miniconda3/lib/python3.12/xml/etree/ElementTree.py:1708\u001B[0m, in \u001B[0;36mXMLParser.feed\u001B[0;34m(self, data)\u001B[0m\n\u001B[1;32m   1707\u001B[0m \u001B[38;5;28;01mexcept\u001B[39;00m \u001B[38;5;28mself\u001B[39m\u001B[38;5;241m.\u001B[39m_error \u001B[38;5;28;01mas\u001B[39;00m v:\n\u001B[0;32m-> 1708\u001B[0m     \u001B[38;5;28;43mself\u001B[39;49m\u001B[38;5;241;43m.\u001B[39;49m\u001B[43m_raiseerror\u001B[49m\u001B[43m(\u001B[49m\u001B[43mv\u001B[49m\u001B[43m)\u001B[49m\n",
      "File \u001B[0;32m~/miniconda3/lib/python3.12/xml/etree/ElementTree.py:1615\u001B[0m, in \u001B[0;36mXMLParser._raiseerror\u001B[0;34m(self, value)\u001B[0m\n\u001B[1;32m   1614\u001B[0m err\u001B[38;5;241m.\u001B[39mposition \u001B[38;5;241m=\u001B[39m value\u001B[38;5;241m.\u001B[39mlineno, value\u001B[38;5;241m.\u001B[39moffset\n\u001B[0;32m-> 1615\u001B[0m \u001B[38;5;28;01mraise\u001B[39;00m err\n",
      "\u001B[0;31mParseError\u001B[0m: not well-formed (invalid token): line 70, column 26",
      "\nThe above exception was the direct cause of the following exception:\n",
      "\u001B[0;31mOutputParserException\u001B[0m                     Traceback (most recent call last)",
      "Cell \u001B[0;32mIn[45], line 9\u001B[0m\n\u001B[1;32m      1\u001B[0m prompt \u001B[38;5;241m=\u001B[39m PromptTemplate(\n\u001B[1;32m      2\u001B[0m     template\u001B[38;5;241m=\u001B[39m\u001B[38;5;124m\"\u001B[39m\u001B[38;5;124mAnswer the user query.\u001B[39m\u001B[38;5;130;01m\\n\u001B[39;00m\u001B[38;5;132;01m{format_instructions}\u001B[39;00m\u001B[38;5;130;01m\\n\u001B[39;00m\u001B[38;5;132;01m{query}\u001B[39;00m\u001B[38;5;130;01m\\n\u001B[39;00m\u001B[38;5;124m\"\u001B[39m,\n\u001B[1;32m      3\u001B[0m     input_variables\u001B[38;5;241m=\u001B[39m[\u001B[38;5;124m\"\u001B[39m\u001B[38;5;124mquery\u001B[39m\u001B[38;5;124m\"\u001B[39m],\n\u001B[1;32m      4\u001B[0m     partial_variables\u001B[38;5;241m=\u001B[39m{\u001B[38;5;124m\"\u001B[39m\u001B[38;5;124mformat_instructions\u001B[39m\u001B[38;5;124m\"\u001B[39m: parser\u001B[38;5;241m.\u001B[39mget_format_instructions()},\n\u001B[1;32m      5\u001B[0m )\n\u001B[1;32m      7\u001B[0m chain \u001B[38;5;241m=\u001B[39m prompt \u001B[38;5;241m|\u001B[39m llm \u001B[38;5;241m|\u001B[39m parser\n\u001B[0;32m----> 9\u001B[0m \u001B[38;5;28mprint\u001B[39m(\u001B[43mchain\u001B[49m\u001B[38;5;241;43m.\u001B[39;49m\u001B[43minvoke\u001B[49m\u001B[43m(\u001B[49m\u001B[43m{\u001B[49m\u001B[38;5;124;43m\"\u001B[39;49m\u001B[38;5;124;43mquery\u001B[39;49m\u001B[38;5;124;43m\"\u001B[39;49m\u001B[43m:\u001B[49m\u001B[43m \u001B[49m\u001B[43mactor_query\u001B[49m\u001B[43m}\u001B[49m\u001B[43m)\u001B[49m)\n",
      "File \u001B[0;32m~/Library/Caches/pypoetry/virtualenvs/blog-tutorials-M8bgSKgB-py3.12/lib/python3.12/site-packages/langchain_core/runnables/base.py:3024\u001B[0m, in \u001B[0;36mRunnableSequence.invoke\u001B[0;34m(self, input, config, **kwargs)\u001B[0m\n\u001B[1;32m   3022\u001B[0m             \u001B[38;5;28minput\u001B[39m \u001B[38;5;241m=\u001B[39m context\u001B[38;5;241m.\u001B[39mrun(step\u001B[38;5;241m.\u001B[39minvoke, \u001B[38;5;28minput\u001B[39m, config, \u001B[38;5;241m*\u001B[39m\u001B[38;5;241m*\u001B[39mkwargs)\n\u001B[1;32m   3023\u001B[0m         \u001B[38;5;28;01melse\u001B[39;00m:\n\u001B[0;32m-> 3024\u001B[0m             \u001B[38;5;28minput\u001B[39m \u001B[38;5;241m=\u001B[39m \u001B[43mcontext\u001B[49m\u001B[38;5;241;43m.\u001B[39;49m\u001B[43mrun\u001B[49m\u001B[43m(\u001B[49m\u001B[43mstep\u001B[49m\u001B[38;5;241;43m.\u001B[39;49m\u001B[43minvoke\u001B[49m\u001B[43m,\u001B[49m\u001B[43m \u001B[49m\u001B[38;5;28;43minput\u001B[39;49m\u001B[43m,\u001B[49m\u001B[43m \u001B[49m\u001B[43mconfig\u001B[49m\u001B[43m)\u001B[49m\n\u001B[1;32m   3025\u001B[0m \u001B[38;5;66;03m# finish the root run\u001B[39;00m\n\u001B[1;32m   3026\u001B[0m \u001B[38;5;28;01mexcept\u001B[39;00m \u001B[38;5;167;01mBaseException\u001B[39;00m \u001B[38;5;28;01mas\u001B[39;00m e:\n",
      "File \u001B[0;32m~/Library/Caches/pypoetry/virtualenvs/blog-tutorials-M8bgSKgB-py3.12/lib/python3.12/site-packages/langchain_core/output_parsers/base.py:193\u001B[0m, in \u001B[0;36mBaseOutputParser.invoke\u001B[0;34m(self, input, config, **kwargs)\u001B[0m\n\u001B[1;32m    186\u001B[0m \u001B[38;5;28;01mdef\u001B[39;00m \u001B[38;5;21minvoke\u001B[39m(\n\u001B[1;32m    187\u001B[0m     \u001B[38;5;28mself\u001B[39m,\n\u001B[1;32m    188\u001B[0m     \u001B[38;5;28minput\u001B[39m: Union[\u001B[38;5;28mstr\u001B[39m, BaseMessage],\n\u001B[1;32m    189\u001B[0m     config: Optional[RunnableConfig] \u001B[38;5;241m=\u001B[39m \u001B[38;5;28;01mNone\u001B[39;00m,\n\u001B[1;32m    190\u001B[0m     \u001B[38;5;241m*\u001B[39m\u001B[38;5;241m*\u001B[39mkwargs: Any,\n\u001B[1;32m    191\u001B[0m ) \u001B[38;5;241m-\u001B[39m\u001B[38;5;241m>\u001B[39m T:\n\u001B[1;32m    192\u001B[0m     \u001B[38;5;28;01mif\u001B[39;00m \u001B[38;5;28misinstance\u001B[39m(\u001B[38;5;28minput\u001B[39m, BaseMessage):\n\u001B[0;32m--> 193\u001B[0m         \u001B[38;5;28;01mreturn\u001B[39;00m \u001B[38;5;28;43mself\u001B[39;49m\u001B[38;5;241;43m.\u001B[39;49m\u001B[43m_call_with_config\u001B[49m\u001B[43m(\u001B[49m\n\u001B[1;32m    194\u001B[0m \u001B[43m            \u001B[49m\u001B[38;5;28;43;01mlambda\u001B[39;49;00m\u001B[43m \u001B[49m\u001B[43minner_input\u001B[49m\u001B[43m:\u001B[49m\u001B[43m \u001B[49m\u001B[38;5;28;43mself\u001B[39;49m\u001B[38;5;241;43m.\u001B[39;49m\u001B[43mparse_result\u001B[49m\u001B[43m(\u001B[49m\n\u001B[1;32m    195\u001B[0m \u001B[43m                \u001B[49m\u001B[43m[\u001B[49m\u001B[43mChatGeneration\u001B[49m\u001B[43m(\u001B[49m\u001B[43mmessage\u001B[49m\u001B[38;5;241;43m=\u001B[39;49m\u001B[43minner_input\u001B[49m\u001B[43m)\u001B[49m\u001B[43m]\u001B[49m\n\u001B[1;32m    196\u001B[0m \u001B[43m            \u001B[49m\u001B[43m)\u001B[49m\u001B[43m,\u001B[49m\n\u001B[1;32m    197\u001B[0m \u001B[43m            \u001B[49m\u001B[38;5;28;43minput\u001B[39;49m\u001B[43m,\u001B[49m\n\u001B[1;32m    198\u001B[0m \u001B[43m            \u001B[49m\u001B[43mconfig\u001B[49m\u001B[43m,\u001B[49m\n\u001B[1;32m    199\u001B[0m \u001B[43m            \u001B[49m\u001B[43mrun_type\u001B[49m\u001B[38;5;241;43m=\u001B[39;49m\u001B[38;5;124;43m\"\u001B[39;49m\u001B[38;5;124;43mparser\u001B[39;49m\u001B[38;5;124;43m\"\u001B[39;49m\u001B[43m,\u001B[49m\n\u001B[1;32m    200\u001B[0m \u001B[43m        \u001B[49m\u001B[43m)\u001B[49m\n\u001B[1;32m    201\u001B[0m     \u001B[38;5;28;01melse\u001B[39;00m:\n\u001B[1;32m    202\u001B[0m         \u001B[38;5;28;01mreturn\u001B[39;00m \u001B[38;5;28mself\u001B[39m\u001B[38;5;241m.\u001B[39m_call_with_config(\n\u001B[1;32m    203\u001B[0m             \u001B[38;5;28;01mlambda\u001B[39;00m inner_input: \u001B[38;5;28mself\u001B[39m\u001B[38;5;241m.\u001B[39mparse_result([Generation(text\u001B[38;5;241m=\u001B[39minner_input)]),\n\u001B[1;32m    204\u001B[0m             \u001B[38;5;28minput\u001B[39m,\n\u001B[1;32m    205\u001B[0m             config,\n\u001B[1;32m    206\u001B[0m             run_type\u001B[38;5;241m=\u001B[39m\u001B[38;5;124m\"\u001B[39m\u001B[38;5;124mparser\u001B[39m\u001B[38;5;124m\"\u001B[39m,\n\u001B[1;32m    207\u001B[0m         )\n",
      "File \u001B[0;32m~/Library/Caches/pypoetry/virtualenvs/blog-tutorials-M8bgSKgB-py3.12/lib/python3.12/site-packages/langchain_core/runnables/base.py:1927\u001B[0m, in \u001B[0;36mRunnable._call_with_config\u001B[0;34m(self, func, input, config, run_type, serialized, **kwargs)\u001B[0m\n\u001B[1;32m   1923\u001B[0m     context \u001B[38;5;241m=\u001B[39m copy_context()\n\u001B[1;32m   1924\u001B[0m     context\u001B[38;5;241m.\u001B[39mrun(_set_config_context, child_config)\n\u001B[1;32m   1925\u001B[0m     output \u001B[38;5;241m=\u001B[39m cast(\n\u001B[1;32m   1926\u001B[0m         Output,\n\u001B[0;32m-> 1927\u001B[0m         \u001B[43mcontext\u001B[49m\u001B[38;5;241;43m.\u001B[39;49m\u001B[43mrun\u001B[49m\u001B[43m(\u001B[49m\n\u001B[1;32m   1928\u001B[0m \u001B[43m            \u001B[49m\u001B[43mcall_func_with_variable_args\u001B[49m\u001B[43m,\u001B[49m\u001B[43m  \u001B[49m\u001B[38;5;66;43;03m# type: ignore[arg-type]\u001B[39;49;00m\n\u001B[1;32m   1929\u001B[0m \u001B[43m            \u001B[49m\u001B[43mfunc\u001B[49m\u001B[43m,\u001B[49m\u001B[43m  \u001B[49m\u001B[38;5;66;43;03m# type: ignore[arg-type]\u001B[39;49;00m\n\u001B[1;32m   1930\u001B[0m \u001B[43m            \u001B[49m\u001B[38;5;28;43minput\u001B[39;49m\u001B[43m,\u001B[49m\u001B[43m  \u001B[49m\u001B[38;5;66;43;03m# type: ignore[arg-type]\u001B[39;49;00m\n\u001B[1;32m   1931\u001B[0m \u001B[43m            \u001B[49m\u001B[43mconfig\u001B[49m\u001B[43m,\u001B[49m\n\u001B[1;32m   1932\u001B[0m \u001B[43m            \u001B[49m\u001B[43mrun_manager\u001B[49m\u001B[43m,\u001B[49m\n\u001B[1;32m   1933\u001B[0m \u001B[43m            \u001B[49m\u001B[38;5;241;43m*\u001B[39;49m\u001B[38;5;241;43m*\u001B[39;49m\u001B[43mkwargs\u001B[49m\u001B[43m,\u001B[49m\n\u001B[1;32m   1934\u001B[0m \u001B[43m        \u001B[49m\u001B[43m)\u001B[49m,\n\u001B[1;32m   1935\u001B[0m     )\n\u001B[1;32m   1936\u001B[0m \u001B[38;5;28;01mexcept\u001B[39;00m \u001B[38;5;167;01mBaseException\u001B[39;00m \u001B[38;5;28;01mas\u001B[39;00m e:\n\u001B[1;32m   1937\u001B[0m     run_manager\u001B[38;5;241m.\u001B[39mon_chain_error(e)\n",
      "File \u001B[0;32m~/Library/Caches/pypoetry/virtualenvs/blog-tutorials-M8bgSKgB-py3.12/lib/python3.12/site-packages/langchain_core/runnables/config.py:396\u001B[0m, in \u001B[0;36mcall_func_with_variable_args\u001B[0;34m(func, input, config, run_manager, **kwargs)\u001B[0m\n\u001B[1;32m    394\u001B[0m \u001B[38;5;28;01mif\u001B[39;00m run_manager \u001B[38;5;129;01mis\u001B[39;00m \u001B[38;5;129;01mnot\u001B[39;00m \u001B[38;5;28;01mNone\u001B[39;00m \u001B[38;5;129;01mand\u001B[39;00m accepts_run_manager(func):\n\u001B[1;32m    395\u001B[0m     kwargs[\u001B[38;5;124m\"\u001B[39m\u001B[38;5;124mrun_manager\u001B[39m\u001B[38;5;124m\"\u001B[39m] \u001B[38;5;241m=\u001B[39m run_manager\n\u001B[0;32m--> 396\u001B[0m \u001B[38;5;28;01mreturn\u001B[39;00m \u001B[43mfunc\u001B[49m\u001B[43m(\u001B[49m\u001B[38;5;28;43minput\u001B[39;49m\u001B[43m,\u001B[49m\u001B[43m \u001B[49m\u001B[38;5;241;43m*\u001B[39;49m\u001B[38;5;241;43m*\u001B[39;49m\u001B[43mkwargs\u001B[49m\u001B[43m)\u001B[49m\n",
      "File \u001B[0;32m~/Library/Caches/pypoetry/virtualenvs/blog-tutorials-M8bgSKgB-py3.12/lib/python3.12/site-packages/langchain_core/output_parsers/base.py:194\u001B[0m, in \u001B[0;36mBaseOutputParser.invoke.<locals>.<lambda>\u001B[0;34m(inner_input)\u001B[0m\n\u001B[1;32m    186\u001B[0m \u001B[38;5;28;01mdef\u001B[39;00m \u001B[38;5;21minvoke\u001B[39m(\n\u001B[1;32m    187\u001B[0m     \u001B[38;5;28mself\u001B[39m,\n\u001B[1;32m    188\u001B[0m     \u001B[38;5;28minput\u001B[39m: Union[\u001B[38;5;28mstr\u001B[39m, BaseMessage],\n\u001B[1;32m    189\u001B[0m     config: Optional[RunnableConfig] \u001B[38;5;241m=\u001B[39m \u001B[38;5;28;01mNone\u001B[39;00m,\n\u001B[1;32m    190\u001B[0m     \u001B[38;5;241m*\u001B[39m\u001B[38;5;241m*\u001B[39mkwargs: Any,\n\u001B[1;32m    191\u001B[0m ) \u001B[38;5;241m-\u001B[39m\u001B[38;5;241m>\u001B[39m T:\n\u001B[1;32m    192\u001B[0m     \u001B[38;5;28;01mif\u001B[39;00m \u001B[38;5;28misinstance\u001B[39m(\u001B[38;5;28minput\u001B[39m, BaseMessage):\n\u001B[1;32m    193\u001B[0m         \u001B[38;5;28;01mreturn\u001B[39;00m \u001B[38;5;28mself\u001B[39m\u001B[38;5;241m.\u001B[39m_call_with_config(\n\u001B[0;32m--> 194\u001B[0m             \u001B[38;5;28;01mlambda\u001B[39;00m inner_input: \u001B[38;5;28;43mself\u001B[39;49m\u001B[38;5;241;43m.\u001B[39;49m\u001B[43mparse_result\u001B[49m\u001B[43m(\u001B[49m\n\u001B[1;32m    195\u001B[0m \u001B[43m                \u001B[49m\u001B[43m[\u001B[49m\u001B[43mChatGeneration\u001B[49m\u001B[43m(\u001B[49m\u001B[43mmessage\u001B[49m\u001B[38;5;241;43m=\u001B[39;49m\u001B[43minner_input\u001B[49m\u001B[43m)\u001B[49m\u001B[43m]\u001B[49m\n\u001B[1;32m    196\u001B[0m \u001B[43m            \u001B[49m\u001B[43m)\u001B[49m,\n\u001B[1;32m    197\u001B[0m             \u001B[38;5;28minput\u001B[39m,\n\u001B[1;32m    198\u001B[0m             config,\n\u001B[1;32m    199\u001B[0m             run_type\u001B[38;5;241m=\u001B[39m\u001B[38;5;124m\"\u001B[39m\u001B[38;5;124mparser\u001B[39m\u001B[38;5;124m\"\u001B[39m,\n\u001B[1;32m    200\u001B[0m         )\n\u001B[1;32m    201\u001B[0m     \u001B[38;5;28;01melse\u001B[39;00m:\n\u001B[1;32m    202\u001B[0m         \u001B[38;5;28;01mreturn\u001B[39;00m \u001B[38;5;28mself\u001B[39m\u001B[38;5;241m.\u001B[39m_call_with_config(\n\u001B[1;32m    203\u001B[0m             \u001B[38;5;28;01mlambda\u001B[39;00m inner_input: \u001B[38;5;28mself\u001B[39m\u001B[38;5;241m.\u001B[39mparse_result([Generation(text\u001B[38;5;241m=\u001B[39minner_input)]),\n\u001B[1;32m    204\u001B[0m             \u001B[38;5;28minput\u001B[39m,\n\u001B[1;32m    205\u001B[0m             config,\n\u001B[1;32m    206\u001B[0m             run_type\u001B[38;5;241m=\u001B[39m\u001B[38;5;124m\"\u001B[39m\u001B[38;5;124mparser\u001B[39m\u001B[38;5;124m\"\u001B[39m,\n\u001B[1;32m    207\u001B[0m         )\n",
      "File \u001B[0;32m~/Library/Caches/pypoetry/virtualenvs/blog-tutorials-M8bgSKgB-py3.12/lib/python3.12/site-packages/langchain_core/output_parsers/base.py:247\u001B[0m, in \u001B[0;36mBaseOutputParser.parse_result\u001B[0;34m(self, result, partial)\u001B[0m\n\u001B[1;32m    232\u001B[0m \u001B[38;5;28;01mdef\u001B[39;00m \u001B[38;5;21mparse_result\u001B[39m(\u001B[38;5;28mself\u001B[39m, result: \u001B[38;5;28mlist\u001B[39m[Generation], \u001B[38;5;241m*\u001B[39m, partial: \u001B[38;5;28mbool\u001B[39m \u001B[38;5;241m=\u001B[39m \u001B[38;5;28;01mFalse\u001B[39;00m) \u001B[38;5;241m-\u001B[39m\u001B[38;5;241m>\u001B[39m T:\n\u001B[1;32m    233\u001B[0m \u001B[38;5;250m    \u001B[39m\u001B[38;5;124;03m\"\"\"Parse a list of candidate model Generations into a specific format.\u001B[39;00m\n\u001B[1;32m    234\u001B[0m \n\u001B[1;32m    235\u001B[0m \u001B[38;5;124;03m    The return value is parsed from only the first Generation in the result, which\u001B[39;00m\n\u001B[0;32m   (...)\u001B[0m\n\u001B[1;32m    245\u001B[0m \u001B[38;5;124;03m        Structured output.\u001B[39;00m\n\u001B[1;32m    246\u001B[0m \u001B[38;5;124;03m    \"\"\"\u001B[39;00m\n\u001B[0;32m--> 247\u001B[0m     \u001B[38;5;28;01mreturn\u001B[39;00m \u001B[38;5;28;43mself\u001B[39;49m\u001B[38;5;241;43m.\u001B[39;49m\u001B[43mparse\u001B[49m\u001B[43m(\u001B[49m\u001B[43mresult\u001B[49m\u001B[43m[\u001B[49m\u001B[38;5;241;43m0\u001B[39;49m\u001B[43m]\u001B[49m\u001B[38;5;241;43m.\u001B[39;49m\u001B[43mtext\u001B[49m\u001B[43m)\u001B[49m\n",
      "File \u001B[0;32m~/Library/Caches/pypoetry/virtualenvs/blog-tutorials-M8bgSKgB-py3.12/lib/python3.12/site-packages/langchain_core/output_parsers/xml.py:219\u001B[0m, in \u001B[0;36mXMLOutputParser.parse\u001B[0;34m(self, text)\u001B[0m\n\u001B[1;32m    217\u001B[0m \u001B[38;5;28;01mexcept\u001B[39;00m _et\u001B[38;5;241m.\u001B[39mParseError \u001B[38;5;28;01mas\u001B[39;00m e:\n\u001B[1;32m    218\u001B[0m     msg \u001B[38;5;241m=\u001B[39m \u001B[38;5;124mf\u001B[39m\u001B[38;5;124m\"\u001B[39m\u001B[38;5;124mFailed to parse XML format from completion \u001B[39m\u001B[38;5;132;01m{\u001B[39;00mtext\u001B[38;5;132;01m}\u001B[39;00m\u001B[38;5;124m. Got: \u001B[39m\u001B[38;5;132;01m{\u001B[39;00me\u001B[38;5;132;01m}\u001B[39;00m\u001B[38;5;124m\"\u001B[39m\n\u001B[0;32m--> 219\u001B[0m     \u001B[38;5;28;01mraise\u001B[39;00m OutputParserException(msg, llm_output\u001B[38;5;241m=\u001B[39mtext) \u001B[38;5;28;01mfrom\u001B[39;00m \u001B[38;5;21;01me\u001B[39;00m\n",
      "\u001B[0;31mOutputParserException\u001B[0m: Failed to parse XML format from completion <movies>\n    <movie>\n        <film>\n            <name>Forrest Gump</name>\n            <genre>Comedy, Drama</genre>\n        </film>\n    </movie>\n    <movie>\n        <film>\n            <name>The Da Vinci Code</name>\n            <genre>Adventure, Mystery, Thriller</genre>\n        </film>\n    </movie>\n    <movie>\n        <film>\n            <name>Captain Phillips</name>\n            <genre>Biography, Drama, Thriller</genre>\n        </film>\n    </movie>\n    <movie>\n        <film>\n            <name>Sully</name>\n            <genre>Biography, Drama, Thriller</genre>\n        </film>\n    </movie>\n    <movie>\n        <film>\n            <name>Cast Away</name>\n            <genre>Adventure, Drama, Thriller</genre>\n        </film>\n    </movie>\n    <movie>\n        <film>\n            <name>The Polar Express</name>\n            <genre>Adventure, Family, Fantasy</genre>\n        </film>\n    </movie>\n    <movie>\n        <film>\n            <name>Apollo 13</name>\n            <genre>Biography, Drama, Thriller</genre>\n        </film>\n    </movie>\n    <movie>\n        <film>\n            <name>Saving Private Ryan</name>\n            <genre>War</genre>\n        </film>\n    </movie>\n    <movie>\n        <film>\n            <name>Big</name>\n            <genre>Comedy, Drama</genre>\n        </film>\n    </movie>\n    <movie>\n        <film>\n            <name>Philadelphia</name>\n            <genre>Comedy, Drama</genre>\n        </film>\n    </movie>\n    <movie>\n        <film>\n            <name>Toy Story</name>\n            <genre>Animation, Adventure, Comedy</genre>\n        </film>\n    </movie>\n    <movie>\n        <film>\n            <name>Turner & Hooch</name>\n            <genre>Comedy, Crime, Mystery</genre>\n        </film>\n    </movie>\n    <movie>\n        <film>\n            <name>Nothing in Common</name>\n            <genre>Comedy, Drama</genre>\n        </film>\n    </movie>\n    <movie>\n        <film>\n            <name>He Knows You're Alone</name>\n            <genre>Horror, Thriller</genre>\n        </film>\n    </movie>\n    <movie>\n        <film>\n            <name>Nothing in Common</name>\n            <genre>Comedy, Drama</genre>\n        </film>\n    </movie>\n    <movie>\n        <film>\n            <name>Big</name>\n            <genre>Comedy, Drama</genre>\n        </film>\n    </movie>\n    <movie>\n        <film>\n            <name>Turner & Hooch</name>\n            <genre>Comedy, Crime, Mystery</genre>\n        </film>\n    </movie>\n    <movie>\n        <film>\n            <name>Toy Story</name>\n            <genre>Animation, Adventure, Comedy</genre>\n        </film>\n    </movie>\n    <movie>\n        <film>\n            <name>Philadelphia</name>\n            <genre>Comedy, Drama</genre>\n        </film>\n    </movie>\n    <movie>\n        <film>\n            <name>Big</name>\n            <genre>Comedy, Drama</genre>\n        </film>\n    </movie>\n    <movie>\n        <film>\n            <name>Nothing in Common</name>\n            <genre>Comedy, Drama</genre>\n        </film>\n    </movie>\n    <movie>\n        <film>\n            <name>Turner & Hooch</name>\n            <genre>Comedy, Crime, Mystery</genre>\n        </film>\n    </movie>\n    <movie>\n        <film>\n            <name>Toy Story</name>\n            <genre>Animation, Adventure, Comedy</genre>\n        </film>\n    </movie>\n    <movie>\n        <film>\n            <name>Philadelphia</name>\n            <genre>Comedy, Drama</genre>\n        </film>\n    </movie>\n    <movie>\n        <film>\n            <name>Big</name>\n            <genre>Comedy, Drama</genre>\n        </film>\n    </movie>\n    <movie>\n        <film>\n            <name>Nothing in Common</name>\n            <genre>Comedy, Drama</genre>\n        </film>\n    </movie>\n    <movie>\n        <film>\n            <name>Turner & Hooch</name>\n            <genre>Comedy, Crime, Mystery</genre>\n        </film>\n    </movie>\n    <movie>\n        <film>\n            <name>Toy Story</name>\n            <genre>Animation, Adventure, Comedy</genre>\n        </film>\n    </movie>\n    <movie>\n        <film>\n            <name>Philadelphia</name>\n            <genre>Comedy, Drama</genre>\n        </film>\n    </movie>\n    <movie>\n        <film>\n            <name>Big</name>\n            <genre>Comedy, Drama</genre>\n        </film>\n    </movie>\n    <movie>\n        <film>\n            <name>Nothing in Common</name>\n            <genre>Comedy, Drama</genre>\n        </film>\n    </movie>\n    <movie>\n        <film>\n            <name>Turner & Hooch</name>\n            <genre>Comedy, Crime, Mystery</genre>\n        </film>\n    </movie>\n    <movie>\n        <film>\n            <name>Toy Story</name>\n            <genre>Animation, Adventure, Comedy</genre>\n        </film>\n    </movie>\n    <movie>\n        <film>\n            <name>Philadelphia</name>\n            <genre>Comedy, Drama</genre>\n        </film>\n    </movie>\n    <movie>\n        <film>\n            <name>Big</name>\n            <genre>Comedy, Drama</genre>\n        </film>\n    </movie>\n    <movie>\n        <film>\n            <name>Nothing in Common</name>\n            <genre>Comedy, Drama</genre>\n        </film>\n    </movie>\n    <movie>\n        <film>\n            <name>Turner & Hooch</name>\n            <genre>Comedy, Crime, Mystery</genre>\n        </film>\n    </movie>\n    <movie>\n        <film>\n            <name>Toy Story</name>\n            <genre>Animation, Adventure, Comedy</genre>\n        </film>\n    </movie>\n    <movie>\n        <film>\n            <name>Philadelphia</name>\n            <genre>Comedy, Drama</genre>\n        </film>\n    </movie>\n    <movie>\n        <film>\n            <name>Big</name>\n            <genre>Comedy, Drama</genre>\n        </film>\n    </movie>\n    <movie>\n        <film>\n            <name>Nothing in Common</name>\n            <genre>Comedy, Drama</genre>\n        </film>\n    </movie>\n    <movie>\n        <film>\n            <name>Turner & Hooch</name>\n            <genre>Comedy, Crime, Mystery</genre>\n        </film>\n    </movie>\n    <movie>\n        <film>\n            <name>Toy Story</name>\n            <genre>Animation, Adventure, Comedy</genre>\n        </film>\n    </movie>\n    <movie>\n        <film>\n            <name>Philadelphia</name>\n            <genre>Comedy, Drama</genre>\n        </film>\n    </movie>\n    <movie>\n        <film>\n            <name>Big</name>\n            <genre>Comedy, Drama</genre>\n        </film>\n    </movie>\n    <movie>\n        <film>\n            <name>Nothing in Common</name>\n            <genre>Comedy, Drama</genre>\n        </film>\n    </movie>\n    <movie>\n        <film>\n            <name>Turner & Hooch</name>\n            <genre>Comedy, Crime, Mystery</genre>\n        </film>\n    </movie>\n    <movie>\n        <film>\n            <name>Toy Story</name>\n            <genre>Animation, Adventure, Comedy</genre>\n        </film>\n    </movie>\n    <movie>\n        <film>\n            <name>Philadelphia</name>\n            <genre>Comedy, Drama</genre>\n        </film>\n    </movie>\n    <movie>\n        <film>\n            <name>Big</name>\n            <genre>Comedy, Drama</genre>\n        </film>\n    </movie>\n    <movie>\n        <film>\n            <name>Nothing in Common</name>\n            <genre>Comedy, Drama</genre>\n        </film>\n    </movie>\n    <movie>\n        <film>\n            <name>Turner & Hooch</name>\n            <genre>Comedy, Crime, Mystery</genre>\n        </film>\n    </movie>\n    <movie>\n        <film>\n            <name>Toy Story</name>\n            <genre>Animation, Adventure, Comedy</genre>\n        </film>\n    </movie>\n    <movie>\n        <film>\n            <name>Philadelphia</name>\n            <genre>Comedy, Drama</genre>\n        </film>\n    </movie>\n    <movie>\n        <film>\n            <name>. Got: not well-formed (invalid token): line 70, column 26\nFor troubleshooting, visit: https://python.langchain.com/docs/troubleshooting/errors/OUTPUT_PARSING_FAILURE"
     ]
    }
   ],
   "execution_count": 45
  },
  {
   "metadata": {
    "ExecuteTime": {
     "end_time": "2024-11-09T11:06:23.699080Z",
     "start_time": "2024-11-09T11:06:23.697005Z"
    }
   },
   "cell_type": "code",
   "source": [
    "parser = XMLOutputParser(tags=[\"movies\", \"actor\", \"film\", \"name\", \"genre\"])\n",
    "\n",
    "# We will add these instructions to the prompt below\n",
    "print(parser.get_format_instructions())"
   ],
   "id": "68754f8faf7b64b3",
   "outputs": [
    {
     "name": "stdout",
     "output_type": "stream",
     "text": [
      "The output should be formatted as a XML file.\n",
      "1. Output should conform to the tags below.\n",
      "2. If tags are not given, make them on your own.\n",
      "3. Remember to always open and close all the tags.\n",
      "\n",
      "As an example, for the tags [\"foo\", \"bar\", \"baz\"]:\n",
      "1. String \"<foo>\n",
      "   <bar>\n",
      "      <baz></baz>\n",
      "   </bar>\n",
      "</foo>\" is a well-formatted instance of the schema.\n",
      "2. String \"<foo>\n",
      "   <bar>\n",
      "   </foo>\" is a badly-formatted instance.\n",
      "3. String \"<foo>\n",
      "   <tag>\n",
      "   </tag>\n",
      "</foo>\" is a badly-formatted instance.\n",
      "\n",
      "Here are the output tags:\n",
      "```\n",
      "['movies', 'actor', 'film', 'name', 'genre']\n",
      "```\n"
     ]
    }
   ],
   "execution_count": 44
  },
  {
   "metadata": {
    "ExecuteTime": {
     "end_time": "2024-11-09T11:04:28.519149Z",
     "start_time": "2024-11-09T11:04:27.548400Z"
    }
   },
   "cell_type": "code",
   "source": [
    "for s in chain.stream({\"query\": actor_query}):\n",
    "    print(s)"
   ],
   "id": "92ee261553b72b7f",
   "outputs": [
    {
     "name": "stdout",
     "output_type": "stream",
     "text": [
      "{'filmography': [{'actor': [{'name': 'Tom Hanks'}]}]}\n",
      "{'filmography': [{'actor': [{'movies': [{'movie': [{'title': 'Forrest Gump'}]}]}]}]}\n",
      "{'filmography': [{'actor': [{'movies': [{'movie': [{'year': '1994'}]}]}]}]}\n",
      "{'filmography': [{'actor': [{'movies': [{'movie': [{'title': 'Cast Away'}]}]}]}]}\n",
      "{'filmography': [{'actor': [{'movies': [{'movie': [{'year': '2000'}]}]}]}]}\n",
      "{'filmography': [{'actor': [{'movies': [{'movie': [{'title': 'Apollo 13'}]}]}]}]}\n",
      "{'filmography': [{'actor': [{'movies': [{'movie': [{'year': '1995'}]}]}]}]}\n",
      "{'filmography': [{'actor': [{'movies': [{'movie': [{'title': 'Sully'}]}]}]}]}\n",
      "{'filmography': [{'actor': [{'movies': [{'movie': [{'year': '2016'}]}]}]}]}\n",
      "{'filmography': [{'actor': [{'movies': [{'movie': [{'title': 'Saving Private Ryan'}]}]}]}]}\n",
      "{'filmography': [{'actor': [{'movies': [{'movie': [{'year': '1998'}]}]}]}]}\n",
      "{'filmography': [{'actor': [{'movies': [{'movie': [{'title': 'Big'}]}]}]}]}\n",
      "{'filmography': [{'actor': [{'movies': [{'movie': [{'year': '1988'}]}]}]}]}\n",
      "{'filmography': [{'actor': [{'movies': [{'movie': [{'title': 'Philadelphia'}]}]}]}]}\n",
      "{'filmography': [{'actor': [{'movies': [{'movie': [{'year': '1993'}]}]}]}]}\n",
      "{'filmography': [{'actor': [{'movies': [{'movie': [{'title': 'Toy Story'}]}]}]}]}\n",
      "{'filmography': [{'actor': [{'movies': [{'movie': [{'year': '1995'}]}]}]}]}\n",
      "{'filmography': [{'actor': [{'movies': [{'movie': [{'title': 'Toy Story 2'}]}]}]}]}\n",
      "{'filmography': [{'actor': [{'movies': [{'movie': [{'year': '1999'}]}]}]}]}\n",
      "{'filmography': [{'actor': [{'movies': [{'movie': [{'title': 'Toy Story 3'}]}]}]}]}\n",
      "{'filmography': [{'actor': [{'movies': [{'movie': [{'year': '2010'}]}]}]}]}\n",
      "{'filmography': [{'actor': [{'movies': [{'movie': [{'title': 'Toy Story 4'}]}]}]}]}\n",
      "{'filmography': [{'actor': [{'movies': [{'movie': [{'year': '2019'}]}]}]}]}\n",
      "{'filmography': [{'actor': [{'movies': [{'movie': [{'title': 'The Da Vinci Code'}]}]}]}]}\n",
      "{'filmography': [{'actor': [{'movies': [{'movie': [{'year': '2006'}]}]}]}]}\n",
      "{'filmography': [{'actor': [{'movies': [{'movie': [{'title': 'Cloud Atlas'}]}]}]}]}\n",
      "{'filmography': [{'actor': [{'movies': [{'movie': [{'year': '2012'}]}]}]}]}\n",
      "{'filmography': [{'actor': [{'movies': [{'movie': [{'title': 'The Polar Express'}]}]}]}]}\n",
      "{'filmography': [{'actor': [{'movies': [{'movie': [{'year': '2004'}]}]}]}]}\n",
      "{'filmography': [{'actor': [{'movies': [{'movie': [{'title': \"Charlie Wilson's War\"}]}]}]}]}\n",
      "{'filmography': [{'actor': [{'movies': [{'movie': [{'year': '2007'}]}]}]}]}\n",
      "{'filmography': [{'actor': [{'movies': [{'movie': [{'title': 'Captain Phillips'}]}]}]}]}\n",
      "{'filmography': [{'actor': [{'movies': [{'movie': [{'year': '2013'}]}]}]}]}\n",
      "{'filmography': [{'actor': [{'movies': [{'movie': [{'title': 'Sully'}]}]}]}]}\n",
      "{'filmography': [{'actor': [{'movies': [{'movie': [{'year': '2016'}]}]}]}]}\n",
      "{'filmography': [{'actor': [{'movies': [{'movie': [{'title': 'The Green Knight'}]}]}]}]}\n",
      "{'filmography': [{'actor': [{'movies': [{'movie': [{'year': '2021'}]}]}]}]}\n"
     ]
    }
   ],
   "execution_count": 39
  },
  {
   "metadata": {},
   "cell_type": "markdown",
   "source": "# CSV",
   "id": "3c8205533803e4e6"
  },
  {
   "metadata": {
    "ExecuteTime": {
     "end_time": "2024-11-09T11:03:39.243487Z",
     "start_time": "2024-11-09T11:03:39.242092Z"
    }
   },
   "cell_type": "code",
   "source": "",
   "id": "1724c987e63342d0",
   "outputs": [],
   "execution_count": null
  },
  {
   "metadata": {},
   "cell_type": "markdown",
   "source": "# Ooutput Fixing",
   "id": "3c8670fdeb25c1fc"
  },
  {
   "metadata": {
    "ExecuteTime": {
     "end_time": "2024-11-09T11:03:39.256888Z",
     "start_time": "2024-11-09T11:03:39.255492Z"
    }
   },
   "cell_type": "code",
   "source": "",
   "id": "eab0ebc4a9881ae",
   "outputs": [],
   "execution_count": null
  },
  {
   "metadata": {},
   "cell_type": "markdown",
   "source": "# Retry with Error Handling",
   "id": "7b88c2e1e7e892d"
  },
  {
   "metadata": {
    "ExecuteTime": {
     "end_time": "2024-11-09T11:03:39.272888Z",
     "start_time": "2024-11-09T11:03:39.271622Z"
    }
   },
   "cell_type": "code",
   "source": "",
   "id": "4e9cdf531f82d7a6",
   "outputs": [],
   "execution_count": null
  },
  {
   "metadata": {},
   "cell_type": "markdown",
   "source": "# Pyndatic Models",
   "id": "1098e02ac48393a5"
  },
  {
   "metadata": {
    "ExecuteTime": {
     "end_time": "2024-11-09T11:03:39.290729Z",
     "start_time": "2024-11-09T11:03:39.289378Z"
    }
   },
   "cell_type": "code",
   "source": "",
   "id": "4cf8f30d280c2d26",
   "outputs": [],
   "execution_count": null
  },
  {
   "metadata": {},
   "cell_type": "markdown",
   "source": "# Yaml",
   "id": "f7279c774aff4a40"
  },
  {
   "metadata": {
    "ExecuteTime": {
     "end_time": "2024-11-09T11:05:12.684712Z",
     "start_time": "2024-11-09T11:05:10.588748Z"
    }
   },
   "cell_type": "code",
   "source": [
    "from langchain.output_parsers import YamlOutputParser\n",
    "from langchain_core.prompts import PromptTemplate\n",
    "from langchain_openai import ChatOpenAI\n",
    "from pydantic import BaseModel, Field\n",
    "\n",
    "\n",
    "# Define your desired data structure.\n",
    "class Joke(BaseModel):\n",
    "    setup: str = Field(description=\"question to set up a joke\")\n",
    "    punchline: str = Field(description=\"answer to resolve the joke\")\n",
    "\n",
    "\n",
    "# And a query intented to prompt a language model to populate the data structure.\n",
    "joke_query = \"Tell me a joke.\"\n",
    "\n",
    "# Set up a parser + inject instructions into the prompt template.\n",
    "parser = YamlOutputParser(pydantic_object=Joke)\n",
    "\n",
    "prompt = PromptTemplate(\n",
    "    template=\"Answer the user query.\\n{format_instructions}\\n{query}\\n\",\n",
    "    input_variables=[\"query\"],\n",
    "    partial_variables={\"format_instructions\": parser.get_format_instructions()},\n",
    ")\n",
    "\n",
    "chain = prompt | llm | parser\n",
    "\n",
    "chain.invoke({\"query\": joke_query})"
   ],
   "id": "c8b4e3f7e2ccffdc",
   "outputs": [
    {
     "data": {
      "text/plain": [
       "Joke(setup=\"Why couldn't the bicycle stand up by itself?\", punchline='Because it was two-tired.')"
      ]
     },
     "execution_count": 40,
     "metadata": {},
     "output_type": "execute_result"
    }
   ],
   "execution_count": 40
  },
  {
   "metadata": {
    "ExecuteTime": {
     "end_time": "2024-11-09T11:06:00.279828Z",
     "start_time": "2024-11-09T11:06:00.277017Z"
    }
   },
   "cell_type": "code",
   "source": [
    "r = parser.get_format_instructions()\n",
    "print(r)"
   ],
   "id": "42b3ac3694792eef",
   "outputs": [
    {
     "name": "stdout",
     "output_type": "stream",
     "text": [
      "The output should be formatted as a YAML instance that conforms to the given JSON schema below.\n",
      "\n",
      "# Examples\n",
      "## Schema\n",
      "```\n",
      "{\"title\": \"Players\", \"description\": \"A list of players\", \"type\": \"array\", \"items\": {\"$ref\": \"#/definitions/Player\"}, \"definitions\": {\"Player\": {\"title\": \"Player\", \"type\": \"object\", \"properties\": {\"name\": {\"title\": \"Name\", \"description\": \"Player name\", \"type\": \"string\"}, \"avg\": {\"title\": \"Avg\", \"description\": \"Batting average\", \"type\": \"number\"}}, \"required\": [\"name\", \"avg\"]}}}\n",
      "```\n",
      "## Well formatted instance\n",
      "```\n",
      "- name: John Doe\n",
      "  avg: 0.3\n",
      "- name: Jane Maxfield\n",
      "  avg: 1.4\n",
      "```\n",
      "\n",
      "## Schema\n",
      "```\n",
      "{\"properties\": {\"habit\": { \"description\": \"A common daily habit\", \"type\": \"string\" }, \"sustainable_alternative\": { \"description\": \"An environmentally friendly alternative to the habit\", \"type\": \"string\"}}, \"required\": [\"habit\", \"sustainable_alternative\"]}\n",
      "```\n",
      "## Well formatted instance\n",
      "```\n",
      "habit: Using disposable water bottles for daily hydration.\n",
      "sustainable_alternative: Switch to a reusable water bottle to reduce plastic waste and decrease your environmental footprint.\n",
      "``` \n",
      "\n",
      "Please follow the standard YAML formatting conventions with an indent of 2 spaces and make sure that the data types adhere strictly to the following JSON schema: \n",
      "```\n",
      "{\"properties\": {\"setup\": {\"description\": \"question to set up a joke\", \"title\": \"Setup\", \"type\": \"string\"}, \"punchline\": {\"description\": \"answer to resolve the joke\", \"title\": \"Punchline\", \"type\": \"string\"}}, \"required\": [\"setup\", \"punchline\"]}\n",
      "```\n",
      "\n",
      "Make sure to always enclose the YAML output in triple backticks (```). Please do not add anything other than valid YAML output!\n"
     ]
    }
   ],
   "execution_count": 43
  },
  {
   "metadata": {
    "ExecuteTime": {
     "end_time": "2024-11-09T11:05:38.360642Z",
     "start_time": "2024-11-09T11:05:37.522654Z"
    }
   },
   "cell_type": "code",
   "source": "",
   "id": "9597ac1a263076de",
   "outputs": [
    {
     "name": "stdout",
     "output_type": "stream",
     "text": [
      "setup=\"Why couldn't the bicycle stand up by itself?\" punchline='Because it was two-tired.'\n"
     ]
    }
   ],
   "execution_count": 42
  },
  {
   "metadata": {},
   "cell_type": "markdown",
   "source": "# Pandas Dataframe",
   "id": "e7d8bdfff6359010"
  },
  {
   "metadata": {
    "ExecuteTime": {
     "end_time": "2024-11-09T11:03:39.311955Z",
     "start_time": "2024-11-09T11:03:39.310662Z"
    }
   },
   "cell_type": "code",
   "source": "",
   "id": "1bb4e3339e491ddd",
   "outputs": [],
   "execution_count": null
  },
  {
   "metadata": {},
   "cell_type": "markdown",
   "source": "# Enum",
   "id": "479c02131b1f2ba4"
  },
  {
   "metadata": {
    "ExecuteTime": {
     "end_time": "2024-11-09T11:03:39.323875Z",
     "start_time": "2024-11-09T11:03:39.322664Z"
    }
   },
   "cell_type": "code",
   "source": "",
   "id": "ecdd806727112213",
   "outputs": [],
   "execution_count": null
  },
  {
   "metadata": {},
   "cell_type": "markdown",
   "source": "# Date and Time",
   "id": "9f984ee378777c4"
  },
  {
   "metadata": {
    "ExecuteTime": {
     "end_time": "2024-11-09T11:03:39.334579Z",
     "start_time": "2024-11-09T11:03:39.333179Z"
    }
   },
   "cell_type": "code",
   "source": "",
   "id": "b1cb63d98b02c004",
   "outputs": [],
   "execution_count": null
  },
  {
   "metadata": {},
   "cell_type": "markdown",
   "source": "# Structured",
   "id": "664c781999b85c26"
  },
  {
   "metadata": {
    "ExecuteTime": {
     "end_time": "2024-11-09T11:03:39.345580Z",
     "start_time": "2024-11-09T11:03:39.344310Z"
    }
   },
   "cell_type": "code",
   "source": "",
   "id": "613f100d63dd4422",
   "outputs": [],
   "execution_count": null
  }
 ],
 "metadata": {
  "kernelspec": {
   "display_name": "Python 3",
   "language": "python",
   "name": "python3"
  },
  "language_info": {
   "codemirror_mode": {
    "name": "ipython",
    "version": 2
   },
   "file_extension": ".py",
   "mimetype": "text/x-python",
   "name": "python",
   "nbconvert_exporter": "python",
   "pygments_lexer": "ipython2",
   "version": "2.7.6"
  }
 },
 "nbformat": 4,
 "nbformat_minor": 5
}
