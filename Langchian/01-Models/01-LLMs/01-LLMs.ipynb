{
 "cells": [
  {
   "cell_type": "code",
   "execution_count": 1,
   "id": "d84f7735edbc5c15",
   "metadata": {},
   "outputs": [],
   "source": [
    "from langchain_ollama.chat_models import ChatOllama\n",
    "import getpass\n",
    "import os\n",
    "from langchain_openai import ChatOpenAI\n"
   ]
  },
  {
   "cell_type": "markdown",
   "id": "a5ab62d0aaa46c81",
   "metadata": {},
   "source": [
    "# Chat with Ollama"
   ]
  },
  {
   "cell_type": "code",
   "execution_count": 2,
   "id": "b60ed0185134e4ae",
   "metadata": {},
   "outputs": [],
   "source": [
    "if \"OPENAI_API_KEY\" not in os.environ:\n",
    "    os.environ[\"OPENAI_API_KEY\"] = getpass.getpass(\"Enter your OpenAI API key: \")"
   ]
  },
  {
   "cell_type": "code",
   "execution_count": 3,
   "id": "df3e3216054a83c5",
   "metadata": {},
   "outputs": [],
   "source": [
    "llm = ChatOllama(model='qwen2.5:0.5b', temperature=0.5)\n"
   ]
  },
  {
   "cell_type": "code",
   "execution_count": 4,
   "id": "d40e65c7aa3779",
   "metadata": {},
   "outputs": [
    {
     "name": "stdout",
     "output_type": "stream",
     "text": [
      "content=\"Hello! I'm doing well too. How about you? Is everything okay with you?\" additional_kwargs={} response_metadata={'model': 'qwen2.5:0.5b', 'created_at': '2024-11-11T16:14:07.252572Z', 'message': {'role': 'assistant', 'content': ''}, 'done_reason': 'stop', 'done': True, 'total_duration': 1667188250, 'load_duration': 561983000, 'prompt_eval_count': 36, 'prompt_eval_duration': 626000000, 'eval_count': 19, 'eval_duration': 172000000} id='run-b1b42200-1b40-4121-b499-1cfd9e77182c-0' usage_metadata={'input_tokens': 36, 'output_tokens': 19, 'total_tokens': 55}\n"
     ]
    }
   ],
   "source": [
    "r = llm.invoke(\"Hello, how are you today?\")\n",
    "print(r)"
   ]
  },
  {
   "cell_type": "code",
   "execution_count": 5,
   "id": "3af7ce997bcdb296",
   "metadata": {},
   "outputs": [
    {
     "data": {
      "text/plain": [
       "\"Hello! I'm doing well too. How about you? Is everything okay with you?\""
      ]
     },
     "execution_count": 5,
     "metadata": {},
     "output_type": "execute_result"
    }
   ],
   "source": [
    "r.content"
   ]
  },
  {
   "cell_type": "markdown",
   "id": "f16318457690a31a",
   "metadata": {},
   "source": [
    "# Chat with OpenAI"
   ]
  },
  {
   "cell_type": "code",
   "execution_count": 6,
   "id": "d592320046c916f7",
   "metadata": {},
   "outputs": [],
   "source": [
    "llm = ChatOpenAI(model='gpt-3.5-turbo', temperature=0.5, max_tokens=52)"
   ]
  },
  {
   "cell_type": "code",
   "execution_count": 7,
   "id": "6b5fefa9644bbdc8",
   "metadata": {},
   "outputs": [
    {
     "name": "stdout",
     "output_type": "stream",
     "text": [
      "content=\"Hello! I'm just a computer program, so I don't have feelings, but I'm here and ready to assist you. How can I help you today?\" additional_kwargs={'refusal': None} response_metadata={'token_usage': {'completion_tokens': 33, 'prompt_tokens': 14, 'total_tokens': 47, 'completion_tokens_details': {'accepted_prediction_tokens': 0, 'audio_tokens': 0, 'reasoning_tokens': 0, 'rejected_prediction_tokens': 0}, 'prompt_tokens_details': {'audio_tokens': 0, 'cached_tokens': 0}}, 'model_name': 'gpt-3.5-turbo-0125', 'system_fingerprint': None, 'finish_reason': 'stop', 'logprobs': None} id='run-3e5afa06-1a08-4303-b99e-bbf951910356-0' usage_metadata={'input_tokens': 14, 'output_tokens': 33, 'total_tokens': 47, 'input_token_details': {'audio': 0, 'cache_read': 0}, 'output_token_details': {'audio': 0, 'reasoning': 0}}\n"
     ]
    }
   ],
   "source": [
    "r = llm.invoke(\"Hello, how are you today?\")\n",
    "print(r)"
   ]
  },
  {
   "cell_type": "code",
   "execution_count": 8,
   "id": "89a66a84fc7cff23",
   "metadata": {},
   "outputs": [
    {
     "data": {
      "text/plain": [
       "\"Hello! I'm just a computer program, so I don't have feelings, but I'm here and ready to assist you. How can I help you today?\""
      ]
     },
     "execution_count": 8,
     "metadata": {},
     "output_type": "execute_result"
    }
   ],
   "source": [
    "r.content"
   ]
  },
  {
   "cell_type": "markdown",
   "id": "26b56e18411e09bc",
   "metadata": {},
   "source": [
    "# OpenRouter Chat"
   ]
  },
  {
   "cell_type": "code",
   "id": "eccacd36a4184379",
   "metadata": {
    "ExecuteTime": {
     "end_time": "2024-11-11T16:24:18.844406Z",
     "start_time": "2024-11-11T16:24:15.625847Z"
    }
   },
   "source": [
    "from langchain_openai import ChatOpenAI\n",
    "from os import getenv\n",
    "from dotenv import load_dotenv\n",
    "\n",
    "load_dotenv()\n",
    "\n",
    "llm = ChatOpenAI(\n",
    "    openai_api_key=getenv(\"OPENROUTER_API_KEY\"),\n",
    "    openai_api_base=\"https://openrouter.ai/api/v1\",\n",
    "    model=\"meta-llama/llama-3.2-3b-instruct:free\",\n",
    "    temperature=0.5,\n",
    "    max_tokens=100,\n",
    "\n",
    ")\n",
    "\n",
    "result = llm.invoke(\"Hello, how are you today?\")\n",
    "result.content"
   ],
   "outputs": [
    {
     "data": {
      "text/plain": [
       "\"I'm just a language model, so I don't have emotions or feelings like humans do, but I'm functioning properly and ready to help you with any questions or tasks you have. How can I assist you today?\""
      ]
     },
     "execution_count": 3,
     "metadata": {},
     "output_type": "execute_result"
    }
   ],
   "execution_count": 3
  },
  {
   "cell_type": "code",
   "execution_count": null,
   "id": "eb450b3e827b6ec",
   "metadata": {},
   "outputs": [],
   "source": [
    "print(result)\n",
    "\n",
    "print('\\n', result.content)"
   ]
  },
  {
   "cell_type": "code",
   "execution_count": null,
   "id": "bcebc3e569b187ad",
   "metadata": {},
   "outputs": [],
   "source": [
    "result.schema()\n"
   ]
  },
  {
   "cell_type": "code",
   "execution_count": null,
   "id": "de5b34d34a30d641",
   "metadata": {},
   "outputs": [],
   "source": []
  }
 ],
 "metadata": {
  "kernelspec": {
   "display_name": "blog-tutorials-M8bgSKgB-py3.12",
   "language": "python",
   "name": "python3"
  },
  "language_info": {
   "codemirror_mode": {
    "name": "ipython",
    "version": 3
   },
   "file_extension": ".py",
   "mimetype": "text/x-python",
   "name": "python",
   "nbconvert_exporter": "python",
   "pygments_lexer": "ipython3",
   "version": "3.12.4"
  }
 },
 "nbformat": 4,
 "nbformat_minor": 5
}
