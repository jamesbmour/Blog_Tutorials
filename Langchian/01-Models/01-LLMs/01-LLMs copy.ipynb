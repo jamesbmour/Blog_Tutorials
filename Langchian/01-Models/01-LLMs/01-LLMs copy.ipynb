{
 "cells": [
  {
   "cell_type": "code",
   "execution_count": null,
   "id": "d84f7735edbc5c15",
   "metadata": {},
   "outputs": [],
   "source": [
    "from langchain_ollama.chat_models import ChatOllama\n",
    "import getpass\n",
    "import os\n",
    "from langchain_openai import ChatOpenAI\n"
   ]
  },
  {
   "cell_type": "markdown",
   "id": "a5ab62d0aaa46c81",
   "metadata": {},
   "source": [
    "# Chat with Ollama"
   ]
  },
  {
   "cell_type": "code",
   "execution_count": null,
   "id": "b60ed0185134e4ae",
   "metadata": {},
   "outputs": [],
   "source": [
    "if \"OPENAI_API_KEY\" not in os.environ:\n",
    "    os.environ[\"OPENAI_API_KEY\"] = getpass.getpass(\"Enter your OpenAI API key: \")"
   ]
  },
  {
   "cell_type": "code",
   "execution_count": null,
   "id": "df3e3216054a83c5",
   "metadata": {},
   "outputs": [],
   "source": [
    "llm = ChatOllama(model='qwen2.5:0.5b', temperature=0.5)\n"
   ]
  },
  {
   "cell_type": "code",
   "execution_count": null,
   "id": "d40e65c7aa3779",
   "metadata": {},
   "outputs": [],
   "source": [
    "r = llm.invoke(\"Hello, how are you today?\")\n",
    "print(r)"
   ]
  },
  {
   "cell_type": "code",
   "execution_count": null,
   "id": "3af7ce997bcdb296",
   "metadata": {},
   "outputs": [],
   "source": [
    "r.content"
   ]
  },
  {
   "cell_type": "markdown",
   "id": "f16318457690a31a",
   "metadata": {},
   "source": [
    "# Chat with OpenAI"
   ]
  },
  {
   "cell_type": "code",
   "execution_count": null,
   "id": "d592320046c916f7",
   "metadata": {},
   "outputs": [],
   "source": [
    "llm = ChatOpenAI(model='gpt-3.5-turbo', temperature=0.5, max_tokens=52)"
   ]
  },
  {
   "cell_type": "code",
   "execution_count": null,
   "id": "6b5fefa9644bbdc8",
   "metadata": {},
   "outputs": [],
   "source": [
    "r = llm.invoke(\"Hello, how are you today?\")\n",
    "print(r)"
   ]
  },
  {
   "cell_type": "code",
   "execution_count": null,
   "id": "89a66a84fc7cff23",
   "metadata": {},
   "outputs": [],
   "source": [
    "r.content"
   ]
  },
  {
   "cell_type": "markdown",
   "id": "26b56e18411e09bc",
   "metadata": {},
   "source": [
    "# OpenRouter Chat"
   ]
  },
  {
   "cell_type": "code",
   "execution_count": null,
   "id": "eccacd36a4184379",
   "metadata": {},
   "outputs": [],
   "source": [
    "from langchain_openai import ChatOpenAI\n",
    "from os import getenv\n",
    "from dotenv import load_dotenv\n",
    "\n",
    "load_dotenv()\n",
    "\n",
    "llm = ChatOpenAI(\n",
    "    openai_api_key=getenv(\"OPENROUTER_API_KEY\"),\n",
    "    openai_api_base=\"https://openrouter.ai/api/v1\",\n",
    "    model=\"meta-llama/llama-3.2-3b-instruct:free\",\n",
    "    temperature=0.5,\n",
    "    max_tokens=100,\n",
    "\n",
    ")\n",
    "\n",
    "result = llm.invoke(\"Hello, how are you today?\")\n",
    "result.content"
   ]
  },
  {
   "cell_type": "code",
   "execution_count": null,
   "id": "eb450b3e827b6ec",
   "metadata": {},
   "outputs": [],
   "source": [
    "print(result)\n",
    "\n",
    "print('\\n', result.content)"
   ]
  },
  {
   "cell_type": "code",
   "execution_count": null,
   "id": "bcebc3e569b187ad",
   "metadata": {},
   "outputs": [],
   "source": [
    "result.schema()\n"
   ]
  },
  {
   "cell_type": "code",
   "execution_count": null,
   "id": "de5b34d34a30d641",
   "metadata": {},
   "outputs": [],
   "source": []
  }
 ],
 "metadata": {
  "kernelspec": {
   "display_name": "blog-tutorials-M8bgSKgB-py3.12",
   "language": "python",
   "name": "python3"
  },
  "language_info": {
   "codemirror_mode": {
    "name": "ipython",
    "version": 2
   },
   "file_extension": ".py",
   "mimetype": "text/x-python",
   "name": "python",
   "nbconvert_exporter": "python",
   "pygments_lexer": "ipython2",
   "version": "3.12.4"
  }
 },
 "nbformat": 4,
 "nbformat_minor": 5
}
