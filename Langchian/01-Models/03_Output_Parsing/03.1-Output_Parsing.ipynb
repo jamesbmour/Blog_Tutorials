{
 "cells": [
  {
   "cell_type": "markdown",
   "id": "7e8de950",
   "metadata": {},
   "source": [
    "# LangChain Part 3: Output Parsing\n",
    "- Important when using agents with tools e.g. calculator , search engine \n",
    "- Many systems expect data in specific way"
   ]
  },
  {
   "cell_type": "code",
   "execution_count": 1,
   "id": "6509fe9d",
   "metadata": {},
   "outputs": [
    {
     "name": "stdout",
     "output_type": "stream",
     "text": [
      " I'm just a computer program, so I don't have feelings, but I'm ready to assist you! How can I help you today?\n"
     ]
    }
   ],
   "source": [
    "from langchain_openai import ChatOpenAI\n",
    "from langchain_ollama.chat_models import ChatOllama\n",
    "from os import getenv\n",
    "from dotenv import load_dotenv\n",
    "from pprint import pprint\n",
    "\n",
    "load_dotenv()\n",
    "\n",
    "llm = ChatOpenAI(\n",
    "    openai_api_key=getenv(\"OPENROUTER_API_KEY\"),\n",
    "    openai_api_base=\"https://openrouter.ai/api/v1\",\n",
    "    model=\"microsoft/phi-3-medium-128k-instruct:free\",\n",
    "    temperature=0.2,\n",
    "    max_tokens=512\n",
    ")\n",
    "# llm = ChatOllama(model='llama3.2', temperature=0.2, max_tokens=512)\n",
    "\n",
    "result = llm.invoke(\"Hello, how are you today?\")\n",
    "print(result.content)"
   ]
  },
  {
   "cell_type": "markdown",
   "id": "b032192b",
   "metadata": {},
   "source": [
    "# CSV Parser \n",
    "- Used when want to return a list of comma-separated Items"
   ]
  },
  {
   "cell_type": "code",
   "execution_count": 2,
   "id": "38186839",
   "metadata": {},
   "outputs": [
    {
     "name": "stdout",
     "output_type": "stream",
     "text": [
      "Format Instructions:\n",
      " Your response should be a list of comma separated values, eg: `foo, bar, baz` or `foo,bar,baz` \n",
      "\n",
      "{'_type': 'prompt',\n",
      " 'input_variables': ['subject'],\n",
      " 'metadata': None,\n",
      " 'name': None,\n",
      " 'optional_variables': [],\n",
      " 'output_parser': None,\n",
      " 'partial_variables': {'format_instructions': 'Your response should be a list '\n",
      "                                              'of comma separated values, eg: '\n",
      "                                              '`foo, bar, baz` or '\n",
      "                                              '`foo,bar,baz`'},\n",
      " 'tags': None,\n",
      " 'template': 'List five {subject}. \\n{format_instructions}',\n",
      " 'template_format': 'f-string',\n",
      " 'validate_template': False}\n",
      "\n",
      "Result:\n",
      " ['Beagle', 'Labrador Retriever', 'German Shepherd', 'Bulldog', 'Poodle']\n"
     ]
    }
   ],
   "source": [
    "from functools import partial\n",
    "from pprint import pp\n",
    "from tempfile import template\n",
    "from langchain.output_parsers import CommaSeparatedListOutputParser\n",
    "from langchain_core.prompts import PromptTemplate\n",
    "\n",
    "\n",
    "output_parser = CommaSeparatedListOutputParser()\n",
    "\n",
    "format_instructions = output_parser.get_format_instructions()\n",
    "print(\"Format Instructions:\\n\",format_instructions, \"\\n\")\n",
    "\n",
    "prompt = PromptTemplate(\n",
    "    template=\"List five {subject}. \\n{format_instructions}\",\n",
    "    input_variables=[\"subject\"],\n",
    "    partial_variables={\"format_instructions\": format_instructions},\n",
    ")\n",
    "\n",
    "pprint(prompt.dict())\n",
    "\n",
    "# Create a model that uses the prompt\n",
    "chain = prompt | llm | output_parser\n",
    "\n",
    "# Invoke the model\n",
    "result = chain.invoke({\"subject\": \"dog breeds\"})\n",
    "\n",
    "print('\\nResult:\\n',result)\n"
   ]
  },
  {
   "cell_type": "markdown",
   "id": "2563639f",
   "metadata": {},
   "source": [
    "# Datetime Parser\n",
    "- Used when want to return a date in a specific format\n",
    "- Useful for applications that require a specific date format like a calendar"
   ]
  },
  {
   "cell_type": "code",
   "execution_count": 5,
   "id": "3ee53d6c",
   "metadata": {},
   "outputs": [
    {
     "name": "stdout",
     "output_type": "stream",
     "text": [
      "{'_type': 'prompt',\n",
      " 'input_variables': [],\n",
      " 'metadata': None,\n",
      " 'name': None,\n",
      " 'optional_variables': [],\n",
      " 'output_parser': None,\n",
      " 'partial_variables': {'format_instructions': 'Write a datetime string that '\n",
      "                                              'matches the following pattern: '\n",
      "                                              \"'%Y-%m-%dT%H:%M:%S.%fZ'.\\n\"\n",
      "                                              '\\n'\n",
      "                                              'Examples: '\n",
      "                                              '0142-03-27T06:31:47.571059Z, '\n",
      "                                              '0496-03-28T23:36:36.585184Z, '\n",
      "                                              '0078-08-30T22:40:22.919265Z\\n'\n",
      "                                              '\\n'\n",
      "                                              'Return ONLY this string, no '\n",
      "                                              'other words!'},\n",
      " 'tags': None,\n",
      " 'template': 'What is the current date and time in UTC?\\n{format_instructions}',\n",
      " 'template_format': 'f-string',\n",
      " 'validate_template': False}\n"
     ]
    }
   ],
   "source": [
    "from langchain.output_parsers import DatetimeOutputParser\n",
    "from langchain_core.prompts import PromptTemplate\n",
    "\n",
    "output_parser = DatetimeOutputParser()\n",
    "\n",
    "# Create a new prompt template for datetime parsing\n",
    "datetime_prompt = PromptTemplate(\n",
    "    template=\"What is the current date and time in UTC?\\n{format_instructions}\",\n",
    "    input_variables=[\"format_instructions\"],\n",
    "    partial_variables={\"format_instructions\": output_parser.get_format_instructions()},\n",
    ")\n",
    "pprint(datetime_prompt.dict())\n"
   ]
  },
  {
   "cell_type": "code",
   "execution_count": 7,
   "id": "f3a6f3ae",
   "metadata": {},
   "outputs": [
    {
     "name": "stdout",
     "output_type": "stream",
     "text": [
      "\n",
      "Datetime Result:\n",
      " 2022-07-20 15:12:43.611809\n",
      "<class 'datetime.datetime'>\n"
     ]
    }
   ],
   "source": [
    "# Create a chain with the new prompt and the existing llm and output_parser\n",
    "datetime_chain = datetime_prompt | llm | output_parser\n",
    "\n",
    "# Invoke the chain\n",
    "datetime_result = datetime_chain.invoke({})\n",
    "\n",
    "print('\\nDatetime Result:\\n', datetime_result)\n",
    "print(type(datetime_result))"
   ]
  },
  {
   "cell_type": "markdown",
   "id": "195acf92",
   "metadata": {},
   "source": [
    "# Enum Parser\n",
    "- Used when want to return a list of items in a specific format\n",
    "- e.g. list of colors, list of countries\n",
    "- Useful for applications that require a specific list of items like a dropdown menu."
   ]
  },
  {
   "cell_type": "code",
   "execution_count": 11,
   "id": "499184a4",
   "metadata": {},
   "outputs": [
    {
     "name": "stdout",
     "output_type": "stream",
     "text": [
      "Select one of the following options: Red, Green, Blue, Brown, Hazel, Amber\n",
      "{'_type': 'prompt',\n",
      " 'input_variables': ['person'],\n",
      " 'metadata': None,\n",
      " 'name': None,\n",
      " 'optional_variables': [],\n",
      " 'output_parser': None,\n",
      " 'partial_variables': {'instructions': 'Select one of the following options: '\n",
      "                                       'Red, Green, Blue, Brown, Hazel, Amber'},\n",
      " 'tags': None,\n",
      " 'template': 'What color eyes does this person have?\\n'\n",
      "             '\\n'\n",
      "             '> Person: {person}\\n'\n",
      "             '\\n'\n",
      "             'Instructions: {instructions}',\n",
      " 'template_format': 'f-string',\n",
      " 'validate_template': False}\n"
     ]
    }
   ],
   "source": [
    "import re\n",
    "from langchain.output_parsers.enum import EnumOutputParser\n",
    "from langchain_core.prompts import PromptTemplate\n",
    "from enum import Enum\n",
    "from langchain_core.prompts import PromptTemplate\n",
    "\n",
    "class EyeColor(Enum):\n",
    "    RED = \"Red\"\n",
    "    GREEN = \"Green\"\n",
    "    BLUE = \"Blue\"\n",
    "    BROWN = \"Brown\"\n",
    "    HAZEL = \"Hazel\"\n",
    "    AMBER = \"Amber\"\n",
    "\n",
    "\n",
    "parser = EnumOutputParser(enum=EyeColor)\n",
    "\n",
    "\n",
    "\n",
    "\n",
    "prompt = PromptTemplate.from_template(\n",
    "    \"\"\"What color eyes does this person have?\n",
    "\n",
    "> Person: {person}\n",
    "\n",
    "Instructions: {instructions}\"\"\"\n",
    ").partial(instructions=parser.get_format_instructions())\n",
    "\n",
    "print(parser.get_format_instructions())\n",
    "pprint(prompt.dict())"
   ]
  },
  {
   "cell_type": "code",
   "execution_count": 12,
   "id": "5d6c742f",
   "metadata": {},
   "outputs": [
    {
     "name": "stdout",
     "output_type": "stream",
     "text": [
      "EyeColor.BLUE\n"
     ]
    }
   ],
   "source": [
    "chain = prompt | llm | parser\n",
    "\n",
    "result = chain.invoke({\"person\": \"This person has blue eyes.\"})\n",
    "\n",
    "print(result)"
   ]
  },
  {
   "cell_type": "markdown",
   "id": "4960a20d",
   "metadata": {},
   "source": [
    "# Json Parser\n",
    "- Returns data in JSON format \n",
    "- e.g. \"{\"name\": \"John\", \"age\": 30, \"city\": \"New York\"}\"\n",
    "- Useful for applications that require data in JSON format like APIs, web services"
   ]
  },
  {
   "cell_type": "code",
   "execution_count": 15,
   "id": "315acb04",
   "metadata": {},
   "outputs": [
    {
     "name": "stdout",
     "output_type": "stream",
     "text": [
      "Format Instructions:\n",
      " Return a JSON object. \n",
      "\n",
      "{'_type': 'prompt',\n",
      " 'input_variables': [],\n",
      " 'metadata': None,\n",
      " 'name': None,\n",
      " 'optional_variables': [],\n",
      " 'output_parser': None,\n",
      " 'partial_variables': {'format_instructions': 'Return a JSON object.'},\n",
      " 'tags': None,\n",
      " 'template': 'Provide the details of a person in JSON format.\\n'\n",
      "             '{format_instructions}',\n",
      " 'template_format': 'f-string',\n",
      " 'validate_template': False}\n",
      "\n",
      "Return:\n",
      " {'name': 'John Doe', 'age': 30, 'gender': 'Male', 'occupation': 'Software Engineer', 'address': {'street': '123 Main St', 'city': 'New York', 'state': 'NY', 'zip': '10001'}, 'phone': {'home': '555-1234', 'work': '555-5678'}, 'email': 'johndoe@example.com'} \n",
      "\n",
      "{'address': {'city': 'New York',\n",
      "             'state': 'NY',\n",
      "             'street': '123 Main St',\n",
      "             'zip': '10001'},\n",
      " 'age': 30,\n",
      " 'email': 'johndoe@example.com',\n",
      " 'gender': 'Male',\n",
      " 'name': 'John Doe',\n",
      " 'occupation': 'Software Engineer',\n",
      " 'phone': {'home': '555-1234', 'work': '555-5678'}}\n"
     ]
    }
   ],
   "source": [
    "from langchain_core.output_parsers import JsonOutputParser\n",
    "\n",
    "# Create a JSON output parser\n",
    "json_output_parser = JsonOutputParser()\n",
    "\n",
    "# Define the format instructions\n",
    "json_format_instructions = json_output_parser.get_format_instructions()\n",
    "print(\"Format Instructions:\\n\", json_format_instructions, \"\\n\")\n",
    "\n",
    "# Create a prompt template for JSON parsing\n",
    "json_prompt = PromptTemplate(\n",
    "    template=\"Provide the details of a person in JSON format.\\n{format_instructions}\",\n",
    "    input_variables=[\"format_instructions\"],\n",
    "    partial_variables={\"format_instructions\": json_format_instructions},\n",
    ")\n",
    "\n",
    "pprint(json_prompt.dict())\n",
    "\n",
    "\n",
    "# Create a chain with the new prompt and the existing llm and json_output_parser\n",
    "json_chain = json_prompt | llm | json_output_parser\n",
    "\n",
    "# Invoke the chain\n",
    "json_result = json_chain.invoke({})\n",
    "\n",
    "print('\\nReturn:\\n',json_result,'\\n')\n",
    "pprint(json_result)"
   ]
  },
  {
   "cell_type": "code",
   "execution_count": 17,
   "id": "f4c49270",
   "metadata": {},
   "outputs": [
    {
     "name": "stdout",
     "output_type": "stream",
     "text": [
      "content='' additional_kwargs={} response_metadata={} id='run-fe1f8ce2-89be-4ac9-9b08-f72e358f0120'\n",
      "content=' Once' additional_kwargs={} response_metadata={} id='run-fe1f8ce2-89be-4ac9-9b08-f72e358f0120'\n",
      "content=' upon' additional_kwargs={} response_metadata={} id='run-fe1f8ce2-89be-4ac9-9b08-f72e358f0120'\n",
      "content=' a' additional_kwargs={} response_metadata={} id='run-fe1f8ce2-89be-4ac9-9b08-f72e358f0120'\n",
      "content=' time' additional_kwargs={} response_metadata={} id='run-fe1f8ce2-89be-4ac9-9b08-f72e358f0120'\n",
      "content=',' additional_kwargs={} response_metadata={} id='run-fe1f8ce2-89be-4ac9-9b08-f72e358f0120'\n",
      "content=' in' additional_kwargs={} response_metadata={} id='run-fe1f8ce2-89be-4ac9-9b08-f72e358f0120'\n",
      "content=' a' additional_kwargs={} response_metadata={} id='run-fe1f8ce2-89be-4ac9-9b08-f72e358f0120'\n",
      "content=' l' additional_kwargs={} response_metadata={} id='run-fe1f8ce2-89be-4ac9-9b08-f72e358f0120'\n",
      "content='ush' additional_kwargs={} response_metadata={} id='run-fe1f8ce2-89be-4ac9-9b08-f72e358f0120'\n",
      "content=' valley' additional_kwargs={} response_metadata={} id='run-fe1f8ce2-89be-4ac9-9b08-f72e358f0120'\n",
      "content=' surrounded' additional_kwargs={} response_metadata={} id='run-fe1f8ce2-89be-4ac9-9b08-f72e358f0120'\n",
      "content=' by' additional_kwargs={} response_metadata={} id='run-fe1f8ce2-89be-4ac9-9b08-f72e358f0120'\n",
      "content=' tower' additional_kwargs={} response_metadata={} id='run-fe1f8ce2-89be-4ac9-9b08-f72e358f0120'\n",
      "content='ing' additional_kwargs={} response_metadata={} id='run-fe1f8ce2-89be-4ac9-9b08-f72e358f0120'\n",
      "content=' mountains' additional_kwargs={} response_metadata={} id='run-fe1f8ce2-89be-4ac9-9b08-f72e358f0120'\n",
      "content=',' additional_kwargs={} response_metadata={} id='run-fe1f8ce2-89be-4ac9-9b08-f72e358f0120'\n",
      "content=' there' additional_kwargs={} response_metadata={} id='run-fe1f8ce2-89be-4ac9-9b08-f72e358f0120'\n",
      "content=' was' additional_kwargs={} response_metadata={} id='run-fe1f8ce2-89be-4ac9-9b08-f72e358f0120'\n",
      "content=' a' additional_kwargs={} response_metadata={} id='run-fe1f8ce2-89be-4ac9-9b08-f72e358f0120'\n",
      "content=' small' additional_kwargs={} response_metadata={} id='run-fe1f8ce2-89be-4ac9-9b08-f72e358f0120'\n",
      "content=' village' additional_kwargs={} response_metadata={} id='run-fe1f8ce2-89be-4ac9-9b08-f72e358f0120'\n",
      "content=' known' additional_kwargs={} response_metadata={} id='run-fe1f8ce2-89be-4ac9-9b08-f72e358f0120'\n",
      "content=' as' additional_kwargs={} response_metadata={} id='run-fe1f8ce2-89be-4ac9-9b08-f72e358f0120'\n",
      "content=' Harm' additional_kwargs={} response_metadata={} id='run-fe1f8ce2-89be-4ac9-9b08-f72e358f0120'\n",
      "content='ony' additional_kwargs={} response_metadata={} id='run-fe1f8ce2-89be-4ac9-9b08-f72e358f0120'\n",
      "content='.' additional_kwargs={} response_metadata={} id='run-fe1f8ce2-89be-4ac9-9b08-f72e358f0120'\n",
      "content=' The' additional_kwargs={} response_metadata={} id='run-fe1f8ce2-89be-4ac9-9b08-f72e358f0120'\n",
      "content=' vill' additional_kwargs={} response_metadata={} id='run-fe1f8ce2-89be-4ac9-9b08-f72e358f0120'\n",
      "content='agers' additional_kwargs={} response_metadata={} id='run-fe1f8ce2-89be-4ac9-9b08-f72e358f0120'\n",
      "content=' of' additional_kwargs={} response_metadata={} id='run-fe1f8ce2-89be-4ac9-9b08-f72e358f0120'\n",
      "content=' Harm' additional_kwargs={} response_metadata={} id='run-fe1f8ce2-89be-4ac9-9b08-f72e358f0120'\n",
      "content='ony' additional_kwargs={} response_metadata={} id='run-fe1f8ce2-89be-4ac9-9b08-f72e358f0120'\n",
      "content=' lived' additional_kwargs={} response_metadata={} id='run-fe1f8ce2-89be-4ac9-9b08-f72e358f0120'\n",
      "content=' in' additional_kwargs={} response_metadata={} id='run-fe1f8ce2-89be-4ac9-9b08-f72e358f0120'\n",
      "content=' peace' additional_kwargs={} response_metadata={} id='run-fe1f8ce2-89be-4ac9-9b08-f72e358f0120'\n",
      "content=' and' additional_kwargs={} response_metadata={} id='run-fe1f8ce2-89be-4ac9-9b08-f72e358f0120'\n",
      "content=' prosper' additional_kwargs={} response_metadata={} id='run-fe1f8ce2-89be-4ac9-9b08-f72e358f0120'\n",
      "content='ity' additional_kwargs={} response_metadata={} id='run-fe1f8ce2-89be-4ac9-9b08-f72e358f0120'\n",
      "content=',' additional_kwargs={} response_metadata={} id='run-fe1f8ce2-89be-4ac9-9b08-f72e358f0120'\n",
      "content=' their' additional_kwargs={} response_metadata={} id='run-fe1f8ce2-89be-4ac9-9b08-f72e358f0120'\n",
      "content=' lives' additional_kwargs={} response_metadata={} id='run-fe1f8ce2-89be-4ac9-9b08-f72e358f0120'\n",
      "content=' inter' additional_kwargs={} response_metadata={} id='run-fe1f8ce2-89be-4ac9-9b08-f72e358f0120'\n",
      "content='tw' additional_kwargs={} response_metadata={} id='run-fe1f8ce2-89be-4ac9-9b08-f72e358f0120'\n",
      "content='ined' additional_kwargs={} response_metadata={} id='run-fe1f8ce2-89be-4ac9-9b08-f72e358f0120'\n",
      "content=' with' additional_kwargs={} response_metadata={} id='run-fe1f8ce2-89be-4ac9-9b08-f72e358f0120'\n",
      "content=' the' additional_kwargs={} response_metadata={} id='run-fe1f8ce2-89be-4ac9-9b08-f72e358f0120'\n",
      "content=' rh' additional_kwargs={} response_metadata={} id='run-fe1f8ce2-89be-4ac9-9b08-f72e358f0120'\n",
      "content='yth' additional_kwargs={} response_metadata={} id='run-fe1f8ce2-89be-4ac9-9b08-f72e358f0120'\n",
      "content='ms' additional_kwargs={} response_metadata={} id='run-fe1f8ce2-89be-4ac9-9b08-f72e358f0120'\n",
      "content=' of' additional_kwargs={} response_metadata={} id='run-fe1f8ce2-89be-4ac9-9b08-f72e358f0120'\n",
      "content=' nature' additional_kwargs={} response_metadata={} id='run-fe1f8ce2-89be-4ac9-9b08-f72e358f0120'\n",
      "content='.' additional_kwargs={} response_metadata={} id='run-fe1f8ce2-89be-4ac9-9b08-f72e358f0120'\n",
      "content=' They' additional_kwargs={} response_metadata={} id='run-fe1f8ce2-89be-4ac9-9b08-f72e358f0120'\n",
      "content=' were' additional_kwargs={} response_metadata={} id='run-fe1f8ce2-89be-4ac9-9b08-f72e358f0120'\n",
      "content=' a' additional_kwargs={} response_metadata={} id='run-fe1f8ce2-89be-4ac9-9b08-f72e358f0120'\n",
      "content=' close' additional_kwargs={} response_metadata={} id='run-fe1f8ce2-89be-4ac9-9b08-f72e358f0120'\n",
      "content='-' additional_kwargs={} response_metadata={} id='run-fe1f8ce2-89be-4ac9-9b08-f72e358f0120'\n",
      "content='kn' additional_kwargs={} response_metadata={} id='run-fe1f8ce2-89be-4ac9-9b08-f72e358f0120'\n",
      "content='it' additional_kwargs={} response_metadata={} id='run-fe1f8ce2-89be-4ac9-9b08-f72e358f0120'\n",
      "content=' community' additional_kwargs={} response_metadata={} id='run-fe1f8ce2-89be-4ac9-9b08-f72e358f0120'\n",
      "content=',' additional_kwargs={} response_metadata={} id='run-fe1f8ce2-89be-4ac9-9b08-f72e358f0120'\n",
      "content=' and' additional_kwargs={} response_metadata={} id='run-fe1f8ce2-89be-4ac9-9b08-f72e358f0120'\n",
      "content=' their' additional_kwargs={} response_metadata={} id='run-fe1f8ce2-89be-4ac9-9b08-f72e358f0120'\n",
      "content=' days' additional_kwargs={} response_metadata={} id='run-fe1f8ce2-89be-4ac9-9b08-f72e358f0120'\n",
      "content=' were' additional_kwargs={} response_metadata={} id='run-fe1f8ce2-89be-4ac9-9b08-f72e358f0120'\n",
      "content=' filled' additional_kwargs={} response_metadata={} id='run-fe1f8ce2-89be-4ac9-9b08-f72e358f0120'\n",
      "content=' with' additional_kwargs={} response_metadata={} id='run-fe1f8ce2-89be-4ac9-9b08-f72e358f0120'\n",
      "content=' laugh' additional_kwargs={} response_metadata={} id='run-fe1f8ce2-89be-4ac9-9b08-f72e358f0120'\n",
      "content='ter' additional_kwargs={} response_metadata={} id='run-fe1f8ce2-89be-4ac9-9b08-f72e358f0120'\n",
      "content=',' additional_kwargs={} response_metadata={} id='run-fe1f8ce2-89be-4ac9-9b08-f72e358f0120'\n",
      "content=' work' additional_kwargs={} response_metadata={} id='run-fe1f8ce2-89be-4ac9-9b08-f72e358f0120'\n",
      "content=',' additional_kwargs={} response_metadata={} id='run-fe1f8ce2-89be-4ac9-9b08-f72e358f0120'\n",
      "content=' and' additional_kwargs={} response_metadata={} id='run-fe1f8ce2-89be-4ac9-9b08-f72e358f0120'\n",
      "content=' the' additional_kwargs={} response_metadata={} id='run-fe1f8ce2-89be-4ac9-9b08-f72e358f0120'\n",
      "content=' occas' additional_kwargs={} response_metadata={} id='run-fe1f8ce2-89be-4ac9-9b08-f72e358f0120'\n",
      "content='ional' additional_kwargs={} response_metadata={} id='run-fe1f8ce2-89be-4ac9-9b08-f72e358f0120'\n",
      "content=' celebr' additional_kwargs={} response_metadata={} id='run-fe1f8ce2-89be-4ac9-9b08-f72e358f0120'\n",
      "content='ation' additional_kwargs={} response_metadata={} id='run-fe1f8ce2-89be-4ac9-9b08-f72e358f0120'\n",
      "content='.' additional_kwargs={} response_metadata={} id='run-fe1f8ce2-89be-4ac9-9b08-f72e358f0120'\n",
      "content='\\n' additional_kwargs={} response_metadata={} id='run-fe1f8ce2-89be-4ac9-9b08-f72e358f0120'\n",
      "content='\\n' additional_kwargs={} response_metadata={} id='run-fe1f8ce2-89be-4ac9-9b08-f72e358f0120'\n",
      "content='In' additional_kwargs={} response_metadata={} id='run-fe1f8ce2-89be-4ac9-9b08-f72e358f0120'\n",
      "content=' the' additional_kwargs={} response_metadata={} id='run-fe1f8ce2-89be-4ac9-9b08-f72e358f0120'\n",
      "content=' heart' additional_kwargs={} response_metadata={} id='run-fe1f8ce2-89be-4ac9-9b08-f72e358f0120'\n",
      "content=' of' additional_kwargs={} response_metadata={} id='run-fe1f8ce2-89be-4ac9-9b08-f72e358f0120'\n",
      "content=' the' additional_kwargs={} response_metadata={} id='run-fe1f8ce2-89be-4ac9-9b08-f72e358f0120'\n"
     ]
    },
    {
     "ename": "KeyboardInterrupt",
     "evalue": "",
     "output_type": "error",
     "traceback": [
      "\u001b[0;31m---------------------------------------------------------------------------\u001b[0m",
      "\u001b[0;31mKeyboardInterrupt\u001b[0m                         Traceback (most recent call last)",
      "Cell \u001b[0;32mIn[17], line 2\u001b[0m\n\u001b[1;32m      1\u001b[0m \u001b[38;5;66;03m# Streaming \u001b[39;00m\n\u001b[0;32m----> 2\u001b[0m \u001b[38;5;28;43;01mfor\u001b[39;49;00m\u001b[43m \u001b[49m\u001b[43ms\u001b[49m\u001b[43m \u001b[49m\u001b[38;5;129;43;01min\u001b[39;49;00m\u001b[43m \u001b[49m\u001b[43mllm\u001b[49m\u001b[38;5;241;43m.\u001b[39;49m\u001b[43mstream\u001b[49m\u001b[43m(\u001b[49m\u001b[38;5;124;43m\"\u001b[39;49m\u001b[38;5;124;43mtell me a story\u001b[39;49m\u001b[38;5;124;43m\"\u001b[39;49m\u001b[43m)\u001b[49m\u001b[43m:\u001b[49m\n\u001b[1;32m      3\u001b[0m \u001b[43m    \u001b[49m\u001b[38;5;28;43mprint\u001b[39;49m\u001b[43m(\u001b[49m\u001b[43ms\u001b[49m\u001b[43m)\u001b[49m\n",
      "File \u001b[0;32m~/Library/Caches/pypoetry/virtualenvs/blog-tutorials-M8bgSKgB-py3.12/lib/python3.12/site-packages/langchain_core/language_models/chat_models.py:420\u001b[0m, in \u001b[0;36mBaseChatModel.stream\u001b[0;34m(self, input, config, stop, **kwargs)\u001b[0m\n\u001b[1;32m    413\u001b[0m \u001b[38;5;28;01mexcept\u001b[39;00m \u001b[38;5;167;01mBaseException\u001b[39;00m \u001b[38;5;28;01mas\u001b[39;00m e:\n\u001b[1;32m    414\u001b[0m     run_manager\u001b[38;5;241m.\u001b[39mon_llm_error(\n\u001b[1;32m    415\u001b[0m         e,\n\u001b[1;32m    416\u001b[0m         response\u001b[38;5;241m=\u001b[39mLLMResult(\n\u001b[1;32m    417\u001b[0m             generations\u001b[38;5;241m=\u001b[39m[[generation]] \u001b[38;5;28;01mif\u001b[39;00m generation \u001b[38;5;28;01melse\u001b[39;00m []\n\u001b[1;32m    418\u001b[0m         ),\n\u001b[1;32m    419\u001b[0m     )\n\u001b[0;32m--> 420\u001b[0m     \u001b[38;5;28;01mraise\u001b[39;00m e\n\u001b[1;32m    421\u001b[0m \u001b[38;5;28;01melse\u001b[39;00m:\n\u001b[1;32m    422\u001b[0m     run_manager\u001b[38;5;241m.\u001b[39mon_llm_end(LLMResult(generations\u001b[38;5;241m=\u001b[39m[[generation]]))\n",
      "File \u001b[0;32m~/Library/Caches/pypoetry/virtualenvs/blog-tutorials-M8bgSKgB-py3.12/lib/python3.12/site-packages/langchain_core/language_models/chat_models.py:400\u001b[0m, in \u001b[0;36mBaseChatModel.stream\u001b[0;34m(self, input, config, stop, **kwargs)\u001b[0m\n\u001b[1;32m    397\u001b[0m     \u001b[38;5;28mself\u001b[39m\u001b[38;5;241m.\u001b[39mrate_limiter\u001b[38;5;241m.\u001b[39macquire(blocking\u001b[38;5;241m=\u001b[39m\u001b[38;5;28;01mTrue\u001b[39;00m)\n\u001b[1;32m    399\u001b[0m \u001b[38;5;28;01mtry\u001b[39;00m:\n\u001b[0;32m--> 400\u001b[0m \u001b[43m    \u001b[49m\u001b[38;5;28;43;01mfor\u001b[39;49;00m\u001b[43m \u001b[49m\u001b[43mchunk\u001b[49m\u001b[43m \u001b[49m\u001b[38;5;129;43;01min\u001b[39;49;00m\u001b[43m \u001b[49m\u001b[38;5;28;43mself\u001b[39;49m\u001b[38;5;241;43m.\u001b[39;49m\u001b[43m_stream\u001b[49m\u001b[43m(\u001b[49m\u001b[43mmessages\u001b[49m\u001b[43m,\u001b[49m\u001b[43m \u001b[49m\u001b[43mstop\u001b[49m\u001b[38;5;241;43m=\u001b[39;49m\u001b[43mstop\u001b[49m\u001b[43m,\u001b[49m\u001b[43m \u001b[49m\u001b[38;5;241;43m*\u001b[39;49m\u001b[38;5;241;43m*\u001b[39;49m\u001b[43mkwargs\u001b[49m\u001b[43m)\u001b[49m\u001b[43m:\u001b[49m\n\u001b[1;32m    401\u001b[0m \u001b[43m        \u001b[49m\u001b[38;5;28;43;01mif\u001b[39;49;00m\u001b[43m \u001b[49m\u001b[43mchunk\u001b[49m\u001b[38;5;241;43m.\u001b[39;49m\u001b[43mmessage\u001b[49m\u001b[38;5;241;43m.\u001b[39;49m\u001b[43mid\u001b[49m\u001b[43m \u001b[49m\u001b[38;5;129;43;01mis\u001b[39;49;00m\u001b[43m \u001b[49m\u001b[38;5;28;43;01mNone\u001b[39;49;00m\u001b[43m:\u001b[49m\n\u001b[1;32m    402\u001b[0m \u001b[43m            \u001b[49m\u001b[43mchunk\u001b[49m\u001b[38;5;241;43m.\u001b[39;49m\u001b[43mmessage\u001b[49m\u001b[38;5;241;43m.\u001b[39;49m\u001b[43mid\u001b[49m\u001b[43m \u001b[49m\u001b[38;5;241;43m=\u001b[39;49m\u001b[43m \u001b[49m\u001b[38;5;124;43mf\u001b[39;49m\u001b[38;5;124;43m\"\u001b[39;49m\u001b[38;5;124;43mrun-\u001b[39;49m\u001b[38;5;132;43;01m{\u001b[39;49;00m\u001b[43mrun_manager\u001b[49m\u001b[38;5;241;43m.\u001b[39;49m\u001b[43mrun_id\u001b[49m\u001b[38;5;132;43;01m}\u001b[39;49;00m\u001b[38;5;124;43m\"\u001b[39;49m\n",
      "File \u001b[0;32m~/Library/Caches/pypoetry/virtualenvs/blog-tutorials-M8bgSKgB-py3.12/lib/python3.12/site-packages/langchain_openai/chat_models/base.py:661\u001b[0m, in \u001b[0;36mBaseChatOpenAI._stream\u001b[0;34m(self, messages, stop, run_manager, **kwargs)\u001b[0m\n\u001b[1;32m    659\u001b[0m \u001b[38;5;28;01mwith\u001b[39;00m response:\n\u001b[1;32m    660\u001b[0m     is_first_chunk \u001b[38;5;241m=\u001b[39m \u001b[38;5;28;01mTrue\u001b[39;00m\n\u001b[0;32m--> 661\u001b[0m \u001b[43m    \u001b[49m\u001b[38;5;28;43;01mfor\u001b[39;49;00m\u001b[43m \u001b[49m\u001b[43mchunk\u001b[49m\u001b[43m \u001b[49m\u001b[38;5;129;43;01min\u001b[39;49;00m\u001b[43m \u001b[49m\u001b[43mresponse\u001b[49m\u001b[43m:\u001b[49m\n\u001b[1;32m    662\u001b[0m \u001b[43m        \u001b[49m\u001b[38;5;28;43;01mif\u001b[39;49;00m\u001b[43m \u001b[49m\u001b[38;5;129;43;01mnot\u001b[39;49;00m\u001b[43m \u001b[49m\u001b[38;5;28;43misinstance\u001b[39;49m\u001b[43m(\u001b[49m\u001b[43mchunk\u001b[49m\u001b[43m,\u001b[49m\u001b[43m \u001b[49m\u001b[38;5;28;43mdict\u001b[39;49m\u001b[43m)\u001b[49m\u001b[43m:\u001b[49m\n\u001b[1;32m    663\u001b[0m \u001b[43m            \u001b[49m\u001b[43mchunk\u001b[49m\u001b[43m \u001b[49m\u001b[38;5;241;43m=\u001b[39;49m\u001b[43m \u001b[49m\u001b[43mchunk\u001b[49m\u001b[38;5;241;43m.\u001b[39;49m\u001b[43mmodel_dump\u001b[49m\u001b[43m(\u001b[49m\u001b[43m)\u001b[49m\n",
      "File \u001b[0;32m~/Library/Caches/pypoetry/virtualenvs/blog-tutorials-M8bgSKgB-py3.12/lib/python3.12/site-packages/openai/_streaming.py:46\u001b[0m, in \u001b[0;36mStream.__iter__\u001b[0;34m(self)\u001b[0m\n\u001b[1;32m     45\u001b[0m \u001b[38;5;28;01mdef\u001b[39;00m \u001b[38;5;21m__iter__\u001b[39m(\u001b[38;5;28mself\u001b[39m) \u001b[38;5;241m-\u001b[39m\u001b[38;5;241m>\u001b[39m Iterator[_T]:\n\u001b[0;32m---> 46\u001b[0m \u001b[43m    \u001b[49m\u001b[38;5;28;43;01mfor\u001b[39;49;00m\u001b[43m \u001b[49m\u001b[43mitem\u001b[49m\u001b[43m \u001b[49m\u001b[38;5;129;43;01min\u001b[39;49;00m\u001b[43m \u001b[49m\u001b[38;5;28;43mself\u001b[39;49m\u001b[38;5;241;43m.\u001b[39;49m\u001b[43m_iterator\u001b[49m\u001b[43m:\u001b[49m\n\u001b[1;32m     47\u001b[0m \u001b[43m        \u001b[49m\u001b[38;5;28;43;01myield\u001b[39;49;00m\u001b[43m \u001b[49m\u001b[43mitem\u001b[49m\n",
      "File \u001b[0;32m~/Library/Caches/pypoetry/virtualenvs/blog-tutorials-M8bgSKgB-py3.12/lib/python3.12/site-packages/openai/_streaming.py:58\u001b[0m, in \u001b[0;36mStream.__stream__\u001b[0;34m(self)\u001b[0m\n\u001b[1;32m     55\u001b[0m process_data \u001b[38;5;241m=\u001b[39m \u001b[38;5;28mself\u001b[39m\u001b[38;5;241m.\u001b[39m_client\u001b[38;5;241m.\u001b[39m_process_response_data\n\u001b[1;32m     56\u001b[0m iterator \u001b[38;5;241m=\u001b[39m \u001b[38;5;28mself\u001b[39m\u001b[38;5;241m.\u001b[39m_iter_events()\n\u001b[0;32m---> 58\u001b[0m \u001b[43m\u001b[49m\u001b[38;5;28;43;01mfor\u001b[39;49;00m\u001b[43m \u001b[49m\u001b[43msse\u001b[49m\u001b[43m \u001b[49m\u001b[38;5;129;43;01min\u001b[39;49;00m\u001b[43m \u001b[49m\u001b[43miterator\u001b[49m\u001b[43m:\u001b[49m\n\u001b[1;32m     59\u001b[0m \u001b[43m    \u001b[49m\u001b[38;5;28;43;01mif\u001b[39;49;00m\u001b[43m \u001b[49m\u001b[43msse\u001b[49m\u001b[38;5;241;43m.\u001b[39;49m\u001b[43mdata\u001b[49m\u001b[38;5;241;43m.\u001b[39;49m\u001b[43mstartswith\u001b[49m\u001b[43m(\u001b[49m\u001b[38;5;124;43m\"\u001b[39;49m\u001b[38;5;124;43m[DONE]\u001b[39;49m\u001b[38;5;124;43m\"\u001b[39;49m\u001b[43m)\u001b[49m\u001b[43m:\u001b[49m\n\u001b[1;32m     60\u001b[0m \u001b[43m        \u001b[49m\u001b[38;5;28;43;01mbreak\u001b[39;49;00m\n",
      "File \u001b[0;32m~/Library/Caches/pypoetry/virtualenvs/blog-tutorials-M8bgSKgB-py3.12/lib/python3.12/site-packages/openai/_streaming.py:50\u001b[0m, in \u001b[0;36mStream._iter_events\u001b[0;34m(self)\u001b[0m\n\u001b[1;32m     49\u001b[0m \u001b[38;5;28;01mdef\u001b[39;00m \u001b[38;5;21m_iter_events\u001b[39m(\u001b[38;5;28mself\u001b[39m) \u001b[38;5;241m-\u001b[39m\u001b[38;5;241m>\u001b[39m Iterator[ServerSentEvent]:\n\u001b[0;32m---> 50\u001b[0m     \u001b[38;5;28;01myield from\u001b[39;00m \u001b[38;5;28mself\u001b[39m\u001b[38;5;241m.\u001b[39m_decoder\u001b[38;5;241m.\u001b[39miter_bytes(\u001b[38;5;28mself\u001b[39m\u001b[38;5;241m.\u001b[39mresponse\u001b[38;5;241m.\u001b[39miter_bytes())\n",
      "File \u001b[0;32m~/Library/Caches/pypoetry/virtualenvs/blog-tutorials-M8bgSKgB-py3.12/lib/python3.12/site-packages/openai/_streaming.py:280\u001b[0m, in \u001b[0;36mSSEDecoder.iter_bytes\u001b[0;34m(self, iterator)\u001b[0m\n\u001b[1;32m    278\u001b[0m \u001b[38;5;28;01mdef\u001b[39;00m \u001b[38;5;21miter_bytes\u001b[39m(\u001b[38;5;28mself\u001b[39m, iterator: Iterator[\u001b[38;5;28mbytes\u001b[39m]) \u001b[38;5;241m-\u001b[39m\u001b[38;5;241m>\u001b[39m Iterator[ServerSentEvent]:\n\u001b[1;32m    279\u001b[0m \u001b[38;5;250m    \u001b[39m\u001b[38;5;124;03m\"\"\"Given an iterator that yields raw binary data, iterate over it & yield every event encountered\"\"\"\u001b[39;00m\n\u001b[0;32m--> 280\u001b[0m \u001b[43m    \u001b[49m\u001b[38;5;28;43;01mfor\u001b[39;49;00m\u001b[43m \u001b[49m\u001b[43mchunk\u001b[49m\u001b[43m \u001b[49m\u001b[38;5;129;43;01min\u001b[39;49;00m\u001b[43m \u001b[49m\u001b[38;5;28;43mself\u001b[39;49m\u001b[38;5;241;43m.\u001b[39;49m\u001b[43m_iter_chunks\u001b[49m\u001b[43m(\u001b[49m\u001b[43miterator\u001b[49m\u001b[43m)\u001b[49m\u001b[43m:\u001b[49m\n\u001b[1;32m    281\u001b[0m \u001b[43m        \u001b[49m\u001b[38;5;66;43;03m# Split before decoding so splitlines() only uses \\r and \\n\u001b[39;49;00m\n\u001b[1;32m    282\u001b[0m \u001b[43m        \u001b[49m\u001b[38;5;28;43;01mfor\u001b[39;49;00m\u001b[43m \u001b[49m\u001b[43mraw_line\u001b[49m\u001b[43m \u001b[49m\u001b[38;5;129;43;01min\u001b[39;49;00m\u001b[43m \u001b[49m\u001b[43mchunk\u001b[49m\u001b[38;5;241;43m.\u001b[39;49m\u001b[43msplitlines\u001b[49m\u001b[43m(\u001b[49m\u001b[43m)\u001b[49m\u001b[43m:\u001b[49m\n\u001b[1;32m    283\u001b[0m \u001b[43m            \u001b[49m\u001b[43mline\u001b[49m\u001b[43m \u001b[49m\u001b[38;5;241;43m=\u001b[39;49m\u001b[43m \u001b[49m\u001b[43mraw_line\u001b[49m\u001b[38;5;241;43m.\u001b[39;49m\u001b[43mdecode\u001b[49m\u001b[43m(\u001b[49m\u001b[38;5;124;43m\"\u001b[39;49m\u001b[38;5;124;43mutf-8\u001b[39;49m\u001b[38;5;124;43m\"\u001b[39;49m\u001b[43m)\u001b[49m\n",
      "File \u001b[0;32m~/Library/Caches/pypoetry/virtualenvs/blog-tutorials-M8bgSKgB-py3.12/lib/python3.12/site-packages/openai/_streaming.py:291\u001b[0m, in \u001b[0;36mSSEDecoder._iter_chunks\u001b[0;34m(self, iterator)\u001b[0m\n\u001b[1;32m    289\u001b[0m \u001b[38;5;250m\u001b[39m\u001b[38;5;124;03m\"\"\"Given an iterator that yields raw binary data, iterate over it and yield individual SSE chunks\"\"\"\u001b[39;00m\n\u001b[1;32m    290\u001b[0m data \u001b[38;5;241m=\u001b[39m \u001b[38;5;124mb\u001b[39m\u001b[38;5;124m\"\u001b[39m\u001b[38;5;124m\"\u001b[39m\n\u001b[0;32m--> 291\u001b[0m \u001b[43m\u001b[49m\u001b[38;5;28;43;01mfor\u001b[39;49;00m\u001b[43m \u001b[49m\u001b[43mchunk\u001b[49m\u001b[43m \u001b[49m\u001b[38;5;129;43;01min\u001b[39;49;00m\u001b[43m \u001b[49m\u001b[43miterator\u001b[49m\u001b[43m:\u001b[49m\n\u001b[1;32m    292\u001b[0m \u001b[43m    \u001b[49m\u001b[38;5;28;43;01mfor\u001b[39;49;00m\u001b[43m \u001b[49m\u001b[43mline\u001b[49m\u001b[43m \u001b[49m\u001b[38;5;129;43;01min\u001b[39;49;00m\u001b[43m \u001b[49m\u001b[43mchunk\u001b[49m\u001b[38;5;241;43m.\u001b[39;49m\u001b[43msplitlines\u001b[49m\u001b[43m(\u001b[49m\u001b[43mkeepends\u001b[49m\u001b[38;5;241;43m=\u001b[39;49m\u001b[38;5;28;43;01mTrue\u001b[39;49;00m\u001b[43m)\u001b[49m\u001b[43m:\u001b[49m\n\u001b[1;32m    293\u001b[0m \u001b[43m        \u001b[49m\u001b[43mdata\u001b[49m\u001b[43m \u001b[49m\u001b[38;5;241;43m+\u001b[39;49m\u001b[38;5;241;43m=\u001b[39;49m\u001b[43m \u001b[49m\u001b[43mline\u001b[49m\n",
      "File \u001b[0;32m~/Library/Caches/pypoetry/virtualenvs/blog-tutorials-M8bgSKgB-py3.12/lib/python3.12/site-packages/httpx/_models.py:831\u001b[0m, in \u001b[0;36mResponse.iter_bytes\u001b[0;34m(self, chunk_size)\u001b[0m\n\u001b[1;32m    829\u001b[0m chunker \u001b[38;5;241m=\u001b[39m ByteChunker(chunk_size\u001b[38;5;241m=\u001b[39mchunk_size)\n\u001b[1;32m    830\u001b[0m \u001b[38;5;28;01mwith\u001b[39;00m request_context(request\u001b[38;5;241m=\u001b[39m\u001b[38;5;28mself\u001b[39m\u001b[38;5;241m.\u001b[39m_request):\n\u001b[0;32m--> 831\u001b[0m \u001b[43m    \u001b[49m\u001b[38;5;28;43;01mfor\u001b[39;49;00m\u001b[43m \u001b[49m\u001b[43mraw_bytes\u001b[49m\u001b[43m \u001b[49m\u001b[38;5;129;43;01min\u001b[39;49;00m\u001b[43m \u001b[49m\u001b[38;5;28;43mself\u001b[39;49m\u001b[38;5;241;43m.\u001b[39;49m\u001b[43miter_raw\u001b[49m\u001b[43m(\u001b[49m\u001b[43m)\u001b[49m\u001b[43m:\u001b[49m\n\u001b[1;32m    832\u001b[0m \u001b[43m        \u001b[49m\u001b[43mdecoded\u001b[49m\u001b[43m \u001b[49m\u001b[38;5;241;43m=\u001b[39;49m\u001b[43m \u001b[49m\u001b[43mdecoder\u001b[49m\u001b[38;5;241;43m.\u001b[39;49m\u001b[43mdecode\u001b[49m\u001b[43m(\u001b[49m\u001b[43mraw_bytes\u001b[49m\u001b[43m)\u001b[49m\n\u001b[1;32m    833\u001b[0m \u001b[43m        \u001b[49m\u001b[38;5;28;43;01mfor\u001b[39;49;00m\u001b[43m \u001b[49m\u001b[43mchunk\u001b[49m\u001b[43m \u001b[49m\u001b[38;5;129;43;01min\u001b[39;49;00m\u001b[43m \u001b[49m\u001b[43mchunker\u001b[49m\u001b[38;5;241;43m.\u001b[39;49m\u001b[43mdecode\u001b[49m\u001b[43m(\u001b[49m\u001b[43mdecoded\u001b[49m\u001b[43m)\u001b[49m\u001b[43m:\u001b[49m\n",
      "File \u001b[0;32m~/Library/Caches/pypoetry/virtualenvs/blog-tutorials-M8bgSKgB-py3.12/lib/python3.12/site-packages/httpx/_models.py:885\u001b[0m, in \u001b[0;36mResponse.iter_raw\u001b[0;34m(self, chunk_size)\u001b[0m\n\u001b[1;32m    882\u001b[0m chunker \u001b[38;5;241m=\u001b[39m ByteChunker(chunk_size\u001b[38;5;241m=\u001b[39mchunk_size)\n\u001b[1;32m    884\u001b[0m \u001b[38;5;28;01mwith\u001b[39;00m request_context(request\u001b[38;5;241m=\u001b[39m\u001b[38;5;28mself\u001b[39m\u001b[38;5;241m.\u001b[39m_request):\n\u001b[0;32m--> 885\u001b[0m \u001b[43m    \u001b[49m\u001b[38;5;28;43;01mfor\u001b[39;49;00m\u001b[43m \u001b[49m\u001b[43mraw_stream_bytes\u001b[49m\u001b[43m \u001b[49m\u001b[38;5;129;43;01min\u001b[39;49;00m\u001b[43m \u001b[49m\u001b[38;5;28;43mself\u001b[39;49m\u001b[38;5;241;43m.\u001b[39;49m\u001b[43mstream\u001b[49m\u001b[43m:\u001b[49m\n\u001b[1;32m    886\u001b[0m \u001b[43m        \u001b[49m\u001b[38;5;28;43mself\u001b[39;49m\u001b[38;5;241;43m.\u001b[39;49m\u001b[43m_num_bytes_downloaded\u001b[49m\u001b[43m \u001b[49m\u001b[38;5;241;43m+\u001b[39;49m\u001b[38;5;241;43m=\u001b[39;49m\u001b[43m \u001b[49m\u001b[38;5;28;43mlen\u001b[39;49m\u001b[43m(\u001b[49m\u001b[43mraw_stream_bytes\u001b[49m\u001b[43m)\u001b[49m\n\u001b[1;32m    887\u001b[0m \u001b[43m        \u001b[49m\u001b[38;5;28;43;01mfor\u001b[39;49;00m\u001b[43m \u001b[49m\u001b[43mchunk\u001b[49m\u001b[43m \u001b[49m\u001b[38;5;129;43;01min\u001b[39;49;00m\u001b[43m \u001b[49m\u001b[43mchunker\u001b[49m\u001b[38;5;241;43m.\u001b[39;49m\u001b[43mdecode\u001b[49m\u001b[43m(\u001b[49m\u001b[43mraw_stream_bytes\u001b[49m\u001b[43m)\u001b[49m\u001b[43m:\u001b[49m\n",
      "File \u001b[0;32m~/Library/Caches/pypoetry/virtualenvs/blog-tutorials-M8bgSKgB-py3.12/lib/python3.12/site-packages/httpx/_client.py:127\u001b[0m, in \u001b[0;36mBoundSyncStream.__iter__\u001b[0;34m(self)\u001b[0m\n\u001b[1;32m    126\u001b[0m \u001b[38;5;28;01mdef\u001b[39;00m \u001b[38;5;21m__iter__\u001b[39m(\u001b[38;5;28mself\u001b[39m) \u001b[38;5;241m-\u001b[39m\u001b[38;5;241m>\u001b[39m typing\u001b[38;5;241m.\u001b[39mIterator[\u001b[38;5;28mbytes\u001b[39m]:\n\u001b[0;32m--> 127\u001b[0m \u001b[43m    \u001b[49m\u001b[38;5;28;43;01mfor\u001b[39;49;00m\u001b[43m \u001b[49m\u001b[43mchunk\u001b[49m\u001b[43m \u001b[49m\u001b[38;5;129;43;01min\u001b[39;49;00m\u001b[43m \u001b[49m\u001b[38;5;28;43mself\u001b[39;49m\u001b[38;5;241;43m.\u001b[39;49m\u001b[43m_stream\u001b[49m\u001b[43m:\u001b[49m\n\u001b[1;32m    128\u001b[0m \u001b[43m        \u001b[49m\u001b[38;5;28;43;01myield\u001b[39;49;00m\u001b[43m \u001b[49m\u001b[43mchunk\u001b[49m\n",
      "File \u001b[0;32m~/Library/Caches/pypoetry/virtualenvs/blog-tutorials-M8bgSKgB-py3.12/lib/python3.12/site-packages/httpx/_transports/default.py:116\u001b[0m, in \u001b[0;36mResponseStream.__iter__\u001b[0;34m(self)\u001b[0m\n\u001b[1;32m    114\u001b[0m \u001b[38;5;28;01mdef\u001b[39;00m \u001b[38;5;21m__iter__\u001b[39m(\u001b[38;5;28mself\u001b[39m) \u001b[38;5;241m-\u001b[39m\u001b[38;5;241m>\u001b[39m typing\u001b[38;5;241m.\u001b[39mIterator[\u001b[38;5;28mbytes\u001b[39m]:\n\u001b[1;32m    115\u001b[0m     \u001b[38;5;28;01mwith\u001b[39;00m map_httpcore_exceptions():\n\u001b[0;32m--> 116\u001b[0m \u001b[43m        \u001b[49m\u001b[38;5;28;43;01mfor\u001b[39;49;00m\u001b[43m \u001b[49m\u001b[43mpart\u001b[49m\u001b[43m \u001b[49m\u001b[38;5;129;43;01min\u001b[39;49;00m\u001b[43m \u001b[49m\u001b[38;5;28;43mself\u001b[39;49m\u001b[38;5;241;43m.\u001b[39;49m\u001b[43m_httpcore_stream\u001b[49m\u001b[43m:\u001b[49m\n\u001b[1;32m    117\u001b[0m \u001b[43m            \u001b[49m\u001b[38;5;28;43;01myield\u001b[39;49;00m\u001b[43m \u001b[49m\u001b[43mpart\u001b[49m\n",
      "File \u001b[0;32m~/Library/Caches/pypoetry/virtualenvs/blog-tutorials-M8bgSKgB-py3.12/lib/python3.12/site-packages/httpcore/_sync/connection_pool.py:367\u001b[0m, in \u001b[0;36mPoolByteStream.__iter__\u001b[0;34m(self)\u001b[0m\n\u001b[1;32m    365\u001b[0m \u001b[38;5;28;01mexcept\u001b[39;00m \u001b[38;5;167;01mBaseException\u001b[39;00m \u001b[38;5;28;01mas\u001b[39;00m exc:\n\u001b[1;32m    366\u001b[0m     \u001b[38;5;28mself\u001b[39m\u001b[38;5;241m.\u001b[39mclose()\n\u001b[0;32m--> 367\u001b[0m     \u001b[38;5;28;01mraise\u001b[39;00m exc \u001b[38;5;28;01mfrom\u001b[39;00m \u001b[38;5;28;01mNone\u001b[39;00m\n",
      "File \u001b[0;32m~/Library/Caches/pypoetry/virtualenvs/blog-tutorials-M8bgSKgB-py3.12/lib/python3.12/site-packages/httpcore/_sync/connection_pool.py:363\u001b[0m, in \u001b[0;36mPoolByteStream.__iter__\u001b[0;34m(self)\u001b[0m\n\u001b[1;32m    361\u001b[0m \u001b[38;5;28;01mdef\u001b[39;00m \u001b[38;5;21m__iter__\u001b[39m(\u001b[38;5;28mself\u001b[39m) \u001b[38;5;241m-\u001b[39m\u001b[38;5;241m>\u001b[39m Iterator[\u001b[38;5;28mbytes\u001b[39m]:\n\u001b[1;32m    362\u001b[0m     \u001b[38;5;28;01mtry\u001b[39;00m:\n\u001b[0;32m--> 363\u001b[0m \u001b[43m        \u001b[49m\u001b[38;5;28;43;01mfor\u001b[39;49;00m\u001b[43m \u001b[49m\u001b[43mpart\u001b[49m\u001b[43m \u001b[49m\u001b[38;5;129;43;01min\u001b[39;49;00m\u001b[43m \u001b[49m\u001b[38;5;28;43mself\u001b[39;49m\u001b[38;5;241;43m.\u001b[39;49m\u001b[43m_stream\u001b[49m\u001b[43m:\u001b[49m\n\u001b[1;32m    364\u001b[0m \u001b[43m            \u001b[49m\u001b[38;5;28;43;01myield\u001b[39;49;00m\u001b[43m \u001b[49m\u001b[43mpart\u001b[49m\n\u001b[1;32m    365\u001b[0m     \u001b[38;5;28;01mexcept\u001b[39;00m \u001b[38;5;167;01mBaseException\u001b[39;00m \u001b[38;5;28;01mas\u001b[39;00m exc:\n",
      "File \u001b[0;32m~/Library/Caches/pypoetry/virtualenvs/blog-tutorials-M8bgSKgB-py3.12/lib/python3.12/site-packages/httpcore/_sync/http11.py:349\u001b[0m, in \u001b[0;36mHTTP11ConnectionByteStream.__iter__\u001b[0;34m(self)\u001b[0m\n\u001b[1;32m    347\u001b[0m \u001b[38;5;28;01mwith\u001b[39;00m ShieldCancellation():\n\u001b[1;32m    348\u001b[0m     \u001b[38;5;28mself\u001b[39m\u001b[38;5;241m.\u001b[39mclose()\n\u001b[0;32m--> 349\u001b[0m \u001b[38;5;28;01mraise\u001b[39;00m exc\n",
      "File \u001b[0;32m~/Library/Caches/pypoetry/virtualenvs/blog-tutorials-M8bgSKgB-py3.12/lib/python3.12/site-packages/httpcore/_sync/http11.py:341\u001b[0m, in \u001b[0;36mHTTP11ConnectionByteStream.__iter__\u001b[0;34m(self)\u001b[0m\n\u001b[1;32m    339\u001b[0m \u001b[38;5;28;01mtry\u001b[39;00m:\n\u001b[1;32m    340\u001b[0m     \u001b[38;5;28;01mwith\u001b[39;00m Trace(\u001b[38;5;124m\"\u001b[39m\u001b[38;5;124mreceive_response_body\u001b[39m\u001b[38;5;124m\"\u001b[39m, logger, \u001b[38;5;28mself\u001b[39m\u001b[38;5;241m.\u001b[39m_request, kwargs):\n\u001b[0;32m--> 341\u001b[0m \u001b[43m        \u001b[49m\u001b[38;5;28;43;01mfor\u001b[39;49;00m\u001b[43m \u001b[49m\u001b[43mchunk\u001b[49m\u001b[43m \u001b[49m\u001b[38;5;129;43;01min\u001b[39;49;00m\u001b[43m \u001b[49m\u001b[38;5;28;43mself\u001b[39;49m\u001b[38;5;241;43m.\u001b[39;49m\u001b[43m_connection\u001b[49m\u001b[38;5;241;43m.\u001b[39;49m\u001b[43m_receive_response_body\u001b[49m\u001b[43m(\u001b[49m\u001b[38;5;241;43m*\u001b[39;49m\u001b[38;5;241;43m*\u001b[39;49m\u001b[43mkwargs\u001b[49m\u001b[43m)\u001b[49m\u001b[43m:\u001b[49m\n\u001b[1;32m    342\u001b[0m \u001b[43m            \u001b[49m\u001b[38;5;28;43;01myield\u001b[39;49;00m\u001b[43m \u001b[49m\u001b[43mchunk\u001b[49m\n\u001b[1;32m    343\u001b[0m \u001b[38;5;28;01mexcept\u001b[39;00m \u001b[38;5;167;01mBaseException\u001b[39;00m \u001b[38;5;28;01mas\u001b[39;00m exc:\n\u001b[1;32m    344\u001b[0m     \u001b[38;5;66;03m# If we get an exception while streaming the response,\u001b[39;00m\n\u001b[1;32m    345\u001b[0m     \u001b[38;5;66;03m# we want to close the response (and possibly the connection)\u001b[39;00m\n\u001b[1;32m    346\u001b[0m     \u001b[38;5;66;03m# before raising that exception.\u001b[39;00m\n",
      "File \u001b[0;32m~/Library/Caches/pypoetry/virtualenvs/blog-tutorials-M8bgSKgB-py3.12/lib/python3.12/site-packages/httpcore/_sync/http11.py:210\u001b[0m, in \u001b[0;36mHTTP11Connection._receive_response_body\u001b[0;34m(self, request)\u001b[0m\n\u001b[1;32m    207\u001b[0m timeout \u001b[38;5;241m=\u001b[39m timeouts\u001b[38;5;241m.\u001b[39mget(\u001b[38;5;124m\"\u001b[39m\u001b[38;5;124mread\u001b[39m\u001b[38;5;124m\"\u001b[39m, \u001b[38;5;28;01mNone\u001b[39;00m)\n\u001b[1;32m    209\u001b[0m \u001b[38;5;28;01mwhile\u001b[39;00m \u001b[38;5;28;01mTrue\u001b[39;00m:\n\u001b[0;32m--> 210\u001b[0m     event \u001b[38;5;241m=\u001b[39m \u001b[38;5;28;43mself\u001b[39;49m\u001b[38;5;241;43m.\u001b[39;49m\u001b[43m_receive_event\u001b[49m\u001b[43m(\u001b[49m\u001b[43mtimeout\u001b[49m\u001b[38;5;241;43m=\u001b[39;49m\u001b[43mtimeout\u001b[49m\u001b[43m)\u001b[49m\n\u001b[1;32m    211\u001b[0m     \u001b[38;5;28;01mif\u001b[39;00m \u001b[38;5;28misinstance\u001b[39m(event, h11\u001b[38;5;241m.\u001b[39mData):\n\u001b[1;32m    212\u001b[0m         \u001b[38;5;28;01myield\u001b[39;00m \u001b[38;5;28mbytes\u001b[39m(event\u001b[38;5;241m.\u001b[39mdata)\n",
      "File \u001b[0;32m~/Library/Caches/pypoetry/virtualenvs/blog-tutorials-M8bgSKgB-py3.12/lib/python3.12/site-packages/httpcore/_sync/http11.py:224\u001b[0m, in \u001b[0;36mHTTP11Connection._receive_event\u001b[0;34m(self, timeout)\u001b[0m\n\u001b[1;32m    221\u001b[0m     event \u001b[38;5;241m=\u001b[39m \u001b[38;5;28mself\u001b[39m\u001b[38;5;241m.\u001b[39m_h11_state\u001b[38;5;241m.\u001b[39mnext_event()\n\u001b[1;32m    223\u001b[0m \u001b[38;5;28;01mif\u001b[39;00m event \u001b[38;5;129;01mis\u001b[39;00m h11\u001b[38;5;241m.\u001b[39mNEED_DATA:\n\u001b[0;32m--> 224\u001b[0m     data \u001b[38;5;241m=\u001b[39m \u001b[38;5;28;43mself\u001b[39;49m\u001b[38;5;241;43m.\u001b[39;49m\u001b[43m_network_stream\u001b[49m\u001b[38;5;241;43m.\u001b[39;49m\u001b[43mread\u001b[49m\u001b[43m(\u001b[49m\n\u001b[1;32m    225\u001b[0m \u001b[43m        \u001b[49m\u001b[38;5;28;43mself\u001b[39;49m\u001b[38;5;241;43m.\u001b[39;49m\u001b[43mREAD_NUM_BYTES\u001b[49m\u001b[43m,\u001b[49m\u001b[43m \u001b[49m\u001b[43mtimeout\u001b[49m\u001b[38;5;241;43m=\u001b[39;49m\u001b[43mtimeout\u001b[49m\n\u001b[1;32m    226\u001b[0m \u001b[43m    \u001b[49m\u001b[43m)\u001b[49m\n\u001b[1;32m    228\u001b[0m     \u001b[38;5;66;03m# If we feed this case through h11 we'll raise an exception like:\u001b[39;00m\n\u001b[1;32m    229\u001b[0m     \u001b[38;5;66;03m#\u001b[39;00m\n\u001b[1;32m    230\u001b[0m     \u001b[38;5;66;03m#     httpcore.RemoteProtocolError: can't handle event type\u001b[39;00m\n\u001b[0;32m   (...)\u001b[0m\n\u001b[1;32m    234\u001b[0m     \u001b[38;5;66;03m# perspective. Instead we handle this case distinctly and treat\u001b[39;00m\n\u001b[1;32m    235\u001b[0m     \u001b[38;5;66;03m# it as a ConnectError.\u001b[39;00m\n\u001b[1;32m    236\u001b[0m     \u001b[38;5;28;01mif\u001b[39;00m data \u001b[38;5;241m==\u001b[39m \u001b[38;5;124mb\u001b[39m\u001b[38;5;124m\"\u001b[39m\u001b[38;5;124m\"\u001b[39m \u001b[38;5;129;01mand\u001b[39;00m \u001b[38;5;28mself\u001b[39m\u001b[38;5;241m.\u001b[39m_h11_state\u001b[38;5;241m.\u001b[39mtheir_state \u001b[38;5;241m==\u001b[39m h11\u001b[38;5;241m.\u001b[39mSEND_RESPONSE:\n",
      "File \u001b[0;32m~/Library/Caches/pypoetry/virtualenvs/blog-tutorials-M8bgSKgB-py3.12/lib/python3.12/site-packages/httpcore/_backends/sync.py:126\u001b[0m, in \u001b[0;36mSyncStream.read\u001b[0;34m(self, max_bytes, timeout)\u001b[0m\n\u001b[1;32m    124\u001b[0m \u001b[38;5;28;01mwith\u001b[39;00m map_exceptions(exc_map):\n\u001b[1;32m    125\u001b[0m     \u001b[38;5;28mself\u001b[39m\u001b[38;5;241m.\u001b[39m_sock\u001b[38;5;241m.\u001b[39msettimeout(timeout)\n\u001b[0;32m--> 126\u001b[0m     \u001b[38;5;28;01mreturn\u001b[39;00m \u001b[38;5;28;43mself\u001b[39;49m\u001b[38;5;241;43m.\u001b[39;49m\u001b[43m_sock\u001b[49m\u001b[38;5;241;43m.\u001b[39;49m\u001b[43mrecv\u001b[49m\u001b[43m(\u001b[49m\u001b[43mmax_bytes\u001b[49m\u001b[43m)\u001b[49m\n",
      "File \u001b[0;32m~/miniconda3/lib/python3.12/ssl.py:1233\u001b[0m, in \u001b[0;36mSSLSocket.recv\u001b[0;34m(self, buflen, flags)\u001b[0m\n\u001b[1;32m   1229\u001b[0m     \u001b[38;5;28;01mif\u001b[39;00m flags \u001b[38;5;241m!=\u001b[39m \u001b[38;5;241m0\u001b[39m:\n\u001b[1;32m   1230\u001b[0m         \u001b[38;5;28;01mraise\u001b[39;00m \u001b[38;5;167;01mValueError\u001b[39;00m(\n\u001b[1;32m   1231\u001b[0m             \u001b[38;5;124m\"\u001b[39m\u001b[38;5;124mnon-zero flags not allowed in calls to recv() on \u001b[39m\u001b[38;5;132;01m%s\u001b[39;00m\u001b[38;5;124m\"\u001b[39m \u001b[38;5;241m%\u001b[39m\n\u001b[1;32m   1232\u001b[0m             \u001b[38;5;28mself\u001b[39m\u001b[38;5;241m.\u001b[39m\u001b[38;5;18m__class__\u001b[39m)\n\u001b[0;32m-> 1233\u001b[0m     \u001b[38;5;28;01mreturn\u001b[39;00m \u001b[38;5;28;43mself\u001b[39;49m\u001b[38;5;241;43m.\u001b[39;49m\u001b[43mread\u001b[49m\u001b[43m(\u001b[49m\u001b[43mbuflen\u001b[49m\u001b[43m)\u001b[49m\n\u001b[1;32m   1234\u001b[0m \u001b[38;5;28;01melse\u001b[39;00m:\n\u001b[1;32m   1235\u001b[0m     \u001b[38;5;28;01mreturn\u001b[39;00m \u001b[38;5;28msuper\u001b[39m()\u001b[38;5;241m.\u001b[39mrecv(buflen, flags)\n",
      "File \u001b[0;32m~/miniconda3/lib/python3.12/ssl.py:1106\u001b[0m, in \u001b[0;36mSSLSocket.read\u001b[0;34m(self, len, buffer)\u001b[0m\n\u001b[1;32m   1104\u001b[0m         \u001b[38;5;28;01mreturn\u001b[39;00m \u001b[38;5;28mself\u001b[39m\u001b[38;5;241m.\u001b[39m_sslobj\u001b[38;5;241m.\u001b[39mread(\u001b[38;5;28mlen\u001b[39m, buffer)\n\u001b[1;32m   1105\u001b[0m     \u001b[38;5;28;01melse\u001b[39;00m:\n\u001b[0;32m-> 1106\u001b[0m         \u001b[38;5;28;01mreturn\u001b[39;00m \u001b[38;5;28;43mself\u001b[39;49m\u001b[38;5;241;43m.\u001b[39;49m\u001b[43m_sslobj\u001b[49m\u001b[38;5;241;43m.\u001b[39;49m\u001b[43mread\u001b[49m\u001b[43m(\u001b[49m\u001b[38;5;28;43mlen\u001b[39;49m\u001b[43m)\u001b[49m\n\u001b[1;32m   1107\u001b[0m \u001b[38;5;28;01mexcept\u001b[39;00m SSLError \u001b[38;5;28;01mas\u001b[39;00m x:\n\u001b[1;32m   1108\u001b[0m     \u001b[38;5;28;01mif\u001b[39;00m x\u001b[38;5;241m.\u001b[39margs[\u001b[38;5;241m0\u001b[39m] \u001b[38;5;241m==\u001b[39m SSL_ERROR_EOF \u001b[38;5;129;01mand\u001b[39;00m \u001b[38;5;28mself\u001b[39m\u001b[38;5;241m.\u001b[39msuppress_ragged_eofs:\n",
      "\u001b[0;31mKeyboardInterrupt\u001b[0m: "
     ]
    }
   ],
   "source": [
    "# Streaming \n",
    "for s in llm.stream(\"tell me a story\"):\n",
    "    print(s)\n"
   ]
  },
  {
   "cell_type": "code",
   "execution_count": null,
   "id": "2fd7f3a6",
   "metadata": {},
   "outputs": [],
   "source": []
  },
  {
   "cell_type": "code",
   "execution_count": null,
   "id": "78cb6265",
   "metadata": {},
   "outputs": [],
   "source": []
  }
 ],
 "metadata": {
  "kernelspec": {
   "display_name": "blog-tutorials-M8bgSKgB-py3.12",
   "language": "python",
   "name": "python3"
  },
  "language_info": {
   "codemirror_mode": {
    "name": "ipython",
    "version": 3
   },
   "file_extension": ".py",
   "mimetype": "text/x-python",
   "name": "python",
   "nbconvert_exporter": "python",
   "pygments_lexer": "ipython3",
   "version": "3.12.4"
  }
 },
 "nbformat": 4,
 "nbformat_minor": 5
}
