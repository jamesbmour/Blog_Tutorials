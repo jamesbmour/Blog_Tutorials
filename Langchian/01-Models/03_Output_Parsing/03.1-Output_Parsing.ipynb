{
 "cells": [
  {
   "cell_type": "markdown",
   "id": "7e8de950",
   "metadata": {},
   "source": [
    "# LangChain Part 3: Output Parsing\n",
    "- Important when using agents with tools e.g. calculator , search engine \n",
    "- Many systems expect data in specific way"
   ]
  },
  {
   "cell_type": "code",
   "execution_count": 65,
   "id": "6509fe9d",
   "metadata": {},
   "outputs": [
    {
     "name": "stdout",
     "output_type": "stream",
     "text": [
      "I'm just a language model, so I don't have emotions or feelings like humans do, but I'm functioning properly and ready to help you with any questions or tasks you have. How can I assist you today?\n"
     ]
    }
   ],
   "source": [
    "from langchain_openai import ChatOpenAI\n",
    "from langchain_ollama.chat_models import ChatOllama\n",
    "from os import getenv\n",
    "from dotenv import load_dotenv\n",
    "from pprint import pprint\n",
    "\n",
    "load_dotenv()\n",
    "\n",
    "llm = ChatOpenAI(\n",
    "    openai_api_key=getenv(\"OPENROUTER_API_KEY\"),\n",
    "    openai_api_base=\"https://openrouter.ai/api/v1\",\n",
    "    model=\"meta-llama/llama-3.2-3b-instruct:free\",\n",
    "    # temperature=0.2,\n",
    ")\n",
    "# llm = ChatOllama(model='llama3.2', temperature=0.2, max_tokens=512)\n",
    "\n",
    "result = llm.invoke(\"Hello, how are you today?\")\n",
    "print(result.content)"
   ]
  },
  {
   "cell_type": "markdown",
   "id": "b032192b",
   "metadata": {},
   "source": [
    "# CSV Parser \n",
    "- Used when want to return a list of comma-separated Items"
   ]
  },
  {
   "cell_type": "code",
   "execution_count": 49,
   "id": "38186839",
   "metadata": {},
   "outputs": [
    {
     "name": "stdout",
     "output_type": "stream",
     "text": [
      "Format Instructions:\n",
      " Your response should be a list of comma separated values, eg: `foo, bar, baz` or `foo,bar,baz` \n",
      "\n",
      "{'_type': 'prompt',\n",
      " 'input_variables': ['subject'],\n",
      " 'metadata': None,\n",
      " 'name': None,\n",
      " 'optional_variables': [],\n",
      " 'output_parser': None,\n",
      " 'partial_variables': {'format_instructions': 'Your response should be a list '\n",
      "                                              'of comma separated values, eg: '\n",
      "                                              '`foo, bar, baz` or '\n",
      "                                              '`foo,bar,baz`'},\n",
      " 'tags': None,\n",
      " 'template': 'List five {subject}. \\n{format_instructions}',\n",
      " 'template_format': 'f-string',\n",
      " 'validate_template': False}\n",
      "\n",
      "Result:\n",
      " ['Labrador', 'German Shepherd', 'Poodle', 'Beagle', 'Rottweiler']\n"
     ]
    }
   ],
   "source": [
    "from functools import partial\n",
    "from pprint import pp\n",
    "from tempfile import template\n",
    "from langchain.output_parsers import CommaSeparatedListOutputParser\n",
    "from langchain_core.prompts import PromptTemplate\n",
    "\n",
    "\n",
    "output_parser = CommaSeparatedListOutputParser()\n",
    "\n",
    "format_instructions = output_parser.get_format_instructions()\n",
    "print(\"Format Instructions:\\n\",format_instructions, \"\\n\")\n",
    "\n",
    "prompt = PromptTemplate(\n",
    "    template=\"List five {subject}. \\n{format_instructions}\",\n",
    "    input_variables=[\"subject\"],\n",
    "    partial_variables={\"format_instructions\": format_instructions},\n",
    ")\n",
    "\n",
    "pprint(prompt.dict())\n",
    "\n",
    "# Create a model that uses the prompt\n",
    "chain = prompt | llm | output_parser\n",
    "\n",
    "# Invoke the model\n",
    "result = chain.invoke({\"subject\": \"dog breeds\"})\n",
    "\n",
    "print('\\nResult:\\n',result)\n",
    "\n",
    "\n"
   ]
  },
  {
   "cell_type": "markdown",
   "id": "2563639f",
   "metadata": {},
   "source": [
    "# Datetime Parser\n",
    "- Used when want to return a date in a specific format\n",
    "- Useful for applications that require a specific date format like a calendar"
   ]
  },
  {
   "cell_type": "code",
   "execution_count": 50,
   "id": "3ee53d6c",
   "metadata": {},
   "outputs": [
    {
     "name": "stdout",
     "output_type": "stream",
     "text": [
      "\n",
      "Datetime Result:\n",
      " [\"I'm a large language model\", \"I don't have real-time access to the current date and time. However\", 'I can suggest ways for you to find the current UTC time.\\n\\nYou can use an online world clock or a time zone converter website to get the current UTC time. Some popular options include:\\n\\n- WorldTimeBuddy\\n- TimeAndDate\\n- UTC Time\\n\\nPlease note that these websites may not be available in all regions due to internet restrictions.']\n"
     ]
    }
   ],
   "source": [
    "from langchain.output_parsers import DatetimeOutputParser\n",
    "from langchain_core.prompts import PromptTemplate\n",
    "\n",
    "# Create a new prompt template for datetime parsing\n",
    "datetime_prompt = PromptTemplate(\n",
    "    template=\"What is the current date and time in UTC?\\n{format_instructions}\",\n",
    "    input_variables=[\"format_instructions\"],\n",
    "    partial_variables={\"format_instructions\": output_parser.get_format_instructions()},\n",
    ")\n",
    "\n",
    "# Create a chain with the new prompt and the existing llm and output_parser\n",
    "datetime_chain = datetime_prompt | llm | output_parser\n",
    "\n",
    "# Invoke the chain\n",
    "datetime_result = datetime_chain.invoke({})\n",
    "\n",
    "print('\\nDatetime Result:\\n', datetime_result)\n"
   ]
  },
  {
   "cell_type": "markdown",
   "id": "195acf92",
   "metadata": {},
   "source": [
    "# Enum Parser\n",
    "- Used when want to return a list of items in a specific format\n",
    "- e.g. list of colors, list of countries\n",
    "- Useful for applications that require a specific list of items like a dropdown menu."
   ]
  },
  {
   "cell_type": "code",
   "execution_count": 68,
   "id": "499184a4",
   "metadata": {},
   "outputs": [
    {
     "name": "stdout",
     "output_type": "stream",
     "text": [
      "EyeColor.BLUE\n"
     ]
    }
   ],
   "source": [
    "import re\n",
    "from langchain.output_parsers.enum import EnumOutputParser\n",
    "from langchain_core.prompts import PromptTemplate\n",
    "from enum import Enum\n",
    "from langchain_core.prompts import PromptTemplate\n",
    "\n",
    "class EyeColor(Enum):\n",
    "    RED = \"Red\"\n",
    "    GREEN = \"Green\"\n",
    "    BLUE = \"Blue\"\n",
    "    BROWN = \"Brown\"\n",
    "    HAZEL = \"Hazel\"\n",
    "    AMBER = \"Amber\"\n",
    "\n",
    "\n",
    "parser = EnumOutputParser(enum=EyeColor)\n",
    "\n",
    "\n",
    "\n",
    "\n",
    "prompt = PromptTemplate.from_template(\n",
    "    \"\"\"What color eyes does this person have?\n",
    "\n",
    "> Person: {person}\n",
    "\n",
    "Instructions: {instructions}\"\"\"\n",
    ").partial(instructions=parser.get_format_instructions())\n",
    "chain = prompt | llm | parser\n",
    "\n",
    "result = chain.invoke({\"person\": \"This person has blue eyes.\"})\n",
    "\n",
    "print(result)"
   ]
  },
  {
   "cell_type": "markdown",
   "id": "4960a20d",
   "metadata": {},
   "source": [
    "# Json Parser\n",
    "- Returns data in JSON format \n",
    "- e.g. \"{\"name\": \"John\", \"age\": 30, \"city\": \"New York\"}\"\n",
    "- Useful for applications that require data in JSON format like APIs, web services"
   ]
  },
  {
   "cell_type": "code",
   "execution_count": null,
   "id": "315acb04",
   "metadata": {},
   "outputs": [
    {
     "name": "stdout",
     "output_type": "stream",
     "text": [
      "Format Instructions:\n",
      " Return a JSON object. \n",
      "\n",
      "{'_type': 'prompt',\n",
      " 'input_variables': [],\n",
      " 'metadata': None,\n",
      " 'name': None,\n",
      " 'optional_variables': [],\n",
      " 'output_parser': None,\n",
      " 'partial_variables': {'format_instructions': 'Return a JSON object.'},\n",
      " 'tags': None,\n",
      " 'template': 'Provide the details of a person in JSON format.\\n'\n",
      "             '{format_instructions}',\n",
      " 'template_format': 'f-string',\n",
      " 'validate_template': False}\n",
      "\n",
      "Return:\n",
      " {'name': 'John Doe', 'age': 30, ' occupation': 'Software Engineer', 'address': {'street': '123 Main St', 'city': 'New York', 'state': 'NY', 'zip': '10001'}, 'interests': ['reading', 'hiking', 'coding'], 'phoneNumbers': [{'type': 'mobile', 'number': '123-456-7890'}, {'type': 'landline', 'number': '555-123-4567'}]} \n",
      "\n",
      "content='' additional_kwargs={} response_metadata={} id='run-1b581de9-feed-4b1b-8b53-638f726b2447'\n",
      "content='Once upon a time, in a small village nestled in the rolling hills of Tuscany, ' additional_kwargs={} response_metadata={} id='run-1b581de9-feed-4b1b-8b53-638f726b2447'\n",
      "content='there was a tiny shop called \"La Bella Vita\" (The Beautiful Life). The shop was run ' additional_kwargs={} response_metadata={} id='run-1b581de9-feed-4b1b-8b53-638f726b2447'\n",
      "content='by an elderly woman named Signora Rosa, who was known throughout the village for her extraordinary talent in ' additional_kwargs={} response_metadata={} id='run-1b581de9-feed-4b1b-8b53-638f726b2447'\n",
      "content=\"creating the most exquisite and delicate pastries.\\n\\nSignora Rosa's pastries were not just delicious, \" additional_kwargs={} response_metadata={} id='run-1b581de9-feed-4b1b-8b53-638f726b2447'\n",
      "content='but they also possessed a magical quality. They had the power to transport those who ate them to a ' additional_kwargs={} response_metadata={} id='run-1b581de9-feed-4b1b-8b53-638f726b2447'\n",
      "content='different time and place, a place where the air was sweet with the scent of blooming flowers, ' additional_kwargs={} response_metadata={} id='run-1b581de9-feed-4b1b-8b53-638f726b2447'\n",
      "content='and the sky was painted with colors of sapphire and amethyst.\\n\\nOne day, a young traveler ' additional_kwargs={} response_metadata={} id='run-1b581de9-feed-4b1b-8b53-638f726b2447'\n",
      "content='named Leo stumbled upon La Bella Vita while wandering through the village. He had been traveling for weeks, ' additional_kwargs={} response_metadata={} id='run-1b581de9-feed-4b1b-8b53-638f726b2447'\n",
      "content='and his stomach was growling with hunger. As he pushed open the door, a bell above it ' additional_kwargs={} response_metadata={} id='run-1b581de9-feed-4b1b-8b53-638f726b2447'\n",
      "content='rang out, and Signora Rosa looked up from her workbench, where she was carefully crafting a pastry.\\n\\n' additional_kwargs={} response_metadata={} id='run-1b581de9-feed-4b1b-8b53-638f726b2447'\n",
      "content='\"Welcome, young traveler,\" she said with a warm smile. \"I have just the ' additional_kwargs={} response_metadata={} id='run-1b581de9-feed-4b1b-8b53-638f726b2447'\n",
      "content=\"thing for you. Try my famous 'Torta di Sogni' (Dream Cake). It \" additional_kwargs={} response_metadata={} id='run-1b581de9-feed-4b1b-8b53-638f726b2447'\n",
      "content='will transport you to a place of wonder and enchantment.\"\\n\\nLeo\\'s eyes widened as he took a ' additional_kwargs={} response_metadata={} id='run-1b581de9-feed-4b1b-8b53-638f726b2447'\n",
      "content='bite of the cake. Suddenly, he felt himself being lifted out of the shop and transported to a ' additional_kwargs={} response_metadata={} id='run-1b581de9-feed-4b1b-8b53-638f726b2447'\n",
      "content='beautiful meadow filled with wildflowers. The air was filled with the sweet scent of blooming ' additional_kwargs={} response_metadata={} id='run-1b581de9-feed-4b1b-8b53-638f726b2447'\n",
      "content='lavender, and the sky was a brilliant blue.\\n\\nAs he wandered through the meadow, Leo came across ' additional_kwargs={} response_metadata={} id='run-1b581de9-feed-4b1b-8b53-638f726b2447'\n",
      "content='a group of faeries dancing and laughing together. They invited him to join in, and soon he ' additional_kwargs={} response_metadata={} id='run-1b581de9-feed-4b1b-8b53-638f726b2447'\n",
      "content='was dancing with them, feeling carefree and joyful.\\n\\nBut as the sun began to set, Leo ' additional_kwargs={} response_metadata={} id='run-1b581de9-feed-4b1b-8b53-638f726b2447'\n",
      "content='realized that he had to return to the shop. He said goodbye to the faeries and thanked them ' additional_kwargs={} response_metadata={} id='run-1b581de9-feed-4b1b-8b53-638f726b2447'\n",
      "content='for the magical experience. As he returned to La Bella Vita, he found Signora Rosa waiting for ' additional_kwargs={} response_metadata={} id='run-1b581de9-feed-4b1b-8b53-638f726b2447'\n",
      "content='him with a warm smile.\\n\\n\"How was your journey?\" she asked.\\n\\nLeo told her about the ' additional_kwargs={} response_metadata={} id='run-1b581de9-feed-4b1b-8b53-638f726b2447'\n",
      "content='faeries and the magical meadow, and Signora Rosa listened with a knowing smile. \"I\\'m ' additional_kwargs={} response_metadata={} id='run-1b581de9-feed-4b1b-8b53-638f726b2447'\n",
      "content='glad you enjoyed it,\" she said. \"But remember, the magic of La Bella Vita is not ' additional_kwargs={} response_metadata={} id='run-1b581de9-feed-4b1b-8b53-638f726b2447'\n",
      "content='just in the pastries, but also in the memories we create. Come back soon, and ' additional_kwargs={} response_metadata={} id='run-1b581de9-feed-4b1b-8b53-638f726b2447'\n",
      "content='I\\'ll make sure to save you a special treat.\"\\n\\nFrom that day on, Leo returned to La Bella ' additional_kwargs={} response_metadata={} id='run-1b581de9-feed-4b1b-8b53-638f726b2447'\n",
      "content=\"Vita whenever he could, always looking forward to the next magical adventure that Signora Rosa's pastries \" additional_kwargs={} response_metadata={} id='run-1b581de9-feed-4b1b-8b53-638f726b2447'\n",
      "content='would bring. And as he sat in the shop, savoring the flavors and aromas of ' additional_kwargs={} response_metadata={} id='run-1b581de9-feed-4b1b-8b53-638f726b2447'\n",
      "content='her creations, he knew that he had found a true treasure in La Bella Vita, and in the ' additional_kwargs={} response_metadata={} id='run-1b581de9-feed-4b1b-8b53-638f726b2447'\n",
      "content='magical world of Signora ' additional_kwargs={} response_metadata={} id='run-1b581de9-feed-4b1b-8b53-638f726b2447'\n",
      "content=\"Rosa's pastries.\" additional_kwargs={} response_metadata={} id='run-1b581de9-feed-4b1b-8b53-638f726b2447'\n",
      "content='' additional_kwargs={} response_metadata={} id='run-1b581de9-feed-4b1b-8b53-638f726b2447'\n",
      "content='' additional_kwargs={} response_metadata={'finish_reason': 'stop', 'model_name': 'meta-llama/llama-3.2-3b-instruct', 'system_fingerprint': 'fastcoe'} id='run-1b581de9-feed-4b1b-8b53-638f726b2447'\n",
      "content='' additional_kwargs={} response_metadata={} id='run-1b581de9-feed-4b1b-8b53-638f726b2447' usage_metadata={'input_tokens': 39, 'output_tokens': 569, 'total_tokens': 608, 'input_token_details': {}, 'output_token_details': {}}\n"
     ]
    }
   ],
   "source": [
    "from langchain_core.output_parsers import JsonOutputParser\n",
    "\n",
    "# Create a JSON output parser\n",
    "json_output_parser = JsonOutputParser()\n",
    "\n",
    "# Define the format instructions\n",
    "json_format_instructions = json_output_parser.get_format_instructions()\n",
    "print(\"Format Instructions:\\n\", json_format_instructions, \"\\n\")\n",
    "\n",
    "# Create a prompt template for JSON parsing\n",
    "json_prompt = PromptTemplate(\n",
    "    template=\"Provide the details of a person in JSON format.\\n{format_instructions}\",\n",
    "    input_variables=[\"format_instructions\"],\n",
    "    partial_variables={\"format_instructions\": json_format_instructions},\n",
    ")\n",
    "\n",
    "pprint(json_prompt.dict())\n",
    "\n",
    "\n",
    "# Create a chain with the new prompt and the existing llm and json_output_parser\n",
    "json_chain = json_prompt | llm | json_output_parser\n",
    "\n",
    "# Invoke the chain\n",
    "json_result = json_chain.invoke({})\n",
    "\n",
    "print('\\nReturn:\\n',json_result,'\\n')"
   ]
  },
  {
   "cell_type": "code",
   "execution_count": null,
   "id": "f4c49270",
   "metadata": {},
   "outputs": [],
   "source": [
    "# Streaming \n",
    "for s in llm.stream(\"tell me a story\"):\n",
    "    print(s)\n"
   ]
  }
 ],
 "metadata": {
  "kernelspec": {
   "display_name": "blog-tutorials-M8bgSKgB-py3.12",
   "language": "python",
   "name": "python3"
  },
  "language_info": {
   "codemirror_mode": {
    "name": "ipython",
    "version": 3
   },
   "file_extension": ".py",
   "mimetype": "text/x-python",
   "name": "python",
   "nbconvert_exporter": "python",
   "pygments_lexer": "ipython3",
   "version": "3.12.4"
  }
 },
 "nbformat": 4,
 "nbformat_minor": 5
}
