{
 "cells": [
  {
   "cell_type": "markdown",
   "id": "7e8de950",
   "metadata": {},
   "source": [
    "# LangChain Part 3.2: Output Parsing\n",
    "- Important when using agents with tools e.g. calculator , search engine \n",
    "- Many systems expect data in specific way"
   ]
  },
  {
   "cell_type": "code",
   "execution_count": null,
   "id": "d911dbf2",
   "metadata": {},
   "outputs": [
    {
     "name": "stdout",
     "output_type": "stream",
     "text": [
      " I'm just a computer program, so I don't have feelings, but I'm ready to assist you! How can I help you today?\n"
     ]
    }
   ],
   "source": [
    "from langchain_openai import ChatOpenAI\n",
    "from langchain_ollama.chat_models import ChatOllama\n",
    "from os import getenv\n",
    "from dotenv import load_dotenv\n",
    "from pprint import pprint\n",
    "\n",
    "load_dotenv()\n",
    "# llm = ChatOpenAI(\n",
    "#     model=\"gpt-4o-mini\",\n",
    "#     temperature=0.1,\n",
    "#     max_tokens=512\n",
    "# )\n",
    "llm = ChatOpenAI(\n",
    "    openai_api_key=getenv(\"OPENROUTER_API_KEY\"),\n",
    "    openai_api_base=\"https://openrouter.ai/api/v1\",\n",
    "    model=\"microsoft/phi-3-medium-128k-instruct:free\",\n",
    "    temperature=0.1,\n",
    ")\n",
    "# llm = ChatOllama(model='llama3.2', temperature=0.2, max_tokens=512)\n",
    "\n",
    "result = llm.invoke(\"Hello, how are you today?\")\n",
    "print(result.content)"
   ]
  },
  {
   "cell_type": "markdown",
   "id": "eef0a088",
   "metadata": {},
   "source": [
    "# Pydantic Model Parser\n",
    "- Allows you to parse data into a Pydantic model"
   ]
  },
  {
   "cell_type": "code",
   "execution_count": 72,
   "id": "dc88d30e",
   "metadata": {},
   "outputs": [
    {
     "name": "stdout",
     "output_type": "stream",
     "text": [
      "{'name': None,\n",
      " 'input_variables': ['query'],\n",
      " 'optional_variables': [],\n",
      " 'output_parser': None,\n",
      " 'partial_variables': {'format_instructions': 'The output should be formatted '\n",
      "                                              'as a JSON instance that '\n",
      "                                              'conforms to the JSON schema '\n",
      "                                              'below.\\n'\n",
      "                                              '\\n'\n",
      "                                              'As an example, for the schema '\n",
      "                                              '{\"properties\": {\"foo\": '\n",
      "                                              '{\"title\": \"Foo\", \"description\": '\n",
      "                                              '\"a list of strings\", \"type\": '\n",
      "                                              '\"array\", \"items\": {\"type\": '\n",
      "                                              '\"string\"}}}, \"required\": '\n",
      "                                              '[\"foo\"]}\\n'\n",
      "                                              'the object {\"foo\": [\"bar\", '\n",
      "                                              '\"baz\"]} is a well-formatted '\n",
      "                                              'instance of the schema. The '\n",
      "                                              'object {\"properties\": {\"foo\": '\n",
      "                                              '[\"bar\", \"baz\"]}} is not '\n",
      "                                              'well-formatted.\\n'\n",
      "                                              '\\n'\n",
      "                                              'Here is the output schema:\\n'\n",
      "                                              '```\\n'\n",
      "                                              '{\"properties\": {\"title\": '\n",
      "                                              '{\"description\": \"Title of the '\n",
      "                                              'movie\", \"title\": \"Title\", '\n",
      "                                              '\"type\": \"string\"}, \"year\": '\n",
      "                                              '{\"description\": \"Release year '\n",
      "                                              'of the movie\", \"title\": \"Year\", '\n",
      "                                              '\"type\": \"integer\"}, \"director\": '\n",
      "                                              '{\"description\": \"Director of '\n",
      "                                              'the movie\", \"title\": '\n",
      "                                              '\"Director\", \"type\": \"string\"}}, '\n",
      "                                              '\"required\": [\"title\", \"year\", '\n",
      "                                              '\"director\"]}\\n'\n",
      "                                              '```'},\n",
      " 'metadata': None,\n",
      " 'tags': None,\n",
      " 'template': 'Answer the user query.\\n{format_instructions}\\n{query}\\n',\n",
      " 'template_format': 'f-string',\n",
      " 'validate_template': False,\n",
      " '_type': 'prompt'}\n"
     ]
    }
   ],
   "source": [
    "from pprint import pp\n",
    "from pydantic import BaseModel, Field\n",
    "from langchain_core.prompts import PromptTemplate\n",
    "\n",
    "# Define your desired data structure.\n",
    "class Movie(BaseModel):\n",
    "    title: str = Field(description=\"Title of the movie\")\n",
    "    year: int = Field(description=\"Release year of the movie\")\n",
    "    director: str = Field(description=\"Director of the movie\")\n",
    "\n",
    "# And a query intended to prompt a language model to populate the data structure.\n",
    "movie_query = \"Provide details of the movie 'Inception'.\"\n",
    "\n",
    "# Set up a parser + inject instructions into the prompt template.\n",
    "parser = PydanticOutputParser(pydantic_object=Movie)\n",
    "\n",
    "prompt = PromptTemplate(\n",
    "    template=\"Answer the user query.\\n{format_instructions}\\n{query}\\n\",\n",
    "    input_variables=[\"query\"],\n",
    "    partial_variables={\"format_instructions\": parser.get_format_instructions()},\n",
    ")\n",
    "\n",
    "pp(prompt.dict())"
   ]
  },
  {
   "cell_type": "code",
   "execution_count": 73,
   "id": "6ffafa8a",
   "metadata": {},
   "outputs": [
    {
     "name": "stdout",
     "output_type": "stream",
     "text": [
      "title='Inception' year=2010 director='Christopher Nolan'\n"
     ]
    }
   ],
   "source": [
    "chain = prompt | llm | parser\n",
    "\n",
    "result = chain.invoke({\"query\": movie_query})\n",
    "print(result)"
   ]
  },
  {
   "cell_type": "markdown",
   "id": "b1a330c1",
   "metadata": {},
   "source": [
    "# YAML Parser\n",
    "- Allows you to parse YAML data into a dictionary"
   ]
  },
  {
   "cell_type": "code",
   "execution_count": 80,
   "id": "f5447404",
   "metadata": {},
   "outputs": [
    {
     "data": {
      "text/plain": [
       "Joke(setup=\"Why don't scientists trust atoms?\", punchline='Because they make up everything!')"
      ]
     },
     "execution_count": 80,
     "metadata": {},
     "output_type": "execute_result"
    }
   ],
   "source": [
    "from typing import List\n",
    "\n",
    "from langchain.output_parsers import YamlOutputParser\n",
    "from pydantic import BaseModel, Field\n",
    "\n",
    "# Define your desired data structure.\n",
    "class Joke(BaseModel):\n",
    "    setup: str = Field(description=\"question to set up a joke\")\n",
    "    punchline: str = Field(description=\"answer to resolve the joke\")\n",
    "    \n",
    "\n",
    "# And a query intented to prompt a language model to populate the data structure.\n",
    "joke_query = \"Tell me a joke.\"\n",
    "\n",
    "# Set up a parser + inject instructions into the prompt template.\n",
    "parser = YamlOutputParser(pydantic_object=Joke)\n",
    "\n",
    "prompt = PromptTemplate(\n",
    "    template=\"Answer the user query.\\n{format_instructions}\\n{query}\\n\",\n",
    "    input_variables=[\"query\"],\n",
    "    partial_variables={\"format_instructions\": parser.get_format_instructions()},\n",
    ")\n",
    "\n",
    "chain = prompt | llm | parser\n",
    "\n",
    "chain.invoke({\"query\": joke_query})"
   ]
  },
  {
   "cell_type": "markdown",
   "id": "1c8212f9",
   "metadata": {},
   "source": [
    "# Output Fixing Parser\n",
    "- Allows you to fix the output of a model\n",
    "\n",
    "## Auto-Fix Parser"
   ]
  },
  {
   "cell_type": "code",
   "execution_count": 81,
   "id": "2eb246d1",
   "metadata": {},
   "outputs": [
    {
     "name": "stdout",
     "output_type": "stream",
     "text": [
      "2022-01-01 00:00:00\n"
     ]
    }
   ],
   "source": [
    "from langchain.output_parsers import OutputFixingParser\n",
    "from langchain.output_parsers import DatetimeOutputParser\n",
    "\n",
    "output_parser = DatetimeOutputParser()\n",
    "\n",
    "misformatted = \"2022-01-01T00:00:00.000Z\"\n",
    "\n",
    "result = output_parser.invoke(misformatted)\n",
    "\n",
    "print(result)\n",
    "\n"
   ]
  },
  {
   "cell_type": "code",
   "execution_count": 82,
   "id": "3ef6c977",
   "metadata": {},
   "outputs": [],
   "source": [
    "new_parser = OutputFixingParser.from_llm(parser=output_parser, llm=llm)"
   ]
  },
  {
   "cell_type": "code",
   "execution_count": 83,
   "id": "1ed23074",
   "metadata": {},
   "outputs": [
    {
     "data": {
      "text/plain": [
       "datetime.datetime(2022, 1, 1, 0, 0)"
      ]
     },
     "execution_count": 83,
     "metadata": {},
     "output_type": "execute_result"
    }
   ],
   "source": [
    "new_parser.parse(misformatted)\n"
   ]
  },
  {
   "cell_type": "code",
   "execution_count": null,
   "id": "dc2c2602",
   "metadata": {},
   "outputs": [],
   "source": []
  }
 ],
 "metadata": {
  "kernelspec": {
   "display_name": "blog-tutorials-M8bgSKgB-py3.12",
   "language": "python",
   "name": "python3"
  },
  "language_info": {
   "codemirror_mode": {
    "name": "ipython",
    "version": 3
   },
   "file_extension": ".py",
   "mimetype": "text/x-python",
   "name": "python",
   "nbconvert_exporter": "python",
   "pygments_lexer": "ipython3",
   "version": "3.12.4"
  }
 },
 "nbformat": 4,
 "nbformat_minor": 5
}
