{
 "cells": [
  {
   "metadata": {
    "ExecuteTime": {
     "end_time": "2024-11-09T09:33:47.298813Z",
     "start_time": "2024-11-09T09:33:47.089339Z"
    }
   },
   "cell_type": "code",
   "source": [
    "from langchain_ollama.chat_models import ChatOllama\n",
    "import getpass\n",
    "import os\n",
    "from langchain_openai import ChatOpenAI\n"
   ],
   "id": "d84f7735edbc5c15",
   "outputs": [],
   "execution_count": 17
  },
  {
   "metadata": {},
   "cell_type": "markdown",
   "source": "# Chat with Ollama",
   "id": "a5ab62d0aaa46c81"
  },
  {
   "metadata": {
    "ExecuteTime": {
     "end_time": "2024-11-09T09:31:17.001469Z",
     "start_time": "2024-11-09T09:31:16.999564Z"
    }
   },
   "cell_type": "code",
   "source": [
    "if \"OPENAI_API_KEY\" not in os.environ:\n",
    "    os.environ[\"OPENAI_API_KEY\"] = getpass.getpass(\"Enter your OpenAI API key: \")"
   ],
   "id": "b60ed0185134e4ae",
   "outputs": [],
   "execution_count": 11
  },
  {
   "metadata": {
    "ExecuteTime": {
     "end_time": "2024-11-09T09:31:17.461134Z",
     "start_time": "2024-11-09T09:31:17.431196Z"
    }
   },
   "cell_type": "code",
   "source": "llm = ChatOllama(model='qwen2.5:0.5b', temperature=0.5)\n",
   "id": "df3e3216054a83c5",
   "outputs": [],
   "execution_count": 12
  },
  {
   "metadata": {
    "ExecuteTime": {
     "end_time": "2024-11-09T09:33:03.153997Z",
     "start_time": "2024-11-09T09:33:02.612485Z"
    }
   },
   "cell_type": "code",
   "source": [
    "r = llm.invoke(\"Hello, how are you today?\")\n",
    "print(r)"
   ],
   "id": "d40e65c7aa3779",
   "outputs": [
    {
     "name": "stdout",
     "output_type": "stream",
     "text": [
      "content=\"Hello! I'm just a giant AI language model, so I don't have feelings or emotions like humans do. However, I'm here to assist you with any questions or tasks you may have. How can I help you today?\" additional_kwargs={} response_metadata={'model': 'qwen2.5:0.5b', 'created_at': '2024-11-09T09:33:03.152225Z', 'message': {'role': 'assistant', 'content': ''}, 'done_reason': 'stop', 'done': True, 'total_duration': 538069916, 'load_duration': 27987375, 'prompt_eval_count': 36, 'prompt_eval_duration': 180000000, 'eval_count': 48, 'eval_duration': 326000000} id='run-d3b81291-8cc8-400e-8d1e-e54e6fa0c798-0' usage_metadata={'input_tokens': 36, 'output_tokens': 48, 'total_tokens': 84}\n"
     ]
    }
   ],
   "execution_count": 15
  },
  {
   "metadata": {
    "ExecuteTime": {
     "end_time": "2024-11-09T09:33:07.666010Z",
     "start_time": "2024-11-09T09:33:07.662926Z"
    }
   },
   "cell_type": "code",
   "source": "r.content",
   "id": "3af7ce997bcdb296",
   "outputs": [
    {
     "data": {
      "text/plain": [
       "\"Hello! I'm just a giant AI language model, so I don't have feelings or emotions like humans do. However, I'm here to assist you with any questions or tasks you may have. How can I help you today?\""
      ]
     },
     "execution_count": 16,
     "metadata": {},
     "output_type": "execute_result"
    }
   ],
   "execution_count": 16
  },
  {
   "metadata": {},
   "cell_type": "markdown",
   "source": "# Chat with OpenAI",
   "id": "f16318457690a31a"
  },
  {
   "metadata": {
    "ExecuteTime": {
     "end_time": "2024-11-09T09:34:27.479407Z",
     "start_time": "2024-11-09T09:34:27.449556Z"
    }
   },
   "cell_type": "code",
   "source": "llm = ChatOpenAI(model='gpt-3.5-turbo', temperature=0.5, max_tokens=52)",
   "id": "d592320046c916f7",
   "outputs": [],
   "execution_count": 20
  },
  {
   "metadata": {
    "ExecuteTime": {
     "end_time": "2024-11-09T09:34:29.425150Z",
     "start_time": "2024-11-09T09:34:28.654581Z"
    }
   },
   "cell_type": "code",
   "source": [
    "r = llm.invoke(\"Hello, how are you today?\")\n",
    "print(r)"
   ],
   "id": "6b5fefa9644bbdc8",
   "outputs": [
    {
     "name": "stdout",
     "output_type": "stream",
     "text": [
      "content=\"Hello! I'm just a computer program, so I don't have feelings, but I'm here and ready to assist you. How can I help you today?\" additional_kwargs={'refusal': None} response_metadata={'token_usage': {'completion_tokens': 33, 'prompt_tokens': 14, 'total_tokens': 47, 'completion_tokens_details': {'accepted_prediction_tokens': 0, 'audio_tokens': 0, 'reasoning_tokens': 0, 'rejected_prediction_tokens': 0}, 'prompt_tokens_details': {'audio_tokens': 0, 'cached_tokens': 0}}, 'model_name': 'gpt-3.5-turbo-0125', 'system_fingerprint': None, 'finish_reason': 'stop', 'logprobs': None} id='run-c6bed598-c3d1-4f75-834c-067706e8971c-0' usage_metadata={'input_tokens': 14, 'output_tokens': 33, 'total_tokens': 47, 'input_token_details': {'audio': 0, 'cache_read': 0}, 'output_token_details': {'audio': 0, 'reasoning': 0}}\n"
     ]
    }
   ],
   "execution_count": 21
  },
  {
   "metadata": {
    "ExecuteTime": {
     "end_time": "2024-11-09T09:34:35.203076Z",
     "start_time": "2024-11-09T09:34:35.201082Z"
    }
   },
   "cell_type": "code",
   "source": "r.content",
   "id": "89a66a84fc7cff23",
   "outputs": [
    {
     "data": {
      "text/plain": [
       "\"Hello! I'm just a computer program, so I don't have feelings, but I'm here and ready to assist you. How can I help you today?\""
      ]
     },
     "execution_count": 22,
     "metadata": {},
     "output_type": "execute_result"
    }
   ],
   "execution_count": 22
  },
  {
   "metadata": {},
   "cell_type": "markdown",
   "source": "# OpenRouter Chat",
   "id": "26b56e18411e09bc"
  },
  {
   "metadata": {
    "ExecuteTime": {
     "end_time": "2024-11-09T10:01:35.786954Z",
     "start_time": "2024-11-09T10:01:29.000553Z"
    }
   },
   "cell_type": "code",
   "source": [
    "from langchain.chat_models import ChatOpenAI\n",
    "from langchain.prompts import PromptTemplate\n",
    "from langchain.chains import LLMChain\n",
    "from os import getenv\n",
    "from dotenv import load_dotenv\n",
    "\n",
    "load_dotenv()\n",
    "template = \"\"\"Question: {question}\n",
    "Answer: Let's think step by step.\"\"\"\n",
    "\n",
    "prompt = PromptTemplate(template=template, input_variables=[\"question\"])\n",
    "\n",
    "llm = ChatOpenAI(\n",
    "    openai_api_key=getenv(\"OPENROUTER_API_KEY\"),\n",
    "    openai_api_base=\"https://openrouter.ai/api/v1\",\n",
    "    model_name=\"meta-llama/llama-3.2-3b-instruct:free\",\n",
    "    temperature=0.5,\n",
    "    max_tokens=52,\n",
    "    stream_options={\"stream\": True},\n",
    "\n",
    ")\n",
    "\n",
    "r = llm.invoke(\"Hello, how are you today?\")"
   ],
   "id": "eccacd36a4184379",
   "outputs": [
    {
     "name": "stderr",
     "output_type": "stream",
     "text": [
      "WARNING! stream_options is not default parameter.\n",
      "                    stream_options was transferred to model_kwargs.\n",
      "                    Please confirm that stream_options is what you intended.\n"
     ]
    }
   ],
   "execution_count": 21
  },
  {
   "metadata": {
    "ExecuteTime": {
     "end_time": "2024-11-09T10:01:38.157252Z",
     "start_time": "2024-11-09T10:01:38.154853Z"
    }
   },
   "cell_type": "code",
   "source": [
    "print(r)\n",
    "\n",
    "print('\\n', r.content)"
   ],
   "id": "eb450b3e827b6ec",
   "outputs": [
    {
     "name": "stdout",
     "output_type": "stream",
     "text": [
      "content=\"I'm just a language model, so I don't have emotions or feelings like humans do, but I'm functioning properly and ready to help you with any questions or tasks you have. How can I assist you today?\" additional_kwargs={} response_metadata={'token_usage': {'completion_tokens': 44, 'prompt_tokens': 42, 'total_tokens': 86, 'completion_tokens_details': None, 'prompt_tokens_details': None}, 'model_name': 'meta-llama/llama-3.2-3b-instruct:free', 'system_fingerprint': 'fastcoe', 'finish_reason': 'stop', 'logprobs': None} id='run-ce7c9ac4-91d7-4a1f-856b-ab4eb6fd6f0f-0'\n",
      "\n",
      " I'm just a language model, so I don't have emotions or feelings like humans do, but I'm functioning properly and ready to help you with any questions or tasks you have. How can I assist you today?\n"
     ]
    }
   ],
   "execution_count": 22
  }
 ],
 "metadata": {
  "kernelspec": {
   "display_name": "Python 3",
   "language": "python",
   "name": "python3"
  },
  "language_info": {
   "codemirror_mode": {
    "name": "ipython",
    "version": 2
   },
   "file_extension": ".py",
   "mimetype": "text/x-python",
   "name": "python",
   "nbconvert_exporter": "python",
   "pygments_lexer": "ipython2",
   "version": "2.7.6"
  }
 },
 "nbformat": 4,
 "nbformat_minor": 5
}
