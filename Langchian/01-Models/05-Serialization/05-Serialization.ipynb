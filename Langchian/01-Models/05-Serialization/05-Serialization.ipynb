{
 "cells": [
  {
   "cell_type": "markdown",
   "metadata": {},
   "source": [
    "# Serialization"
   ]
  },
  {
   "cell_type": "code",
   "execution_count": 2,
   "metadata": {},
   "outputs": [],
   "source": [
    "from langchain.prompts import PromptTemplate, ChatPromptTemplate, HumanMessagePromptTemplate\n",
    "from langchain_ollama import ChatOllama"
   ]
  },
  {
   "cell_type": "markdown",
   "metadata": {},
   "source": [
    "## Setting Upp LLM"
   ]
  },
  {
   "cell_type": "code",
   "execution_count": 3,
   "metadata": {},
   "outputs": [
    {
     "name": "stdout",
     "output_type": "stream",
     "text": [
      "As an AI language model, I don't have personal beliefs or emotions like humans do. However, I can provide you with some general answers to your question.\n",
      "\n",
      "The meaning of life is a fundamental question that has been debated by philosophers and thinkers for centuries. Some people believe that the purpose of life is to find happiness and fulfillment, while others think it's to make the world a better place for everyone. \n",
      "\n",
      "Different cultures around the world have different views on what the meaning of life might be. In some traditions, such as Buddhism, the meaning of life may be seen as finding enlightenment or achieving moksha (liberation from rebirth). In other traditions, such as Taoism and Confucianism, the meaning of life may be about living in harmony with nature and following a moral code.\n",
      "\n",
      "Ultimately, the meaning of life is a subjective question that can't be answered definitively. It's up to each individual to find their own answers and make sense of it.\n"
     ]
    }
   ],
   "source": [
    "llm = ChatOllama(model=\"qwen2.5:0.5b\", temperature=0.5, max_tokens=4096)\n",
    "\n",
    "r = llm.invoke(\"What is the meaning of life?\")\n",
    "print(r.content)"
   ]
  },
  {
   "cell_type": "markdown",
   "metadata": {},
   "source": [
    "# Saving Prompts"
   ]
  },
  {
   "cell_type": "code",
   "execution_count": null,
   "metadata": {},
   "outputs": [],
   "source": []
  },
  {
   "cell_type": "markdown",
   "metadata": {},
   "source": [
    "# Load Prompts"
   ]
  },
  {
   "cell_type": "code",
   "execution_count": null,
   "metadata": {},
   "outputs": [],
   "source": []
  },
  {
   "cell_type": "code",
   "execution_count": null,
   "metadata": {},
   "outputs": [],
   "source": []
  },
  {
   "cell_type": "code",
   "execution_count": null,
   "metadata": {},
   "outputs": [],
   "source": []
  }
 ],
 "metadata": {
  "kernelspec": {
   "display_name": "blog-tutorials-M8bgSKgB-py3.12",
   "language": "python",
   "name": "python3"
  },
  "language_info": {
   "codemirror_mode": {
    "name": "ipython",
    "version": 3
   },
   "file_extension": ".py",
   "mimetype": "text/x-python",
   "name": "python",
   "nbconvert_exporter": "python",
   "pygments_lexer": "ipython3",
   "version": "3.12.4"
  }
 },
 "nbformat": 4,
 "nbformat_minor": 2
}
