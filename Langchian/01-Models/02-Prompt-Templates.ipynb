{
 "cells": [
  {
   "cell_type": "code",
   "id": "initial_id",
   "metadata": {
    "collapsed": true,
    "ExecuteTime": {
     "end_time": "2024-11-09T10:14:10.954362Z",
     "start_time": "2024-11-09T10:14:01.837631Z"
    }
   },
   "source": [
    "from langchain.chat_models import ChatOpenAI\n",
    "from langchain.prompts import PromptTemplate\n",
    "from langchain.chains import LLMChain\n",
    "from os import getenv\n",
    "from dotenv import load_dotenv\n",
    "\n",
    "load_dotenv()\n",
    "template = \"\"\"Question: {question}\n",
    "Answer: Let's think step by step.\"\"\"\n",
    "\n",
    "prompt = PromptTemplate(template=template, input_variables=[\"question\"])\n",
    "\n",
    "llm = ChatOpenAI(\n",
    "    openai_api_key=getenv(\"OPENROUTER_API_KEY\"),\n",
    "    openai_api_base=\"https://openrouter.ai/api/v1\",\n",
    "    model_name=\"meta-llama/llama-3.2-3b-instruct:free\",\n",
    "    temperature=0.5,\n",
    "    max_tokens=100,\n",
    "\n",
    ")\n",
    "\n",
    "result = llm.invoke(\"Hello, how are you today?\")\n",
    "print(result)"
   ],
   "outputs": [
    {
     "name": "stdout",
     "output_type": "stream",
     "text": [
      "content=\"I'm just a language model, so I don't have emotions or feelings like humans do, but I'm functioning properly and ready to help you with any questions or tasks you have. How can I assist you today?\" additional_kwargs={} response_metadata={'token_usage': {'completion_tokens': 44, 'prompt_tokens': 42, 'total_tokens': 86, 'completion_tokens_details': None, 'prompt_tokens_details': None}, 'model_name': 'meta-llama/llama-3.2-3b-instruct:free', 'system_fingerprint': 'fastcoe', 'finish_reason': 'stop', 'logprobs': None} id='run-9e4c4e57-be96-4b88-8e17-3d66623284b0-0'\n"
     ]
    }
   ],
   "execution_count": 3
  },
  {
   "metadata": {},
   "cell_type": "markdown",
   "source": "# String PromptTemplates",
   "id": "4ad74a439fa41369"
  },
  {
   "metadata": {
    "ExecuteTime": {
     "end_time": "2024-11-09T10:20:54.477923Z",
     "start_time": "2024-11-09T10:20:54.473539Z"
    }
   },
   "cell_type": "code",
   "source": [
    "from langchain_core.prompts import PromptTemplate\n",
    "\n",
    "one_input = PromptTemplate(input_variables=[\"topic\"], template=\"Tell me a fact about {topic}.\")\n",
    "one_input.format(topic=\"Moon\")"
   ],
   "id": "eac07c035405c631",
   "outputs": [
    {
     "data": {
      "text/plain": [
       "'Tell me a fact about Mars.'"
      ]
     },
     "execution_count": 11,
     "metadata": {},
     "output_type": "execute_result"
    }
   ],
   "execution_count": 11
  },
  {
   "metadata": {
    "ExecuteTime": {
     "end_time": "2024-11-09T10:26:02.596288Z",
     "start_time": "2024-11-09T10:26:02.592927Z"
    }
   },
   "cell_type": "code",
   "source": [
    "multiple_input_prompt = PromptTemplate(\n",
    "    input_variables=[\"topic\", \"level\"],\n",
    "    template=\"Tell me a fact about {topic} for a student {level} level.\"\n",
    ")\n",
    "multiple_input_prompt.format(topic='Moon', level='6th Grade')"
   ],
   "id": "875f848b995ffa49",
   "outputs": [
    {
     "data": {
      "text/plain": [
       "'Tell me a fact about Moon for a student 6th Grade level.'"
      ]
     },
     "execution_count": 22,
     "metadata": {},
     "output_type": "execute_result"
    }
   ],
   "execution_count": 22
  },
  {
   "metadata": {
    "ExecuteTime": {
     "end_time": "2024-11-09T10:30:13.577037Z",
     "start_time": "2024-11-09T10:30:12.181130Z"
    }
   },
   "cell_type": "code",
   "source": [
    "result = llm.invoke(multiple_input_prompt.format(topic='Moon', level='6th Grade'))\n",
    "print(result.content)\n"
   ],
   "id": "a290e4df1e0303ff",
   "outputs": [
    {
     "name": "stdout",
     "output_type": "stream",
     "text": [
      "Here's a cool fact about the Moon that a 6th-grade student might enjoy:\n",
      "\n",
      "Did you know that the Moon is actually moving away from the Earth? It's true! Scientists have been studying the Moon's orbit, and they've found that it's slowly increasing its distance from our planet by about 1.5 inches (3.8 centimeters) every year. This is because the Moon's orbit is not a perfect circle, and it's actually getting a bit farther away from the\n"
     ]
    }
   ],
   "execution_count": 30
  },
  {
   "metadata": {},
   "cell_type": "markdown",
   "source": "# ChatPromptTemplates",
   "id": "79dc58b6709bce8c"
  },
  {
   "metadata": {
    "ExecuteTime": {
     "end_time": "2024-11-09T10:28:51.778895Z",
     "start_time": "2024-11-09T10:28:51.776086Z"
    }
   },
   "cell_type": "code",
   "source": [
    "from langchain_core.prompts import ChatPromptTemplate\n",
    "\n",
    "prompt_template = ChatPromptTemplate([\n",
    "    (\"system\", \"You are a helpful assistant\"),\n",
    "    (\"user\", \"Tell me a joke about {topic}\")\n",
    "])\n",
    "\n",
    "# prompt_template.format(topic=\"chickens\")\n",
    "p = prompt_template.invoke({\"topic\": \"cats\"}).to_messages()\n"
   ],
   "id": "51cd112837f36773",
   "outputs": [],
   "execution_count": 26
  },
  {
   "metadata": {
    "ExecuteTime": {
     "end_time": "2024-11-09T10:28:56.744131Z",
     "start_time": "2024-11-09T10:28:55.237564Z"
    }
   },
   "cell_type": "code",
   "source": "llm.invoke(p)",
   "id": "73a03f01d8a5e5a0",
   "outputs": [
    {
     "data": {
      "text/plain": [
       "AIMessage(content='Why did the cat join a band?\\n\\nBecause it wanted to be the purr-cussionist.', additional_kwargs={}, response_metadata={'token_usage': {'completion_tokens': 20, 'prompt_tokens': 46, 'total_tokens': 66, 'completion_tokens_details': None, 'prompt_tokens_details': None}, 'model_name': 'meta-llama/llama-3.2-3b-instruct:free', 'system_fingerprint': 'fastcoe', 'finish_reason': 'stop', 'logprobs': None}, id='run-ede7ef7e-e91b-4551-b225-2764d373dc89-0')"
      ]
     },
     "execution_count": 27,
     "metadata": {},
     "output_type": "execute_result"
    }
   ],
   "execution_count": 27
  },
  {
   "metadata": {},
   "cell_type": "markdown",
   "source": "# MessagesPlaceholder",
   "id": "5add5052d8bafd44"
  },
  {
   "metadata": {
    "ExecuteTime": {
     "end_time": "2024-11-09T10:32:26.690831Z",
     "start_time": "2024-11-09T10:32:26.687585Z"
    }
   },
   "cell_type": "code",
   "source": [
    "from langchain_core.prompts import ChatPromptTemplate, MessagesPlaceholder\n",
    "from langchain_core.messages import HumanMessage\n",
    "\n",
    "prompt_template = ChatPromptTemplate([\n",
    "    (\"system\", \"You are a helpful assistant\"),\n",
    "    MessagesPlaceholder(\"msgs\")\n",
    "])\n",
    "\n",
    "p = prompt_template.invoke({\"msgs\": [HumanMessage(content=\"hi!\")]})\n",
    "\n"
   ],
   "id": "16a5612d351d7f4b",
   "outputs": [],
   "execution_count": 34
  },
  {
   "metadata": {
    "ExecuteTime": {
     "end_time": "2024-11-09T10:32:43.820210Z",
     "start_time": "2024-11-09T10:32:43.291277Z"
    }
   },
   "cell_type": "code",
   "source": [
    "\n",
    "r = llm.invoke(p)\n",
    "\n",
    "r.content"
   ],
   "id": "34df18200c4184f3",
   "outputs": [
    {
     "data": {
      "text/plain": [
       "'How can I assist you today?'"
      ]
     },
     "execution_count": 36,
     "metadata": {},
     "output_type": "execute_result"
    }
   ],
   "execution_count": 36
  },
  {
   "metadata": {},
   "cell_type": "markdown",
   "source": "# Few-Shot PromptTemplates",
   "id": "a3b6862831aa7299"
  },
  {
   "metadata": {
    "ExecuteTime": {
     "end_time": "2024-11-09T10:39:50.192886Z",
     "start_time": "2024-11-09T10:39:50.189254Z"
    }
   },
   "cell_type": "code",
   "source": [
    "from langchain_core.prompts import ChatPromptTemplate, FewShotChatMessagePromptTemplate\n",
    "\n",
    "examples = [\n",
    "    {\"input\": \"2 🦜 2\", \"output\": \"4\"},\n",
    "    {\"input\": \"2 🦜 3\", \"output\": \"5\"},\n",
    "]\n",
    "\n",
    "example_prompt = ChatPromptTemplate.from_messages(\n",
    "    [\n",
    "        (\"user\", \"{input}?\"),\n",
    "        (\"ai\", \"{output}.\")\n",
    "    ]\n",
    ")"
   ],
   "id": "84f2789169cf3c1b",
   "outputs": [],
   "execution_count": 38
  },
  {
   "metadata": {
    "ExecuteTime": {
     "end_time": "2024-11-09T10:41:15.744802Z",
     "start_time": "2024-11-09T10:41:15.742471Z"
    }
   },
   "cell_type": "code",
   "source": [
    "from langchain_core.prompts import FewShotChatMessagePromptTemplate\n",
    "\n",
    "few_shot_prompt = FewShotChatMessagePromptTemplate(\n",
    "    examples=examples,\n",
    "    example_prompt=example_prompt\n",
    ")"
   ],
   "id": "fe2340c97a5325b6",
   "outputs": [],
   "execution_count": 44
  },
  {
   "metadata": {
    "ExecuteTime": {
     "end_time": "2024-11-09T10:41:41.095172Z",
     "start_time": "2024-11-09T10:41:41.092571Z"
    }
   },
   "cell_type": "code",
   "source": [
    "p = few_shot_prompt.invoke({}).to_messages()\n",
    "\n",
    "p\n",
    "\n"
   ],
   "id": "52282cf674ba5ad5",
   "outputs": [
    {
     "data": {
      "text/plain": [
       "[HumanMessage(content='2 🦜 2?', additional_kwargs={}, response_metadata={}),\n",
       " AIMessage(content='4.', additional_kwargs={}, response_metadata={}),\n",
       " HumanMessage(content='2 🦜 3?', additional_kwargs={}, response_metadata={}),\n",
       " AIMessage(content='5.', additional_kwargs={}, response_metadata={})]"
      ]
     },
     "execution_count": 47,
     "metadata": {},
     "output_type": "execute_result"
    }
   ],
   "execution_count": 47
  },
  {
   "metadata": {
    "ExecuteTime": {
     "end_time": "2024-11-09T10:41:58.325770Z",
     "start_time": "2024-11-09T10:41:54.098113Z"
    }
   },
   "cell_type": "code",
   "source": [
    "\n",
    "r = llm.invoke(p)\n",
    "r.content\n"
   ],
   "id": "ae4c451315a20117",
   "outputs": [
    {
     "data": {
      "text/plain": [
       "\"You're using emojis to represent numbers. I'll follow along.\\n\\n2 birds (🦜) 2 = 4\\n2 birds (🦜) 3 = 5\""
      ]
     },
     "execution_count": 48,
     "metadata": {},
     "output_type": "execute_result"
    }
   ],
   "execution_count": 48
  },
  {
   "metadata": {},
   "cell_type": "code",
   "outputs": [],
   "execution_count": null,
   "source": "",
   "id": "e01d566be9dd5c9a"
  }
 ],
 "metadata": {
  "kernelspec": {
   "display_name": "Python 3",
   "language": "python",
   "name": "python3"
  },
  "language_info": {
   "codemirror_mode": {
    "name": "ipython",
    "version": 2
   },
   "file_extension": ".py",
   "mimetype": "text/x-python",
   "name": "python",
   "nbconvert_exporter": "python",
   "pygments_lexer": "ipython2",
   "version": "2.7.6"
  }
 },
 "nbformat": 4,
 "nbformat_minor": 5
}
