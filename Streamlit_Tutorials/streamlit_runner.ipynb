{
 "cells": [
  {
   "metadata": {},
   "cell_type": "markdown",
   "source": [
    "# Run Streamlit app\n",
    "## Streamlit_Part_1\n"
   ],
   "id": "9a2b79d2957b052e"
  },
  {
   "cell_type": "code",
   "id": "initial_id",
   "metadata": {
    "collapsed": true,
    "ExecuteTime": {
     "end_time": "2024-08-29T01:18:15.865101Z",
     "start_time": "2024-08-29T01:18:07.419311Z"
    }
   },
   "source": "! streamlit run Streamlit_Part_1/app.py",
   "outputs": [
    {
     "name": "stdout",
     "output_type": "stream",
     "text": [
      "\u001B[0m\r\n",
      "\u001B[34m\u001B[1m  You can now view your Streamlit app in your browser.\u001B[0m\r\n",
      "\u001B[0m\r\n",
      "\u001B[34m  Local URL: \u001B[0m\u001B[1mhttp://localhost:8501\u001B[0m\r\n",
      "\u001B[34m  Network URL: \u001B[0m\u001B[1mhttp://192.168.50.247:8501\u001B[0m\r\n",
      "\u001B[0m\r\n",
      "2024-08-28 19:18:08.038 An update to the [server] config option section was detected. To have these changes be reflected, please restart streamlit.\r\n",
      "Usage: app.py [OPTIONS] TARGET [ARGS]...\r\n",
      "Try 'app.py --help' for help.\r\n",
      "\r\n",
      "Error: Invalid value: File does not exist: app.py\r\n",
      "^C\r\n",
      "\u001B[34m  Stopping...\u001B[0m\r\n"
     ]
    }
   ],
   "execution_count": 1
  },
  {
   "metadata": {},
   "cell_type": "markdown",
   "source": "## Streamlit_Part_2",
   "id": "e41b109d24f2118b"
  },
  {
   "metadata": {
    "ExecuteTime": {
     "end_time": "2024-08-29T01:50:44.563631Z",
     "start_time": "2024-08-29T01:47:34.767103Z"
    }
   },
   "cell_type": "code",
   "source": "! streamlit run Streamlit_Part_2/p2_app.py",
   "id": "1a95734085fb8945",
   "outputs": [
    {
     "name": "stdout",
     "output_type": "stream",
     "text": [
      "\u001B[0m\r\n",
      "\u001B[34m\u001B[1m  You can now view your Streamlit app in your browser.\u001B[0m\r\n",
      "\u001B[0m\r\n",
      "\u001B[34m  Local URL: \u001B[0m\u001B[1mhttp://localhost:8501\u001B[0m\r\n",
      "\u001B[34m  Network URL: \u001B[0m\u001B[1mhttp://192.168.50.247:8501\u001B[0m\r\n",
      "\u001B[0m\r\n",
      "Usage: p2_app.py [OPTIONS] TARGET [ARGS]...\r\n",
      "Try 'p2_app.py --help' for help.\r\n",
      "\r\n",
      "Usage: p2_app.py [OPTIONS] TARGET [ARGS]...\r\n",
      "Try 'p2_app.py --help' for help.\r\n",
      "\r\n",
      "Error: Invalid value: File does not exist: p2_app.py\r\n",
      "Error: Invalid value: File does not exist: p2_app.py\r\n",
      "Usage: p2_app.py [OPTIONS] TARGET [ARGS]...\r\n",
      "Try 'p2_app.py --help' for help.\r\n",
      "\r\n",
      "Error: Invalid value: File does not exist: p2_app.py\r\n",
      "2024-08-28 19:47:36.514 304 GET /_stcore/health (192.168.50.247) 0.50ms\r\n",
      "2024-08-28 19:47:36.515 304 GET /_stcore/host-config (192.168.50.247) 0.62ms\r\n",
      "2024-08-28 19:47:36.541 101 GET /_stcore/stream (192.168.50.247) 0.34ms\r\n",
      "Usage: p2_app.py [OPTIONS] TARGET [ARGS]...\r\n",
      "Try 'p2_app.py --help' for help.\r\n",
      "\r\n",
      "Error: Invalid value: File does not exist: p2_app.py\r\n",
      "^C\r\n",
      "\u001B[34m  Stopping...\u001B[0m\r\n"
     ]
    }
   ],
   "execution_count": 2
  },
  {
   "metadata": {},
   "cell_type": "markdown",
   "source": "",
   "id": "308f116bdc181e0e"
  },
  {
   "metadata": {
    "ExecuteTime": {
     "end_time": "2024-08-29T02:16:55.964888Z",
     "start_time": "2024-08-29T02:16:55.743044Z"
    }
   },
   "cell_type": "code",
   "source": "",
   "id": "7c924c4e27045215",
   "outputs": [
    {
     "name": "stderr",
     "output_type": "stream",
     "text": [
      "2024-08-28 20:16:55.906 WARNING streamlit.runtime.scriptrunner_utils.script_run_context: Thread 'MainThread': missing ScriptRunContext! This warning can be ignored when running in bare mode.\n",
      "2024-08-28 20:16:55.963 \n",
      "  \u001B[33m\u001B[1mWarning:\u001B[0m to view this Streamlit app on a browser, run it with the following\n",
      "  command:\n",
      "\n",
      "    streamlit run /Users/james/miniconda3/envs/py311/lib/python3.11/site-packages/ipykernel_launcher.py [ARGUMENTS]\n",
      "2024-08-28 20:16:55.963 Thread 'MainThread': missing ScriptRunContext! This warning can be ignored when running in bare mode.\n",
      "2024-08-28 20:16:55.963 Thread 'MainThread': missing ScriptRunContext! This warning can be ignored when running in bare mode.\n",
      "2024-08-28 20:16:55.963 Thread 'MainThread': missing ScriptRunContext! This warning can be ignored when running in bare mode.\n"
     ]
    }
   ],
   "execution_count": 3
  },
  {
   "metadata": {},
   "cell_type": "code",
   "outputs": [],
   "execution_count": null,
   "source": "",
   "id": "4a1a1b01b106e0ef"
  }
 ],
 "metadata": {
  "kernelspec": {
   "display_name": "Python 3",
   "language": "python",
   "name": "python3"
  },
  "language_info": {
   "codemirror_mode": {
    "name": "ipython",
    "version": 2
   },
   "file_extension": ".py",
   "mimetype": "text/x-python",
   "name": "python",
   "nbconvert_exporter": "python",
   "pygments_lexer": "ipython2",
   "version": "2.7.6"
  }
 },
 "nbformat": 4,
 "nbformat_minor": 5
}
