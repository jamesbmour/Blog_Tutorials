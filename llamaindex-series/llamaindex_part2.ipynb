{
 "cells": [
  {
   "metadata": {},
   "cell_type": "markdown",
   "source": [
    "## 2. Exploring Different Index Types\n",
    "### 2.1 List Index"
   ],
   "id": "847d3a10848a955"
  },
  {
   "cell_type": "code",
   "id": "initial_id",
   "metadata": {
    "collapsed": true,
    "ExecuteTime": {
     "end_time": "2024-08-12T16:11:56.454386Z",
     "start_time": "2024-08-12T16:11:56.414830Z"
    }
   },
   "source": [
    "from llama_index.core import ListIndex, SimpleDirectoryReader\n",
    "\n",
    "documents = SimpleDirectoryReader('data').load_data()\n",
    "list_index = ListIndex.from_documents(documents)\n",
    "\n",
    "query_engine = list_index.as_query_engine()\n",
    "response = query_engine.query(\"What is the capital of France?\")\n",
    "print(response)"
   ],
   "outputs": [
    {
     "ename": "ValueError",
     "evalue": "\n******\nCould not load OpenAI model. If you intended to use OpenAI, please check your OPENAI_API_KEY.\nOriginal error:\nNo API key found for OpenAI.\nPlease set either the OPENAI_API_KEY environment variable or openai.api_key prior to initialization.\nAPI keys can be found or created at https://platform.openai.com/account/api-keys\n\nTo disable the LLM entirely, set llm=None.\n******",
     "output_type": "error",
     "traceback": [
      "\u001B[0;31m---------------------------------------------------------------------------\u001B[0m",
      "\u001B[0;31mValueError\u001B[0m                                Traceback (most recent call last)",
      "File \u001B[0;32m~/Library/Caches/pypoetry/virtualenvs/blog-tutorials-Rnapy5Av-py3.12/lib/python3.12/site-packages/llama_index/core/llms/utils.py:42\u001B[0m, in \u001B[0;36mresolve_llm\u001B[0;34m(llm, callback_manager)\u001B[0m\n\u001B[1;32m     41\u001B[0m     llm \u001B[38;5;241m=\u001B[39m OpenAI()\n\u001B[0;32m---> 42\u001B[0m     \u001B[43mvalidate_openai_api_key\u001B[49m\u001B[43m(\u001B[49m\u001B[43mllm\u001B[49m\u001B[38;5;241;43m.\u001B[39;49m\u001B[43mapi_key\u001B[49m\u001B[43m)\u001B[49m\n\u001B[1;32m     43\u001B[0m \u001B[38;5;28;01mexcept\u001B[39;00m \u001B[38;5;167;01mImportError\u001B[39;00m:\n",
      "File \u001B[0;32m~/Library/Caches/pypoetry/virtualenvs/blog-tutorials-Rnapy5Av-py3.12/lib/python3.12/site-packages/llama_index/llms/openai/utils.py:409\u001B[0m, in \u001B[0;36mvalidate_openai_api_key\u001B[0;34m(api_key)\u001B[0m\n\u001B[1;32m    408\u001B[0m \u001B[38;5;28;01mif\u001B[39;00m \u001B[38;5;129;01mnot\u001B[39;00m openai_api_key:\n\u001B[0;32m--> 409\u001B[0m     \u001B[38;5;28;01mraise\u001B[39;00m \u001B[38;5;167;01mValueError\u001B[39;00m(MISSING_API_KEY_ERROR_MESSAGE)\n",
      "\u001B[0;31mValueError\u001B[0m: No API key found for OpenAI.\nPlease set either the OPENAI_API_KEY environment variable or openai.api_key prior to initialization.\nAPI keys can be found or created at https://platform.openai.com/account/api-keys\n",
      "\nDuring handling of the above exception, another exception occurred:\n",
      "\u001B[0;31mValueError\u001B[0m                                Traceback (most recent call last)",
      "Cell \u001B[0;32mIn[2], line 6\u001B[0m\n\u001B[1;32m      3\u001B[0m documents \u001B[38;5;241m=\u001B[39m SimpleDirectoryReader(\u001B[38;5;124m'\u001B[39m\u001B[38;5;124mdata\u001B[39m\u001B[38;5;124m'\u001B[39m)\u001B[38;5;241m.\u001B[39mload_data()\n\u001B[1;32m      4\u001B[0m list_index \u001B[38;5;241m=\u001B[39m ListIndex\u001B[38;5;241m.\u001B[39mfrom_documents(documents)\n\u001B[0;32m----> 6\u001B[0m query_engine \u001B[38;5;241m=\u001B[39m \u001B[43mlist_index\u001B[49m\u001B[38;5;241;43m.\u001B[39;49m\u001B[43mas_query_engine\u001B[49m\u001B[43m(\u001B[49m\u001B[43m)\u001B[49m\n\u001B[1;32m      7\u001B[0m response \u001B[38;5;241m=\u001B[39m query_engine\u001B[38;5;241m.\u001B[39mquery(\u001B[38;5;124m\"\u001B[39m\u001B[38;5;124mWhat is the capital of France?\u001B[39m\u001B[38;5;124m\"\u001B[39m)\n\u001B[1;32m      8\u001B[0m \u001B[38;5;28mprint\u001B[39m(response)\n",
      "File \u001B[0;32m~/Library/Caches/pypoetry/virtualenvs/blog-tutorials-Rnapy5Av-py3.12/lib/python3.12/site-packages/llama_index/core/indices/base.py:408\u001B[0m, in \u001B[0;36mBaseIndex.as_query_engine\u001B[0;34m(self, llm, **kwargs)\u001B[0m\n\u001B[1;32m    400\u001B[0m \u001B[38;5;28;01mfrom\u001B[39;00m \u001B[38;5;21;01mllama_index\u001B[39;00m\u001B[38;5;21;01m.\u001B[39;00m\u001B[38;5;21;01mcore\u001B[39;00m\u001B[38;5;21;01m.\u001B[39;00m\u001B[38;5;21;01mquery_engine\u001B[39;00m\u001B[38;5;21;01m.\u001B[39;00m\u001B[38;5;21;01mretriever_query_engine\u001B[39;00m \u001B[38;5;28;01mimport\u001B[39;00m (\n\u001B[1;32m    401\u001B[0m     RetrieverQueryEngine,\n\u001B[1;32m    402\u001B[0m )\n\u001B[1;32m    404\u001B[0m retriever \u001B[38;5;241m=\u001B[39m \u001B[38;5;28mself\u001B[39m\u001B[38;5;241m.\u001B[39mas_retriever(\u001B[38;5;241m*\u001B[39m\u001B[38;5;241m*\u001B[39mkwargs)\n\u001B[1;32m    405\u001B[0m llm \u001B[38;5;241m=\u001B[39m (\n\u001B[1;32m    406\u001B[0m     resolve_llm(llm, callback_manager\u001B[38;5;241m=\u001B[39m\u001B[38;5;28mself\u001B[39m\u001B[38;5;241m.\u001B[39m_callback_manager)\n\u001B[1;32m    407\u001B[0m     \u001B[38;5;28;01mif\u001B[39;00m llm\n\u001B[0;32m--> 408\u001B[0m     \u001B[38;5;28;01melse\u001B[39;00m \u001B[43mllm_from_settings_or_context\u001B[49m\u001B[43m(\u001B[49m\u001B[43mSettings\u001B[49m\u001B[43m,\u001B[49m\u001B[43m \u001B[49m\u001B[38;5;28;43mself\u001B[39;49m\u001B[38;5;241;43m.\u001B[39;49m\u001B[43mservice_context\u001B[49m\u001B[43m)\u001B[49m\n\u001B[1;32m    409\u001B[0m )\n\u001B[1;32m    411\u001B[0m \u001B[38;5;28;01mreturn\u001B[39;00m RetrieverQueryEngine\u001B[38;5;241m.\u001B[39mfrom_args(\n\u001B[1;32m    412\u001B[0m     retriever,\n\u001B[1;32m    413\u001B[0m     llm\u001B[38;5;241m=\u001B[39mllm,\n\u001B[1;32m    414\u001B[0m     \u001B[38;5;241m*\u001B[39m\u001B[38;5;241m*\u001B[39mkwargs,\n\u001B[1;32m    415\u001B[0m )\n",
      "File \u001B[0;32m~/Library/Caches/pypoetry/virtualenvs/blog-tutorials-Rnapy5Av-py3.12/lib/python3.12/site-packages/llama_index/core/settings.py:264\u001B[0m, in \u001B[0;36mllm_from_settings_or_context\u001B[0;34m(settings, context)\u001B[0m\n\u001B[1;32m    261\u001B[0m \u001B[38;5;28;01mif\u001B[39;00m context \u001B[38;5;129;01mis\u001B[39;00m \u001B[38;5;129;01mnot\u001B[39;00m \u001B[38;5;28;01mNone\u001B[39;00m:\n\u001B[1;32m    262\u001B[0m     \u001B[38;5;28;01mreturn\u001B[39;00m context\u001B[38;5;241m.\u001B[39mllm\n\u001B[0;32m--> 264\u001B[0m \u001B[38;5;28;01mreturn\u001B[39;00m \u001B[43msettings\u001B[49m\u001B[38;5;241;43m.\u001B[39;49m\u001B[43mllm\u001B[49m\n",
      "File \u001B[0;32m~/Library/Caches/pypoetry/virtualenvs/blog-tutorials-Rnapy5Av-py3.12/lib/python3.12/site-packages/llama_index/core/settings.py:39\u001B[0m, in \u001B[0;36m_Settings.llm\u001B[0;34m(self)\u001B[0m\n\u001B[1;32m     37\u001B[0m \u001B[38;5;250m\u001B[39m\u001B[38;5;124;03m\"\"\"Get the LLM.\"\"\"\u001B[39;00m\n\u001B[1;32m     38\u001B[0m \u001B[38;5;28;01mif\u001B[39;00m \u001B[38;5;28mself\u001B[39m\u001B[38;5;241m.\u001B[39m_llm \u001B[38;5;129;01mis\u001B[39;00m \u001B[38;5;28;01mNone\u001B[39;00m:\n\u001B[0;32m---> 39\u001B[0m     \u001B[38;5;28mself\u001B[39m\u001B[38;5;241m.\u001B[39m_llm \u001B[38;5;241m=\u001B[39m \u001B[43mresolve_llm\u001B[49m\u001B[43m(\u001B[49m\u001B[38;5;124;43m\"\u001B[39;49m\u001B[38;5;124;43mdefault\u001B[39;49m\u001B[38;5;124;43m\"\u001B[39;49m\u001B[43m)\u001B[49m\n\u001B[1;32m     41\u001B[0m \u001B[38;5;28;01mif\u001B[39;00m \u001B[38;5;28mself\u001B[39m\u001B[38;5;241m.\u001B[39m_callback_manager \u001B[38;5;129;01mis\u001B[39;00m \u001B[38;5;129;01mnot\u001B[39;00m \u001B[38;5;28;01mNone\u001B[39;00m:\n\u001B[1;32m     42\u001B[0m     \u001B[38;5;28mself\u001B[39m\u001B[38;5;241m.\u001B[39m_llm\u001B[38;5;241m.\u001B[39mcallback_manager \u001B[38;5;241m=\u001B[39m \u001B[38;5;28mself\u001B[39m\u001B[38;5;241m.\u001B[39m_callback_manager\n",
      "File \u001B[0;32m~/Library/Caches/pypoetry/virtualenvs/blog-tutorials-Rnapy5Av-py3.12/lib/python3.12/site-packages/llama_index/core/llms/utils.py:49\u001B[0m, in \u001B[0;36mresolve_llm\u001B[0;34m(llm, callback_manager)\u001B[0m\n\u001B[1;32m     44\u001B[0m         \u001B[38;5;28;01mraise\u001B[39;00m \u001B[38;5;167;01mImportError\u001B[39;00m(\n\u001B[1;32m     45\u001B[0m             \u001B[38;5;124m\"\u001B[39m\u001B[38;5;124m`llama-index-llms-openai` package not found, \u001B[39m\u001B[38;5;124m\"\u001B[39m\n\u001B[1;32m     46\u001B[0m             \u001B[38;5;124m\"\u001B[39m\u001B[38;5;124mplease run `pip install llama-index-llms-openai`\u001B[39m\u001B[38;5;124m\"\u001B[39m\n\u001B[1;32m     47\u001B[0m         )\n\u001B[1;32m     48\u001B[0m     \u001B[38;5;28;01mexcept\u001B[39;00m \u001B[38;5;167;01mValueError\u001B[39;00m \u001B[38;5;28;01mas\u001B[39;00m e:\n\u001B[0;32m---> 49\u001B[0m         \u001B[38;5;28;01mraise\u001B[39;00m \u001B[38;5;167;01mValueError\u001B[39;00m(\n\u001B[1;32m     50\u001B[0m             \u001B[38;5;124m\"\u001B[39m\u001B[38;5;130;01m\\n\u001B[39;00m\u001B[38;5;124m******\u001B[39m\u001B[38;5;130;01m\\n\u001B[39;00m\u001B[38;5;124m\"\u001B[39m\n\u001B[1;32m     51\u001B[0m             \u001B[38;5;124m\"\u001B[39m\u001B[38;5;124mCould not load OpenAI model. \u001B[39m\u001B[38;5;124m\"\u001B[39m\n\u001B[1;32m     52\u001B[0m             \u001B[38;5;124m\"\u001B[39m\u001B[38;5;124mIf you intended to use OpenAI, please check your OPENAI_API_KEY.\u001B[39m\u001B[38;5;130;01m\\n\u001B[39;00m\u001B[38;5;124m\"\u001B[39m\n\u001B[1;32m     53\u001B[0m             \u001B[38;5;124m\"\u001B[39m\u001B[38;5;124mOriginal error:\u001B[39m\u001B[38;5;130;01m\\n\u001B[39;00m\u001B[38;5;124m\"\u001B[39m\n\u001B[1;32m     54\u001B[0m             \u001B[38;5;124mf\u001B[39m\u001B[38;5;124m\"\u001B[39m\u001B[38;5;132;01m{\u001B[39;00me\u001B[38;5;132;01m!s}\u001B[39;00m\u001B[38;5;124m\"\u001B[39m\n\u001B[1;32m     55\u001B[0m             \u001B[38;5;124m\"\u001B[39m\u001B[38;5;130;01m\\n\u001B[39;00m\u001B[38;5;124mTo disable the LLM entirely, set llm=None.\u001B[39m\u001B[38;5;124m\"\u001B[39m\n\u001B[1;32m     56\u001B[0m             \u001B[38;5;124m\"\u001B[39m\u001B[38;5;130;01m\\n\u001B[39;00m\u001B[38;5;124m******\u001B[39m\u001B[38;5;124m\"\u001B[39m\n\u001B[1;32m     57\u001B[0m         )\n\u001B[1;32m     59\u001B[0m \u001B[38;5;28;01mif\u001B[39;00m \u001B[38;5;28misinstance\u001B[39m(llm, \u001B[38;5;28mstr\u001B[39m):\n\u001B[1;32m     60\u001B[0m     splits \u001B[38;5;241m=\u001B[39m llm\u001B[38;5;241m.\u001B[39msplit(\u001B[38;5;124m\"\u001B[39m\u001B[38;5;124m:\u001B[39m\u001B[38;5;124m\"\u001B[39m, \u001B[38;5;241m1\u001B[39m)\n",
      "\u001B[0;31mValueError\u001B[0m: \n******\nCould not load OpenAI model. If you intended to use OpenAI, please check your OPENAI_API_KEY.\nOriginal error:\nNo API key found for OpenAI.\nPlease set either the OPENAI_API_KEY environment variable or openai.api_key prior to initialization.\nAPI keys can be found or created at https://platform.openai.com/account/api-keys\n\nTo disable the LLM entirely, set llm=None.\n******"
     ]
    }
   ],
   "execution_count": 2
  },
  {
   "metadata": {},
   "cell_type": "markdown",
   "source": "",
   "id": "354d87c4c204bf8c"
  }
 ],
 "metadata": {
  "kernelspec": {
   "display_name": "Python 3",
   "language": "python",
   "name": "python3"
  },
  "language_info": {
   "codemirror_mode": {
    "name": "ipython",
    "version": 2
   },
   "file_extension": ".py",
   "mimetype": "text/x-python",
   "name": "python",
   "nbconvert_exporter": "python",
   "pygments_lexer": "ipython2",
   "version": "2.7.6"
  }
 },
 "nbformat": 4,
 "nbformat_minor": 5
}
